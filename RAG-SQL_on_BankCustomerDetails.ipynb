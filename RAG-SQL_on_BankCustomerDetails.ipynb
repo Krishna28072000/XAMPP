{
 "cells": [
  {
   "cell_type": "markdown",
   "metadata": {},
   "source": [
    "**Objective : To perform RAG-SQL on Bank Customers dataset**"
   ]
  },
  {
   "cell_type": "markdown",
   "metadata": {},
   "source": [
    "### Load all Essential Libraries"
   ]
  },
  {
   "cell_type": "code",
   "execution_count": 1,
   "metadata": {},
   "outputs": [],
   "source": [
    "from langchain.utilities import SQLDatabase\n",
    "from langchain.llms import OpenAI\n",
    "from langchain_experimental.sql import SQLDatabaseChain\n",
    "from langchain.prompts import PromptTemplate\n",
    "from langchain.prompts.chat import HumanMessagePromptTemplate\n",
    "from langchain.chat_models import ChatOpenAI\n",
    "from langchain.schema import HumanMessage, SystemMessage"
   ]
  },
  {
   "cell_type": "markdown",
   "metadata": {},
   "source": [
    "### Initialize the LLM"
   ]
  },
  {
   "cell_type": "code",
   "execution_count": 2,
   "metadata": {},
   "outputs": [
    {
     "name": "stderr",
     "output_type": "stream",
     "text": [
      "C:\\Users\\gkris\\AppData\\Local\\Temp\\ipykernel_22848\\1703113971.py:2: LangChainDeprecationWarning: The class `ChatOpenAI` was deprecated in LangChain 0.0.10 and will be removed in 1.0. An updated version of the class exists in the :class:`~langchain-openai package and should be used instead. To use it run `pip install -U :class:`~langchain-openai` and import as `from :class:`~langchain_openai import ChatOpenAI``.\n",
      "  llm = ChatOpenAI(temperature=0, openai_api_key=OPENAI_API_KEY)\n"
     ]
    }
   ],
   "source": [
    "OPENAI_API_KEY = \"ENTER_OPENAI_API_KEY\"\n",
    "llm = ChatOpenAI(temperature=0, openai_api_key=OPENAI_API_KEY)"
   ]
  },
  {
   "cell_type": "markdown",
   "metadata": {},
   "source": [
    "The API key is provided when you sign up for OpenAI's services and is required to access their language models (like GPT-3 or GPT-4). This key will be used later to interact with OpenAI’s language models through the ChatOpenAI class.\"temperature=0\" This controls the \"creativity\" or randomness of the language model"
   ]
  },
  {
   "cell_type": "markdown",
   "metadata": {},
   "source": [
    "### Database Setup"
   ]
  },
  {
   "cell_type": "code",
   "execution_count": 3,
   "metadata": {},
   "outputs": [],
   "source": [
    "host = 'localhost'\n",
    "port = '3306'\n",
    "username = 'root'\n",
    "#password = ''\n",
    "database_schema = 'assignmentsql'\n",
    "mysql_uri = f\"mysql+pymysql://{username}@{host}:{port}/{database_schema}\"\n",
    "#mysql_uri = f\"mysql+pymysql://{username:password}@{host}:{port}/{database_schema}\"\n",
    "db = SQLDatabase.from_uri(mysql_uri, include_tables=['book_'],sample_rows_in_table_info=2)\n",
    "db_chain = SQLDatabaseChain.from_llm(llm, db, verbose=True)"
   ]
  },
  {
   "cell_type": "markdown",
   "metadata": {},
   "source": [
    "This creates an instance of SQLDatabase, which establishes a connection to the MySQL database using the previously constructed mysql_uri. \"mysql_uri\" is the URI containing the credentials and details to connect to the MySQL database.db_chain\" creates a SQLDatabaseChain, which is responsible for converting natural language queries into SQL queries, running them against the MySQL database, and retrieving results. The chain uses both the language model (llm) and the database connection (db)."
   ]
  },
  {
   "cell_type": "markdown",
   "metadata": {},
   "source": [
    "### Function to Retrieve and Clean Database Query Result"
   ]
  },
  {
   "cell_type": "code",
   "execution_count": 4,
   "metadata": {},
   "outputs": [],
   "source": [
    "def retrieve_from_db(query: str) -> str:\n",
    "    db_context = db_chain(query)\n",
    "    db_context = db_context['result'].strip()\n",
    "    return db_context"
   ]
  },
  {
   "cell_type": "markdown",
   "metadata": {},
   "source": [
    "The retrieve_from_db function processes a query by passing it through a db_chain. It extracts the 'result' from the chain's output and removes any leading/trailing whitespace using .strip(). Finally, it returns the cleaned result as a string."
   ]
  },
  {
   "cell_type": "markdown",
   "metadata": {},
   "source": [
    "### Function to Generate Loan Scheme Information Response Based on User Query"
   ]
  },
  {
   "cell_type": "code",
   "execution_count": 5,
   "metadata": {},
   "outputs": [],
   "source": [
    "def generate(query: str) -> str:\n",
    "    db_context = retrieve_from_db(query)\n",
    "    \n",
    "    system_message = \"\"\"You are a bank loan expert specializing in loan schemes.\n",
    "        Your task is to answer users' questions by providing relevant information from a database of loan applicants.\n",
    "        The database contains the following information for each applicant:\n",
    "        - Income of the person\n",
    "        - Age of the person\n",
    "        - Experience in their field of work\n",
    "        - Marital status\n",
    "        - House ownership status\n",
    "        - Car ownership status\n",
    "        - Profession of the person\n",
    "        - City of residence\n",
    "        - State of residence\n",
    "        - Current job status\n",
    "        - Current housing status\n",
    "        - Risk flag (indicating the likelihood of loan repayment issues)\n",
    "    \n",
    "        \"\"\"\n",
    "    \n",
    "    human_qry_template = HumanMessagePromptTemplate.from_template(\n",
    "        \"\"\"Input:\n",
    "        {human_input}\n",
    "        \n",
    "        Context:\n",
    "        {db_context}\n",
    "        \n",
    "        Output:\n",
    "        \"\"\"\n",
    "    )\n",
    "    messages = [\n",
    "      SystemMessage(content=system_message),\n",
    "      human_qry_template.format(human_input=query, db_context=db_context)\n",
    "    ]\n",
    "    response = llm(messages).content\n",
    "    return response"
   ]
  },
  {
   "cell_type": "markdown",
   "metadata": {},
   "source": [
    "The generate function first retrieves the relevant database context using the retrieve_from_db function. It then formats a prompt for a language model with a system message that provides the context of loan applicants' data, followed by the user's query. The language model is then invoked to generate and return a response based on the input query and context."
   ]
  },
  {
   "cell_type": "markdown",
   "metadata": {},
   "source": [
    "### Generate and return the response from LLM"
   ]
  },
  {
   "cell_type": "code",
   "execution_count": 6,
   "metadata": {},
   "outputs": [
    {
     "name": "stderr",
     "output_type": "stream",
     "text": [
      "C:\\Users\\gkris\\AppData\\Local\\Temp\\ipykernel_22848\\3606437300.py:2: LangChainDeprecationWarning: The method `Chain.__call__` was deprecated in langchain 0.1.0 and will be removed in 1.0. Use :meth:`~invoke` instead.\n",
      "  db_context = db_chain(query)\n"
     ]
    },
    {
     "name": "stdout",
     "output_type": "stream",
     "text": [
      "\n",
      "\n",
      "\u001b[1m> Entering new SQLDatabaseChain chain...\u001b[0m\n",
      "how many applicants are there \n",
      "SQLQuery:\u001b[32;1m\u001b[1;3mSELECT COUNT(`Id`) AS `Total_Applicants` FROM book_\u001b[0m\n",
      "SQLResult: \u001b[33;1m\u001b[1;3m[(2499,)]\u001b[0m\n",
      "Answer:\u001b[32;1m\u001b[1;3mThere are 2499 applicants.\u001b[0m\n",
      "\u001b[1m> Finished chain.\u001b[0m\n"
     ]
    },
    {
     "name": "stderr",
     "output_type": "stream",
     "text": [
      "C:\\Users\\gkris\\AppData\\Local\\Temp\\ipykernel_22848\\3520852297.py:36: LangChainDeprecationWarning: The method `BaseChatModel.__call__` was deprecated in langchain-core 0.1.7 and will be removed in 1.0. Use :meth:`~invoke` instead.\n",
      "  response = llm(messages).content\n"
     ]
    },
    {
     "data": {
      "text/plain": [
       "'There are 2499 applicants in the database.'"
      ]
     },
     "execution_count": 6,
     "metadata": {},
     "output_type": "execute_result"
    }
   ],
   "source": [
    "generate(\"how many applicants are there \")"
   ]
  },
  {
   "cell_type": "code",
   "execution_count": 7,
   "metadata": {},
   "outputs": [
    {
     "name": "stdout",
     "output_type": "stream",
     "text": [
      "\n",
      "\n",
      "\u001b[1m> Entering new SQLDatabaseChain chain...\u001b[0m\n",
      "provide me names of states of applicants in the table\n",
      "SQLQuery:\u001b[32;1m\u001b[1;3mSELECT DISTINCT `STATE` FROM book_\u001b[0m\n",
      "SQLResult: \u001b[33;1m\u001b[1;3m[('Madhya_Pradesh',), ('Maharashtra',), ('Kerala',), ('Odisha',), ('Tamil_Nadu',), ('Gujarat',), ('Rajasthan',), ('Telangana',), ('Bihar',), ('Andhra_Pradesh',), ('West_Bengal',), ('Haryana',), ('Puducherry',), ('Karnataka',), ('Uttar_Pradesh',), ('Himachal_Pradesh',), ('Punjab',), ('Tripura',), ('Uttarakhand',), ('Jharkhand',), ('Mizoram',), ('Assam',), ('Jammu_and_Kashmir',), ('Delhi',), ('Chhattisgarh',), ('Chandigarh',), ('Uttar_Pradesh[5]',), ('Manipur',), ('Sikkim',)]\u001b[0m\n",
      "Answer:\u001b[32;1m\u001b[1;3mMadhya_Pradesh, Maharashtra, Kerala, Odisha, Tamil_Nadu, Gujarat, Rajasthan, Telangana, Bihar, Andhra_Pradesh, West_Bengal, Haryana, Puducherry, Karnataka, Uttar_Pradesh, Himachal_Pradesh, Punjab, Tripura, Uttarakhand, Jharkhand, Mizoram, Assam, Jammu_and_Kashmir, Delhi, Chhattisgarh, Chandigarh, Uttar_Pradesh[5], Manipur, Sikkim\u001b[0m\n",
      "\u001b[1m> Finished chain.\u001b[0m\n"
     ]
    },
    {
     "data": {
      "text/plain": [
       "'Madhya_Pradesh, Maharashtra, Kerala, Odisha, Tamil_Nadu, Gujarat, Rajasthan, Telangana, Bihar, Andhra_Pradesh, West_Bengal, Haryana, Puducherry, Karnataka, Uttar_Pradesh, Himachal_Pradesh, Punjab, Tripura, Uttarakhand, Jharkhand, Mizoram, Assam, Jammu_and_Kashmir, Delhi, Chhattisgarh, Chandigarh, Uttar_Pradesh, Manipur, Sikkim'"
      ]
     },
     "execution_count": 7,
     "metadata": {},
     "output_type": "execute_result"
    }
   ],
   "source": [
    "generate(\"provide me names of states of applicants in the table\")"
   ]
  },
  {
   "cell_type": "code",
   "execution_count": 8,
   "metadata": {},
   "outputs": [
    {
     "name": "stdout",
     "output_type": "stream",
     "text": [
      "\n",
      "\n",
      "\u001b[1m> Entering new SQLDatabaseChain chain...\u001b[0m\n",
      " provide me applicants who are having car ownership and from states UttarPradesh, Gujarat \n",
      "SQLQuery:\u001b[32;1m\u001b[1;3mSELECT `Id`, `Profession`, `Car_Ownership`, `STATE` \n",
      "FROM book_\n",
      "WHERE `Car_Ownership` = 'yes' AND (`STATE` = 'UttarPradesh' OR `STATE` = 'Gujarat')\n",
      "LIMIT 5;\u001b[0m\n",
      "SQLResult: \u001b[33;1m\u001b[1;3m[(64, 'Technical_writer', 'yes', 'Gujarat'), (93, 'Firefighter', 'yes', 'Gujarat'), (98, 'Software_Developer', 'yes', 'Gujarat'), (129, 'Chef', 'yes', 'Gujarat'), (352, 'Artist', 'yes', 'Gujarat')]\u001b[0m\n",
      "Answer:\u001b[32;1m\u001b[1;3mApplicants who have car ownership and are from the states of UttarPradesh and Gujarat are as follows:\n",
      "1. Profession: Technical_writer, Car_Ownership: yes, State: Gujarat\n",
      "2. Profession: Firefighter, Car_Ownership: yes, State: Gujarat\n",
      "3. Profession: Software_Developer, Car_Ownership: yes, State: Gujarat\n",
      "4. Profession: Chef, Car_Ownership: yes, State: Gujarat\n",
      "5. Profession: Artist, Car_Ownership: yes, State: Gujarat\u001b[0m\n",
      "\u001b[1m> Finished chain.\u001b[0m\n"
     ]
    },
    {
     "data": {
      "text/plain": [
       "'Here are the applicants who have car ownership and are from the states of UttarPradesh and Gujarat:\\n1. Profession: Technical_writer, Car_Ownership: yes, State: Gujarat\\n2. Profession: Firefighter, Car_Ownership: yes, State: Gujarat\\n3. Profession: Software_Developer, Car_Ownership: yes, State: Gujarat\\n4. Profession: Chef, Car_Ownership: yes, State: Gujarat\\n5. Profession: Artist, Car_Ownership: yes, State: Gujarat'"
      ]
     },
     "execution_count": 8,
     "metadata": {},
     "output_type": "execute_result"
    }
   ],
   "source": [
    "generate(\" provide me applicants who are having car ownership and from states UttarPradesh, Gujarat \")"
   ]
  },
  {
   "cell_type": "code",
   "execution_count": 9,
   "metadata": {},
   "outputs": [
    {
     "name": "stdout",
     "output_type": "stream",
     "text": [
      "\n",
      "\n",
      "\u001b[1m> Entering new SQLDatabaseChain chain...\u001b[0m\n",
      "How many applicants has martial status ,married\n",
      "SQLQuery:\u001b[32;1m\u001b[1;3mSELECT COUNT(*) AS Married_Applicants\n",
      "FROM book_\n",
      "WHERE Married = 'married'\n",
      "LIMIT 5;\u001b[0m\n",
      "SQLResult: \u001b[33;1m\u001b[1;3m[(262,)]\u001b[0m\n",
      "Answer:\u001b[32;1m\u001b[1;3mFinal answer: There are 262 applicants who have the marital status 'married'.\u001b[0m\n",
      "\u001b[1m> Finished chain.\u001b[0m\n"
     ]
    },
    {
     "data": {
      "text/plain": [
       "\"There are 262 applicants who have the marital status 'married'.\""
      ]
     },
     "execution_count": 9,
     "metadata": {},
     "output_type": "execute_result"
    }
   ],
   "source": [
    "generate(\"How many applicants has martial status ,married\")"
   ]
  },
  {
   "cell_type": "code",
   "execution_count": 10,
   "metadata": {},
   "outputs": [
    {
     "name": "stdout",
     "output_type": "stream",
     "text": [
      "\n",
      "\n",
      "\u001b[1m> Entering new SQLDatabaseChain chain...\u001b[0m\n",
      "how many members are having red flags and high income\n",
      "SQLQuery:\u001b[32;1m\u001b[1;3mSELECT COUNT(`Id`) AS `HighIncome_RedFlags`\n",
      "FROM book_\n",
      "WHERE `Income` > 5000000 AND `Risk_Flag` = 1\u001b[0m\n",
      "SQLResult: \u001b[33;1m\u001b[1;3m[(225,)]\u001b[0m\n",
      "Answer:\u001b[32;1m\u001b[1;3mThere are 225 members who have red flags and high income.\u001b[0m\n",
      "\u001b[1m> Finished chain.\u001b[0m\n"
     ]
    },
    {
     "data": {
      "text/plain": [
       "'There are 225 members who have red flags and high income.'"
      ]
     },
     "execution_count": 10,
     "metadata": {},
     "output_type": "execute_result"
    }
   ],
   "source": [
    "generate(\"how many members are having red flags and high income\")"
   ]
  },
  {
   "cell_type": "code",
   "execution_count": 11,
   "metadata": {},
   "outputs": [
    {
     "name": "stdout",
     "output_type": "stream",
     "text": [
      "\n",
      "\n",
      "\u001b[1m> Entering new SQLDatabaseChain chain...\u001b[0m\n",
      "Provide me how many members are feom state Maharashtra and theri hose status along with current city they are living \n",
      "SQLQuery:\u001b[32;1m\u001b[1;3mSELECT COUNT(*) AS `Number_of_Members`, `House_Ownership`, `CITY`\n",
      "FROM book_\n",
      "WHERE `STATE` = 'Maharashtra'\n",
      "GROUP BY `House_Ownership`, `CITY`\u001b[0m\n",
      "SQLResult: \u001b[33;1m\u001b[1;3m[(1, 'norent_noown', 'Dhule'), (1, 'norent_noown', 'Jalgaon'), (1, 'norent_noown', 'Jalna'), (1, 'norent_noown', 'Satara'), (1, 'norent_noown', 'Thane'), (1, 'owned', 'Ahmednagar'), (1, 'owned', 'Akola'), (1, 'owned', 'Amravati'), (1, 'owned', 'Kalyan-Dombivli'), (2, 'owned', 'Nagpur'), (2, 'owned', 'Nashik'), (1, 'owned', 'Panvel'), (1, 'owned', 'Parbhani'), (2, 'owned', 'Pimpri-Chinchwad'), (3, 'rented', 'Ahmednagar'), (4, 'rented', 'Akola'), (11, 'rented', 'Ambarnath'), (9, 'rented', 'Amravati'), (6, 'rented', 'Aurangabad'), (3, 'rented', 'Bhiwandi'), (7, 'rented', 'Bhusawal'), (1, 'rented', 'Chandrapur'), (11, 'rented', 'Dhule'), (10, 'rented', 'Ichalkaranji'), (5, 'rented', 'Jalgaon'), (8, 'rented', 'Jalna'), (8, 'rented', 'Kalyan-Dombivli'), (4, 'rented', 'Kolhapur'), (3, 'rented', 'Latur'), (10, 'rented', 'Malegaon'), (6, 'rented', 'Mira-Bhayandar'), (5, 'rented', 'Mumbai'), (7, 'rented', 'Nagpur'), (10, 'rented', 'Nanded'), (6, 'rented', 'Nashik'), (9, 'rented', 'Navi_Mumbai'), (6, 'rented', 'Panvel'), (10, 'rented', 'Parbhani'), (6, 'rented', 'Pimpri-Chinchwad'), (5, 'rented', 'Pune'), (6, 'rented', 'Sangli-Miraj_&_Kupwad'), (11, 'rented', 'Satara'), (5, 'rented', 'Solapur'), (9, 'rented', 'Thane'), (10, 'rented', 'Ulhasnagar'), (7, 'rented', 'Vasai-Virar')]\u001b[0m\n",
      "Answer:\u001b[32;1m\u001b[1;3mThere are members from Maharashtra with different house ownership statuses and the cities they are living in.\u001b[0m\n",
      "\u001b[1m> Finished chain.\u001b[0m\n"
     ]
    },
    {
     "data": {
      "text/plain": [
       "'There are 5 members from the state of Maharashtra with the following house ownership statuses and current cities they are living in:\\n1. House Status: Own, Current City: Mumbai\\n2. House Status: Rent, Current City: Pune\\n3. House Status: Own, Current City: Nagpur\\n4. House Status: Rent, Current City: Thane\\n5. House Status: Own, Current City: Nashik'"
      ]
     },
     "execution_count": 11,
     "metadata": {},
     "output_type": "execute_result"
    }
   ],
   "source": [
    "generate(\"Provide me how many members are feom state Maharashtra and theri hose status along with current city they are living \")"
   ]
  },
  {
   "cell_type": "code",
   "execution_count": 12,
   "metadata": {},
   "outputs": [
    {
     "name": "stdout",
     "output_type": "stream",
     "text": [
      "\n",
      "\n",
      "\u001b[1m> Entering new SQLDatabaseChain chain...\u001b[0m\n",
      "provide me state which is having high no. of applicants\n",
      "SQLQuery:\u001b[32;1m\u001b[1;3mSELECT `STATE`, COUNT(`Id`) AS `No_of_Applicants`\n",
      "FROM `book_`\n",
      "GROUP BY `STATE`\n",
      "ORDER BY `No_of_Applicants` DESC\n",
      "LIMIT 1;\u001b[0m\n",
      "SQLResult: \u001b[33;1m\u001b[1;3m[('Uttar_Pradesh', 279)]\u001b[0m\n",
      "Answer:\u001b[32;1m\u001b[1;3mUttar Pradesh\u001b[0m\n",
      "\u001b[1m> Finished chain.\u001b[0m\n"
     ]
    },
    {
     "data": {
      "text/plain": [
       "'Uttar Pradesh is the state with the highest number of loan applicants in our database.'"
      ]
     },
     "execution_count": 12,
     "metadata": {},
     "output_type": "execute_result"
    }
   ],
   "source": [
    "generate(\"provide me state which is having high no. of applicants\")"
   ]
  },
  {
   "cell_type": "code",
   "execution_count": 13,
   "metadata": {},
   "outputs": [
    {
     "name": "stdout",
     "output_type": "stream",
     "text": [
      "\n",
      "\n",
      "\u001b[1m> Entering new SQLDatabaseChain chain...\u001b[0m\n",
      " Provide me no. of people whose martial status is single and having income worth more than 100000 and having current job status \n",
      "SQLQuery:\u001b[32;1m\u001b[1;3mSELECT COUNT(*) AS Num_People\n",
      "FROM book_\n",
      "WHERE Married = 'single' AND Income > 100000 AND CURRENT_JOB_YRS > 0;\u001b[0m\n",
      "SQLResult: \u001b[33;1m\u001b[1;3m[(2105,)]\u001b[0m\n",
      "Answer:\u001b[32;1m\u001b[1;3mThere are 2105 people whose marital status is single, income is more than 100000, and have a current job status.\u001b[0m\n",
      "\u001b[1m> Finished chain.\u001b[0m\n"
     ]
    },
    {
     "data": {
      "text/plain": [
       "'There are 2105 people whose marital status is single, income is more than 100000, and have a current job status.'"
      ]
     },
     "execution_count": 13,
     "metadata": {},
     "output_type": "execute_result"
    }
   ],
   "source": [
    "generate(\" Provide me no. of people whose martial status is single and having income worth more than 100000 and having current job status \")"
   ]
  },
  {
   "cell_type": "code",
   "execution_count": 14,
   "metadata": {},
   "outputs": [
    {
     "name": "stdout",
     "output_type": "stream",
     "text": [
      "\n",
      "\n",
      "\u001b[1m> Entering new SQLDatabaseChain chain...\u001b[0m\n",
      "provide me names of applicants having profession as software engineer an having income between 1,00,000 to 1,50,000 and having martial status as single \n",
      "SQLQuery:\u001b[32;1m\u001b[1;3mSELECT `Id`, `Profession` \n",
      "FROM book_\n",
      "WHERE `Profession` = 'Software_Developer' \n",
      "AND `Income` BETWEEN 100000 AND 150000 \n",
      "AND `Married` = 'single'\n",
      "LIMIT 5;\u001b[0m\n",
      "SQLResult: \u001b[33;1m\u001b[1;3m[(484, 'Software_Developer')]\u001b[0m\n",
      "Answer:\u001b[32;1m\u001b[1;3mThe names of applicants having the profession as Software Developer, income between 100,000 and 150,000, and marital status as single are: Software_Developer.\u001b[0m\n",
      "\u001b[1m> Finished chain.\u001b[0m\n"
     ]
    },
    {
     "data": {
      "text/plain": [
       "'The names of applicants meeting your criteria are: Software_Developer.'"
      ]
     },
     "execution_count": 14,
     "metadata": {},
     "output_type": "execute_result"
    }
   ],
   "source": [
    "generate(\"provide me names of applicants having profession as software engineer an having income between 1,00,000 to 1,50,000 and having martial status as single \")"
   ]
  },
  {
   "cell_type": "code",
   "execution_count": 15,
   "metadata": {},
   "outputs": [
    {
     "name": "stdout",
     "output_type": "stream",
     "text": [
      "\n",
      "\n",
      "\u001b[1m> Entering new SQLDatabaseChain chain...\u001b[0m\n",
      " provide me the names of the state where applicants are having redflags and having house ownership as yes and having no car ownership \n",
      "SQLQuery:\u001b[32;1m\u001b[1;3mSELECT DISTINCT `STATE` \n",
      "FROM book_ \n",
      "WHERE `Risk_Flag` = 1 AND `House_Ownership` = 'owned' AND `Car_Ownership` = 'no'\n",
      "LIMIT 5;\u001b[0m\n",
      "SQLResult: \u001b[33;1m\u001b[1;3m[('Jharkhand',), ('Haryana',), ('Uttar_Pradesh',), ('Punjab',), ('West_Bengal',)]\u001b[0m\n",
      "Answer:\u001b[32;1m\u001b[1;3mJharkhand, Haryana, Uttar Pradesh, Punjab, West Bengal\u001b[0m\n",
      "\u001b[1m> Finished chain.\u001b[0m\n"
     ]
    },
    {
     "data": {
      "text/plain": [
       "'Applicants with red flags, house ownership as yes, and no car ownership are located in Haryana and Punjab.'"
      ]
     },
     "execution_count": 15,
     "metadata": {},
     "output_type": "execute_result"
    }
   ],
   "source": [
    "generate(\" provide me the names of the state where applicants are having redflags and having house ownership as yes and having no car ownership \")"
   ]
  },
  {
   "cell_type": "code",
   "execution_count": 16,
   "metadata": {},
   "outputs": [
    {
     "name": "stdout",
     "output_type": "stream",
     "text": [
      "\n",
      "\n",
      "\u001b[1m> Entering new SQLDatabaseChain chain...\u001b[0m\n",
      "provide me list of different professions applicants are having and how many members are in that profession\n",
      "SQLQuery:\u001b[32;1m\u001b[1;3mSELECT `Profession`, COUNT(`Profession`) AS `Number_of_Applicants` \n",
      "FROM book_ \n",
      "GROUP BY `Profession`\u001b[0m\n",
      "SQLResult: \u001b[33;1m\u001b[1;3m[('Air_traffic_controller', 55), ('Analyst', 42), ('Architect', 42), ('Army_officer', 43), ('Artist', 49), ('Aviator', 43), ('Biomedical_Engineer', 58), ('Chartered_Accountant', 44), ('Chef', 44), ('Chemical_engineer', 43), ('Civil_engineer', 38), ('Civil_servant', 43), ('Comedian', 59), ('Computer_hardware_engineer', 47), ('Computer_operator', 42), ('Consultant', 42), ('Dentist', 50), ('Designer', 48), ('Design_Engineer', 38), ('Drafter', 50), ('Economist', 51), ('Engineer', 49), ('Fashion_Designer', 59), ('Financial_Analyst', 53), ('Firefighter', 49), ('Flight_attendant', 59), ('Geologist', 43), ('Graphic_Designer', 57), ('Hotel_Manager', 51), ('Industrial_Engineer', 55), ('Lawyer', 53), ('Librarian', 44), ('Magistrate', 62), ('Mechanical_engineer', 55), ('Microbiologist', 44), ('Official', 34), ('Petroleum_Engineer', 49), ('Physician', 70), ('Police_officer', 51), ('Politician', 57), ('Psychologist', 55), ('Scientist', 43), ('Secretary', 57), ('Software_Developer', 52), ('Statistician', 43), ('Surgeon', 50), ('Surveyor', 48), ('Technical_writer', 55), ('Technician', 37), ('Technology_specialist', 47), ('Web_designer', 47)]\u001b[0m\n",
      "Answer:\u001b[32;1m\u001b[1;3mAir_traffic_controller: 55\n",
      "Analyst: 42\n",
      "Architect: 42\n",
      "Army_officer: 43\n",
      "Artist: 49\n",
      "Aviator: 43\n",
      "Biomedical_Engineer: 58\n",
      "Chartered_Accountant: 44\n",
      "Chef: 44\n",
      "Chemical_engineer: 43\n",
      "Civil_engineer: 38\n",
      "Civil_servant: 43\n",
      "Comedian: 59\n",
      "Computer_hardware_engineer: 47\n",
      "Computer_operator: 42\n",
      "Consultant: 42\n",
      "Dentist: 50\n",
      "Designer: 48\n",
      "Design_Engineer: 38\n",
      "Drafter: 50\n",
      "Economist: 51\n",
      "Engineer: 49\n",
      "Fashion_Designer: 59\n",
      "Financial_Analyst: 53\n",
      "Firefighter: 49\n",
      "Flight_attendant: 59\n",
      "Geologist: 43\n",
      "Graphic_Designer: 57\n",
      "Hotel_Manager: 51\n",
      "Industrial_Engineer: 55\n",
      "Lawyer: 53\n",
      "Librarian: 44\n",
      "Magistrate: 62\n",
      "Mechanical_engineer: 55\n",
      "Microbiologist: 44\n",
      "Official: 34\n",
      "Petroleum_Engineer: 49\n",
      "Physician: 70\n",
      "Police_officer: 51\n",
      "Politician: 57\n",
      "Psychologist: 55\n",
      "Scientist: 43\n",
      "Secretary: 57\n",
      "Software_Developer: 52\n",
      "Statistician: 43\n",
      "Surgeon: 50\n",
      "Surveyor: 48\n",
      "Technical_writer: 55\n",
      "Technician: 37\n",
      "Technology_specialist: 47\n",
      "Web_designer: 47\u001b[0m\n",
      "\u001b[1m> Finished chain.\u001b[0m\n"
     ]
    },
    {
     "data": {
      "text/plain": [
       "'Air_traffic_controller: 55\\nAnalyst: 42\\nArchitect: 42\\nArmy_officer: 43\\nArtist: 49\\nAviator: 43\\nBiomedical_Engineer: 58\\nChartered_Accountant: 44\\nChef: 44\\nChemical_engineer: 43\\nCivil_engineer: 38\\nCivil_servant: 43\\nComedian: 59\\nComputer_hardware_engineer: 47\\nComputer_operator: 42\\nConsultant: 42\\nDentist: 50\\nDesigner: 48\\nDesign_Engineer: 38\\nDrafter: 50\\nEconomist: 51\\nEngineer: 49\\nFashion_Designer: 59\\nFinancial_Analyst: 53\\nFirefighter: 49\\nFlight_attendant: 59\\nGeologist: 43\\nGraphic_Designer: 57\\nHotel_Manager: 51\\nIndustrial_Engineer: 55\\nLawyer: 53\\nLibrarian: 44\\nMagistrate: 62\\nMechanical_engineer: 55\\nMicrobiologist: 44\\nOfficial: 34\\nPetroleum_Engineer: 49\\nPhysician: 70\\nPolice_officer: 51\\nPolitician: 57\\nPsychologist: 55\\nScientist: 43\\nSecretary: 57\\nSoftware_Developer: 52\\nStatistician: 43\\nSurgeon: 50\\nSurveyor: 48\\nTechnical_writer: 55\\nTechnician: 37\\nTechnology_specialist: 47\\nWeb_designer: 47'"
      ]
     },
     "execution_count": 16,
     "metadata": {},
     "output_type": "execute_result"
    }
   ],
   "source": [
    "generate(\"provide me list of different professions applicants are having and how many members are in that profession\")"
   ]
  },
  {
   "cell_type": "code",
   "execution_count": 20,
   "metadata": {},
   "outputs": [
    {
     "name": "stdout",
     "output_type": "stream",
     "text": [
      "\n",
      "\n",
      "\u001b[1m> Entering new SQLDatabaseChain chain...\u001b[0m\n",
      "provide me applicants who are from Telangana and having profession as flight attendents \n",
      "SQLQuery:\u001b[32;1m\u001b[1;3mSELECT `Id`, `Income`, `Age`, `Experience`, `Married`, `House_Ownership`, `Car_Ownership`, `Profession`, `CITY`, `STATE`, `CURRENT_JOB_YRS`, `CURRENT_HOUSE_YRS`, `Risk_Flag`\n",
      "FROM book_\n",
      "WHERE `STATE` = 'Telangana' AND `Profession` = 'Flight_attendent'\n",
      "LIMIT 5;\u001b[0m\n",
      "SQLResult: \u001b[33;1m\u001b[1;3m\u001b[0m\n",
      "Answer:\u001b[32;1m\u001b[1;3mAnswer: There are no applicants from Telangana with the profession of Flight Attendant in the database.\u001b[0m\n",
      "\u001b[1m> Finished chain.\u001b[0m\n"
     ]
    },
    {
     "data": {
      "text/plain": [
       "'There are no applicants from Telangana with the profession of Flight Attendant in the database.'"
      ]
     },
     "execution_count": 20,
     "metadata": {},
     "output_type": "execute_result"
    }
   ],
   "source": [
    "generate(\"provide me applicants who are from Telangana and having profession as flight attendents \")"
   ]
  },
  {
   "cell_type": "code",
   "execution_count": 27,
   "metadata": {},
   "outputs": [
    {
     "name": "stdout",
     "output_type": "stream",
     "text": [
      "\n",
      "\n",
      "\u001b[1m> Entering new SQLDatabaseChain chain...\u001b[0m\n",
      "provide me applicants who are from Telangana and having profession as comedian \n",
      "SQLQuery:\u001b[32;1m\u001b[1;3mSELECT `Id`, `Income`, `Age`, `Experience`, `Married`, `House_Ownership`, `Car_Ownership`, `Profession`, `CITY`, `STATE`, `CURRENT_JOB_YRS`, `CURRENT_HOUSE_YRS`, `Risk_Flag` \n",
      "FROM book_\n",
      "WHERE `STATE` = 'Telangana' AND `Profession` = 'comedian'\n",
      "LIMIT 5;\u001b[0m\n",
      "SQLResult: \u001b[33;1m\u001b[1;3m[(510, 3177996, 28, 1, 'single', 'rented', 'no', 'Comedian', 'Nizamabad', 'Telangana', 1, 12, 0), (1436, 5288986, 47, 3, 'single', 'rented', 'no', 'Comedian', 'Miryalaguda', 'Telangana', 3, 12, 0), (1751, 4433480, 27, 9, 'single', 'rented', 'no', 'Comedian', 'Ramagundam[27]', 'Telangana', 9, 12, 0)]\u001b[0m\n",
      "Answer:\u001b[32;1m\u001b[1;3mThere are 3 applicants from Telangana with the profession as a comedian.\u001b[0m\n",
      "\u001b[1m> Finished chain.\u001b[0m\n"
     ]
    },
    {
     "data": {
      "text/plain": [
       "'1. Applicant 1:\\n   - Income: $30,000\\n   - Age: 35\\n   - Experience: 8 years\\n   - Marital Status: Single\\n   - House Ownership: Rent\\n   - Car Ownership: No\\n   - Profession: Comedian\\n   - City: Hyderabad\\n   - State: Telangana\\n   - Current Job Status: Full-time\\n   - Current Housing Status: Rent\\n   - Risk Flag: Low\\n   \\n2. Applicant 2:\\n   - Income: $25,000\\n   - Age: 40\\n   - Experience: 10 years\\n   - Marital Status: Married\\n   - House Ownership: Own\\n   - Car Ownership: Yes\\n   - Profession: Comedian\\n   - City: Warangal\\n   - State: Telangana\\n   - Current Job Status: Part-time\\n   - Current Housing Status: Own\\n   - Risk Flag: Medium\\n   \\n3. Applicant 3:\\n   - Income: $20,000\\n   - Age: 28\\n   - Experience: 5 years\\n   - Marital Status: Single\\n   - House Ownership: Rent\\n   - Car Ownership: No\\n   - Profession: Comedian\\n   - City: Karimnagar\\n   - State: Telangana\\n   - Current Job Status: Full-time\\n   - Current Housing Status: Rent\\n   - Risk Flag: Low'"
      ]
     },
     "execution_count": 27,
     "metadata": {},
     "output_type": "execute_result"
    }
   ],
   "source": [
    "generate(\"provide me applicants who are from Telangana and having profession as comedian \")"
   ]
  },
  {
   "cell_type": "code",
   "execution_count": 28,
   "metadata": {},
   "outputs": [
    {
     "name": "stdout",
     "output_type": "stream",
     "text": [
      "\n",
      "\n",
      "\u001b[1m> Entering new SQLDatabaseChain chain...\u001b[0m\n",
      "provide me names of cities in which persons profession is police\n",
      "SQLQuery:\u001b[32;1m\u001b[1;3mSELECT DISTINCT `CITY` \n",
      "FROM book_ \n",
      "WHERE `Profession` = 'Police'\n",
      "LIMIT 5;\u001b[0m\n",
      "SQLResult: \u001b[33;1m\u001b[1;3m\u001b[0m\n",
      "Answer:\u001b[32;1m\u001b[1;3mAnswer: There are no cities in the database where a person's profession is listed as \"Police\".\u001b[0m\n",
      "\u001b[1m> Finished chain.\u001b[0m\n"
     ]
    },
    {
     "data": {
      "text/plain": [
       "'There are no cities in the database where a person\\'s profession is listed as \"Police\".'"
      ]
     },
     "execution_count": 28,
     "metadata": {},
     "output_type": "execute_result"
    }
   ],
   "source": [
    "generate(\"provide me names of cities in which persons profession is police\")"
   ]
  }
 ],
 "metadata": {
  "kernelspec": {
   "display_name": "Python 3",
   "language": "python",
   "name": "python3"
  },
  "language_info": {
   "codemirror_mode": {
    "name": "ipython",
    "version": 3
   },
   "file_extension": ".py",
   "mimetype": "text/x-python",
   "name": "python",
   "nbconvert_exporter": "python",
   "pygments_lexer": "ipython3",
   "version": "3.12.8"
  }
 },
 "nbformat": 4,
 "nbformat_minor": 2
}
