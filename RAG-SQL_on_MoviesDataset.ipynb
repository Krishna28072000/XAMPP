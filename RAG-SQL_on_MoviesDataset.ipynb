{
 "cells": [
  {
   "cell_type": "markdown",
   "metadata": {},
   "source": [
    "**Objective : Performing RAG-SQL on moviedataset**"
   ]
  },
  {
   "cell_type": "markdown",
   "metadata": {},
   "source": [
    "### Installing essential Libraries"
   ]
  },
  {
   "cell_type": "code",
   "execution_count": 1,
   "metadata": {},
   "outputs": [],
   "source": [
    "from langchain.utilities import SQLDatabase\n",
    "from langchain.llms import OpenAI\n",
    "from langchain_experimental.sql import SQLDatabaseChain\n",
    "from langchain.prompts import PromptTemplate\n",
    "from langchain.prompts.chat import HumanMessagePromptTemplate\n",
    "from langchain.chat_models import ChatOpenAI\n",
    "from langchain.schema import HumanMessage, SystemMessage"
   ]
  },
  {
   "cell_type": "markdown",
   "metadata": {},
   "source": [
    "### Setting up an environment"
   ]
  },
  {
   "cell_type": "code",
   "execution_count": 2,
   "metadata": {},
   "outputs": [
    {
     "name": "stderr",
     "output_type": "stream",
     "text": [
      "C:\\Users\\gkris\\AppData\\Local\\Temp\\ipykernel_13912\\1176118321.py:2: LangChainDeprecationWarning: The class `ChatOpenAI` was deprecated in LangChain 0.0.10 and will be removed in 1.0. An updated version of the class exists in the :class:`~langchain-openai package and should be used instead. To use it run `pip install -U :class:`~langchain-openai` and import as `from :class:`~langchain_openai import ChatOpenAI``.\n",
      "  llm = ChatOpenAI(temperature=1, openai_api_key=OPENAI_API_KEY)\n"
     ]
    }
   ],
   "source": [
    "OPENAI_API_KEY = \"ENTER_OPENAI_API_KEY_HERE\"\n",
    "llm = ChatOpenAI(temperature=1, openai_api_key=OPENAI_API_KEY)"
   ]
  },
  {
   "cell_type": "markdown",
   "metadata": {},
   "source": [
    "The API key is provided when you sign up for OpenAI's services and is required to access their language models (like GPT-3 or GPT-4). This key will be used later to interact with OpenAI’s language models through the ChatOpenAI class.\"temperature\" This controls the \"creativity\" or randomness of the language model."
   ]
  },
  {
   "cell_type": "markdown",
   "metadata": {},
   "source": [
    "### Database Setup"
   ]
  },
  {
   "cell_type": "code",
   "execution_count": 4,
   "metadata": {},
   "outputs": [],
   "source": [
    "host = 'localhost'\n",
    "port = '3306'\n",
    "username = 'root'\n",
    "#password = ''\n",
    "database_schema = 'hwdmoviesql'\n",
    "mysql_uri = f\"mysql+pymysql://{username}@{host}:{port}/{database_schema}\"\n",
    "#mysql_uri = f\"mysql+pymysql://{username:password}@{host}:{port}/{database_schema}\"\n",
    "db = SQLDatabase.from_uri(mysql_uri, include_tables=['hollywood_movies'],sample_rows_in_table_info=2)\n",
    "db_chain = SQLDatabaseChain.from_llm(llm, db, verbose=True)"
   ]
  },
  {
   "cell_type": "markdown",
   "metadata": {},
   "source": [
    "This code constructs a MySQL connection URI using credentials and connects to a database (hwdmoviesql) on a local MySQL server. It then creates an instance of SQLDatabase to interact with the hollywood_movies table and sets up an SQLDatabaseChain to link a language model (llm) with the database for querying. The chain is set to be verbose, providing detailed output."
   ]
  },
  {
   "cell_type": "code",
   "execution_count": 5,
   "metadata": {},
   "outputs": [],
   "source": [
    "def retrieve_from_db(query: str) -> str:\n",
    "    db_context = db_chain(query)\n",
    "    db_context = db_context['result'].strip()\n",
    "    return db_context"
   ]
  },
  {
   "cell_type": "markdown",
   "metadata": {},
   "source": [
    "The retrieve_from_db function processes a query by passing it through a db_chain. It extracts the 'result' from the chain's output and removes any leading/trailing whitespace using .strip(). Finally, it returns the cleaned result as a string."
   ]
  },
  {
   "cell_type": "markdown",
   "metadata": {},
   "source": [
    "### Function to Generate Movie Information Response Based on User Query"
   ]
  },
  {
   "cell_type": "code",
   "execution_count": 6,
   "metadata": {},
   "outputs": [],
   "source": [
    "def generate(query: str) -> str:\n",
    "    db_context = retrieve_from_db(query)\n",
    "    \n",
    "    system_message = \"\"\"You are a movie database expert specializing in Telugu cinema.\n",
    "        Your task is to answer users' questions by providing relevant information from a database of Telugu movies.\n",
    "        The database contains the following information for each movie:\n",
    "        - Name of the movie\n",
    "        - Year of release\n",
    "        - Certificate given by the censor board\n",
    "        - Movie genre\n",
    "        - A brief description or plot of the movie\n",
    "        - Duration in minutes\n",
    "        - IMDb Rating\n",
    "        - Number of people who rated the movie\n",
    "        \n",
    "        Example:\n",
    "        \n",
    "        Input:\n",
    "        Which Telugu movies released in 2021 have the highest IMDb ratings?\n",
    "        \n",
    "        Context:\n",
    "        The Telugu movies released in 2021 with the highest IMDb ratings are:\n",
    "        1. Movie A - IMDb Rating: 8.5\n",
    "        2. Movie B - IMDb Rating: 8.3\n",
    "        \n",
    "        Output:\n",
    "        The highest-rated Telugu movies released in 2021 are Movie A (IMDb Rating: 8.5) and Movie B (IMDb Rating: 8.3).\n",
    "        \"\"\"\n",
    "    \n",
    "    human_qry_template = HumanMessagePromptTemplate.from_template(\n",
    "        \"\"\"Input:\n",
    "        {human_input}\n",
    "        \n",
    "        Context:\n",
    "        {db_context}\n",
    "        \n",
    "        Output:\n",
    "        \"\"\"\n",
    "    )\n",
    "    messages = [\n",
    "      SystemMessage(content=system_message),\n",
    "      human_qry_template.format(human_input=query, db_context=db_context)\n",
    "    ]\n",
    "    response = llm(messages).content\n",
    "    return response"
   ]
  },
  {
   "cell_type": "markdown",
   "metadata": {},
   "source": [
    "The generate function first retrieves the relevant database context using the retrieve_from_db function. It then formats a prompt for a language model with a system message that provides the context of movies' data, followed by the user's query. The language model is then invoked to generate and return a response based on the input query and context."
   ]
  },
  {
   "cell_type": "markdown",
   "metadata": {},
   "source": [
    "### Generating the queries and obtaining responses"
   ]
  },
  {
   "cell_type": "code",
   "execution_count": 7,
   "metadata": {},
   "outputs": [
    {
     "name": "stderr",
     "output_type": "stream",
     "text": [
      "C:\\Users\\gkris\\AppData\\Local\\Temp\\ipykernel_13912\\3606437300.py:2: LangChainDeprecationWarning: The method `Chain.__call__` was deprecated in langchain 0.1.0 and will be removed in 1.0. Use :meth:`~invoke` instead.\n",
      "  db_context = db_chain(query)\n"
     ]
    },
    {
     "name": "stdout",
     "output_type": "stream",
     "text": [
      "\n",
      "\n",
      "\u001b[1m> Entering new SQLDatabaseChain chain...\u001b[0m\n",
      "how many no. of movies has comedy genre\n",
      "SQLQuery:\u001b[32;1m\u001b[1;3mSELECT COUNT(*) AS num_movies\n",
      "FROM hollywood_movies\n",
      "WHERE genre = 'Comedy'\u001b[0m\n",
      "SQLResult: \u001b[33;1m\u001b[1;3m[(127,)]\u001b[0m\n",
      "Answer:\u001b[32;1m\u001b[1;3mThere are 127 movies with the genre 'Comedy'.\u001b[0m\n",
      "\u001b[1m> Finished chain.\u001b[0m\n"
     ]
    },
    {
     "name": "stderr",
     "output_type": "stream",
     "text": [
      "C:\\Users\\gkris\\AppData\\Local\\Temp\\ipykernel_13912\\3798320535.py:44: LangChainDeprecationWarning: The method `BaseChatModel.__call__` was deprecated in langchain-core 0.1.7 and will be removed in 1.0. Use :meth:`~invoke` instead.\n",
      "  response = llm(messages).content\n"
     ]
    },
    {
     "data": {
      "text/plain": [
       "'There are 127 movies with the comedy genre.'"
      ]
     },
     "execution_count": 7,
     "metadata": {},
     "output_type": "execute_result"
    }
   ],
   "source": [
    "generate(\"how many no. of movies has comedy genre\")"
   ]
  },
  {
   "cell_type": "code",
   "execution_count": 8,
   "metadata": {},
   "outputs": [
    {
     "name": "stdout",
     "output_type": "stream",
     "text": [
      "\n",
      "\n",
      "\u001b[1m> Entering new SQLDatabaseChain chain...\u001b[0m\n",
      "which movies has low no.of rarting\n",
      "SQLQuery:\u001b[32;1m\u001b[1;3mSELECT `movie`, `rating` \n",
      "FROM `hollywood_movies` \n",
      "WHERE `rating` < 5 \n",
      "ORDER BY `rating` ASC \n",
      "LIMIT 5;\u001b[0m\n",
      "SQLResult: \u001b[33;1m\u001b[1;3m[('Movie 43', Decimal('1.0')), ('Movie 416', Decimal('1.0')), ('Movie 386', Decimal('1.0')), ('Movie 328', Decimal('1.0')), ('Movie 344', Decimal('1.0'))]\u001b[0m\n",
      "Answer:\u001b[32;1m\u001b[1;3mMovies with low ratings are:\n",
      "1. Movie 43 - Rating: 1.0\n",
      "2. Movie 416 - Rating: 1.0\n",
      "3. Movie 386 - Rating: 1.0\n",
      "4. Movie 328 - Rating: 1.0\n",
      "5. Movie 344 - Rating: 1.0\u001b[0m\n",
      "\u001b[1m> Finished chain.\u001b[0m\n"
     ]
    },
    {
     "data": {
      "text/plain": [
       "'Movies with low ratings are:\\n1. Movie 43 - Rating: 1.0\\n2. Movie 416 - Rating: 1.0\\n3. Movie 386 - Rating: 1.0\\n4. Movie 328 - Rating: 1.0\\n5. Movie 344 - Rating: 1.0'"
      ]
     },
     "execution_count": 8,
     "metadata": {},
     "output_type": "execute_result"
    }
   ],
   "source": [
    "generate(\"which movies has low no.of rarting\")"
   ]
  },
  {
   "cell_type": "code",
   "execution_count": 9,
   "metadata": {},
   "outputs": [
    {
     "name": "stdout",
     "output_type": "stream",
     "text": [
      "\n",
      "\n",
      "\u001b[1m> Entering new SQLDatabaseChain chain...\u001b[0m\n",
      " provide me a movie which has very sad description and high no. of ratings \n",
      "SQLQuery:\u001b[32;1m\u001b[1;3mSELECT `movie`, `rating` \n",
      "FROM `hollywood_movies` \n",
      "WHERE `description` LIKE '%sad%' AND `rating` >= 8.0 \n",
      "LIMIT 1;\u001b[0m\n",
      "SQLResult: \u001b[33;1m\u001b[1;3m\u001b[0m\n",
      "Answer:\u001b[32;1m\u001b[1;3mThere are no movies that have a very sad description and a rating above 8.0.\u001b[0m\n",
      "\u001b[1m> Finished chain.\u001b[0m\n"
     ]
    },
    {
     "data": {
      "text/plain": [
       "'There are currently no movies in the database with a very sad description and a rating above 8.0.'"
      ]
     },
     "execution_count": 9,
     "metadata": {},
     "output_type": "execute_result"
    }
   ],
   "source": [
    "generate(\" provide me a movie which has very sad description and high no. of ratings \")"
   ]
  },
  {
   "cell_type": "code",
   "execution_count": 10,
   "metadata": {},
   "outputs": [
    {
     "name": "stdout",
     "output_type": "stream",
     "text": [
      "\n",
      "\n",
      "\u001b[1m> Entering new SQLDatabaseChain chain...\u001b[0m\n",
      "provide me movies which has comedy genre and high runtime with max ratings\n",
      "SQLQuery:\u001b[32;1m\u001b[1;3mSELECT \n",
      "    `id`, \n",
      "    `movie`, \n",
      "    `genre`, \n",
      "    `runtime`, \n",
      "    `rating`\n",
      "FROM \n",
      "    `hollywood_movies`\n",
      "WHERE \n",
      "    `genre` = 'Comedy' AND `runtime` > 120\n",
      "ORDER BY \n",
      "    `rating` DESC\n",
      "LIMIT 5;\u001b[0m\n",
      "SQLResult: \u001b[33;1m\u001b[1;3m[(3, 'Movie 3', 'Comedy', 166, Decimal('9.8')), (104, 'Movie 104', 'Comedy', 161, Decimal('9.7')), (764, 'Movie 764', 'Comedy', 170, Decimal('9.7')), (1104, 'Movie 1104', 'Comedy', 169, Decimal('9.4')), (545, 'Movie 545', 'Comedy', 132, Decimal('9.2'))]\u001b[0m\n",
      "Answer:\u001b[32;1m\u001b[1;3mMovie 3, Movie 104, Movie 764, Movie 1104, and Movie 545 are the movies with the comedy genre, high runtime (>120), and the highest ratings.\u001b[0m\n",
      "\u001b[1m> Finished chain.\u001b[0m\n"
     ]
    },
    {
     "data": {
      "text/plain": [
       "'The Telugu movies with comedy genre, high runtime (>120 minutes), and the highest ratings are Movie 3, Movie 104, Movie 764, Movie 1104, and Movie 545.'"
      ]
     },
     "execution_count": 10,
     "metadata": {},
     "output_type": "execute_result"
    }
   ],
   "source": [
    "generate(\"provide me movies which has comedy genre and high runtime with max ratings\")"
   ]
  },
  {
   "cell_type": "code",
   "execution_count": 11,
   "metadata": {},
   "outputs": [
    {
     "name": "stdout",
     "output_type": "stream",
     "text": [
      "\n",
      "\n",
      "\u001b[1m> Entering new SQLDatabaseChain chain...\u001b[0m\n",
      "provide me movies which has sci-fi genre with high runtime\n",
      "SQLQuery:\u001b[32;1m\u001b[1;3mSELECT `movie`, `genre`, `runtime`\n",
      "FROM `hollywood_movies`\n",
      "WHERE `genre` = 'Sci-Fi'\n",
      "ORDER BY `runtime` DESC\n",
      "LIMIT 5;\u001b[0m\n",
      "SQLResult: \u001b[33;1m\u001b[1;3m[('Movie 1020', 'Sci-Fi', 180), ('Movie 634', 'Sci-Fi', 180), ('Movie 688', 'Sci-Fi', 180), ('Movie 1217', 'Sci-Fi', 178), ('Movie 721', 'Sci-Fi', 178)]\u001b[0m\n",
      "Answer:\u001b[32;1m\u001b[1;3mMovie 1020, Movie 634, Movie 688, Movie 1217, Movie 721\u001b[0m\n",
      "\u001b[1m> Finished chain.\u001b[0m\n"
     ]
    },
    {
     "data": {
      "text/plain": [
       "'The Telugu movies with a sci-fi genre and high runtime are:\\n1. Movie 1020 - Runtime: XXX minutes\\n2. Movie 634 - Runtime: XXX minutes\\n3. Movie 688 - Runtime: XXX minutes\\n4. Movie 1217 - Runtime: XXX minutes\\n5. Movie 721 - Runtime: XXX minutes'"
      ]
     },
     "execution_count": 11,
     "metadata": {},
     "output_type": "execute_result"
    }
   ],
   "source": [
    "generate(\"provide me movies which has sci-fi genre with high runtime\")"
   ]
  },
  {
   "cell_type": "code",
   "execution_count": 13,
   "metadata": {},
   "outputs": [
    {
     "name": "stdout",
     "output_type": "stream",
     "text": [
      "\n",
      "\n",
      "\u001b[1m> Entering new SQLDatabaseChain chain...\u001b[0m\n",
      "provide me movies with horror genre and released in the year between 2000 and 2010\n",
      "SQLQuery:\u001b[32;1m\u001b[1;3mSELECT `movie`, `year`\n",
      "FROM `hollywood_movies`\n",
      "WHERE `genre` = 'Horror' AND `year` BETWEEN 2000 AND 2010\n",
      "LIMIT 5;\u001b[0m\n",
      "SQLResult: \u001b[33;1m\u001b[1;3m[('Movie 29', 2006), ('Movie 47', 2002), ('Movie 190', 2006), ('Movie 252', 2007), ('Movie 375', 2010)]\u001b[0m\n",
      "Answer:\u001b[32;1m\u001b[1;3mMovie 29, Movie 47, Movie 190, Movie 252, Movie 375\u001b[0m\n",
      "\u001b[1m> Finished chain.\u001b[0m\n"
     ]
    },
    {
     "data": {
      "text/plain": [
       "'The Telugu horror movies with the genre released between the years 2000 and 2010 are:\\n1. Movie 29\\n2. Movie 47\\n3. Movie 190\\n4. Movie 252\\n5. Movie 375'"
      ]
     },
     "execution_count": 13,
     "metadata": {},
     "output_type": "execute_result"
    }
   ],
   "source": [
    "generate(\"provide me movies with horror genre and released in the year between 2000 and 2010\")"
   ]
  },
  {
   "cell_type": "code",
   "execution_count": 14,
   "metadata": {},
   "outputs": [
    {
     "name": "stdout",
     "output_type": "stream",
     "text": [
      "\n",
      "\n",
      "\u001b[1m> Entering new SQLDatabaseChain chain...\u001b[0m\n",
      " provide me the movies with comedy genre\n",
      "SQLQuery:\u001b[32;1m\u001b[1;3mSELECT `id`, `movie`, `year`\n",
      "FROM `hollywood_movies`\n",
      "WHERE `genre` = 'Comedy'\n",
      "LIMIT 5;\u001b[0m\n",
      "SQLResult: \u001b[33;1m\u001b[1;3m[(2, 'Movie 2', 2013), (3, 'Movie 3', 2021), (16, 'Movie 16', 1992), (17, 'Movie 17', 1983), (53, 'Movie 53', 1992)]\u001b[0m\n",
      "Answer:\u001b[32;1m\u001b[1;3mMovie 2 from the year 2013.\n",
      "Movie 3 from the year 2021.\n",
      "Movie 16 from the year 1992.\n",
      "Movie 17 from the year 1983.\n",
      "Movie 53 from the year 1992.\u001b[0m\n",
      "\u001b[1m> Finished chain.\u001b[0m\n"
     ]
    },
    {
     "data": {
      "text/plain": [
       "'The Telugu movies with the comedy genre are:\\n1. Movie 2 (2013) - Comedy genre\\n2. Movie 3 (2021) - Comedy genre'"
      ]
     },
     "execution_count": 14,
     "metadata": {},
     "output_type": "execute_result"
    }
   ],
   "source": [
    "generate(\" provide me the movies with comedy genre\")"
   ]
  }
 ],
 "metadata": {
  "kernelspec": {
   "display_name": "Python 3",
   "language": "python",
   "name": "python3"
  },
  "language_info": {
   "codemirror_mode": {
    "name": "ipython",
    "version": 3
   },
   "file_extension": ".py",
   "mimetype": "text/x-python",
   "name": "python",
   "nbconvert_exporter": "python",
   "pygments_lexer": "ipython3",
   "version": "3.12.8"
  }
 },
 "nbformat": 4,
 "nbformat_minor": 2
}
