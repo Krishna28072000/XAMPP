{
 "cells": [
  {
   "cell_type": "markdown",
   "metadata": {},
   "source": [
    "**Objective : TO perform RAG-SQL on Movies Dataset**"
   ]
  },
  {
   "cell_type": "markdown",
   "metadata": {},
   "source": [
    "### Installing all dependencies"
   ]
  },
  {
   "cell_type": "code",
   "execution_count": 1,
   "metadata": {},
   "outputs": [],
   "source": [
    "from langchain.utilities import SQLDatabase\n",
    "from langchain.llms import OpenAI\n",
    "from langchain_experimental.sql import SQLDatabaseChain\n",
    "from langchain.prompts import PromptTemplate\n",
    "from langchain.prompts.chat import HumanMessagePromptTemplate\n",
    "from langchain.chat_models import ChatOpenAI\n",
    "from langchain.schema import HumanMessage, SystemMessage"
   ]
  },
  {
   "cell_type": "markdown",
   "metadata": {},
   "source": [
    "### Setting up Environment"
   ]
  },
  {
   "cell_type": "code",
   "execution_count": 2,
   "metadata": {},
   "outputs": [
    {
     "name": "stderr",
     "output_type": "stream",
     "text": [
      "C:\\Users\\gkris\\AppData\\Local\\Temp\\ipykernel_19460\\1703113971.py:2: LangChainDeprecationWarning: The class `ChatOpenAI` was deprecated in LangChain 0.0.10 and will be removed in 1.0. An updated version of the class exists in the :class:`~langchain-openai package and should be used instead. To use it run `pip install -U :class:`~langchain-openai` and import as `from :class:`~langchain_openai import ChatOpenAI``.\n",
      "  llm = ChatOpenAI(temperature=0, openai_api_key=OPENAI_API_KEY)\n"
     ]
    }
   ],
   "source": [
    "OPENAI_API_KEY = \"ENTER_API_KEY_HERE\"\n",
    "llm = ChatOpenAI(temperature=0, openai_api_key=OPENAI_API_KEY)"
   ]
  },
  {
   "cell_type": "markdown",
   "metadata": {},
   "source": [
    "The API key is provided when you sign up for OpenAI's services and is required to access their language models (like GPT-3 or GPT-4). This key will be used later to interact with OpenAI’s language models through the ChatOpenAI class.\"temperature=0\" This controls the \"creativity\" or randomness of the language model"
   ]
  },
  {
   "cell_type": "markdown",
   "metadata": {},
   "source": [
    "### Database Setup"
   ]
  },
  {
   "cell_type": "code",
   "execution_count": 3,
   "metadata": {},
   "outputs": [],
   "source": [
    "host = 'localhost'\n",
    "port = '3306'\n",
    "username = 'root'\n",
    "#password = ''\n",
    "database_schema = 'banksql'\n",
    "mysql_uri = f\"mysql+pymysql://{username}@{host}:{port}/{database_schema}\"\n",
    "#mysql_uri = f\"mysql+pymysql://{username:password}@{host}:{port}/{database_schema}\"\n",
    "db = SQLDatabase.from_uri(mysql_uri, include_tables=['p6_uk_bank_customers'],sample_rows_in_table_info=4)\n",
    "db_chain = SQLDatabaseChain.from_llm(llm, db, verbose=True,top_k = 2500)"
   ]
  },
  {
   "cell_type": "markdown",
   "metadata": {},
   "source": [
    "This creates an instance of SQLDatabase, which establishes a connection to the MySQL database using the previously constructed mysql_uri. \"mysql_uri\" is the URI containing the credentials and details to connect to the MySQL database.db_chain\" creates a SQLDatabaseChain, which is responsible for converting natural language queries into SQL queries, running them against the MySQL database, and retrieving results. The chain uses both the language model (llm) and the database connection (db)."
   ]
  },
  {
   "cell_type": "markdown",
   "metadata": {},
   "source": [
    "### Function to Retrieve and Clean Database Query Result"
   ]
  },
  {
   "cell_type": "code",
   "execution_count": 4,
   "metadata": {},
   "outputs": [],
   "source": [
    "def retrieve_from_db(query: str) -> str:\n",
    "    db_context = db_chain(query)\n",
    "    db_context = db_context['result'].strip()\n",
    "    return db_context"
   ]
  },
  {
   "cell_type": "markdown",
   "metadata": {},
   "source": [
    "The retrieve_from_db function processes a query by passing it through a db_chain. It extracts the 'result' from the chain's output and removes any leading/trailing whitespace using .strip(). Finally, it returns the cleaned result as a string."
   ]
  },
  {
   "cell_type": "markdown",
   "metadata": {},
   "source": [
    "### Function to Generate Bank Customer Details Information Response Based on User Query"
   ]
  },
  {
   "cell_type": "code",
   "execution_count": 15,
   "metadata": {},
   "outputs": [],
   "source": [
    "def generate(query: str) -> str:\n",
    "    db_context = retrieve_from_db(query)\n",
    "    \n",
    "    system_message = \"\"\"You are a bank SQL expert specializing in account schemes.\n",
    "        Your task is to answer users' questions by providing relevant information from a database of bank applicants.\n",
    "        The database contains the following information for each applicant:\n",
    "        - Customer ID : To know the unique identifier of customer from database.\n",
    "        - Name : To know the customer name\n",
    "        - Surname : To differentiate the customers having same name.\n",
    "        - Gender : To know whether customer is male or female.\n",
    "        - Age : To know current age of customers.\n",
    "        - Region : To know The specific residence of customer\n",
    "        - Job Classification : To know specific postion of customer in terms of job wise.\n",
    "        - Date Joined : To know when he joined the bank.\n",
    "        - Balance : To know the current balance of customers in the bank.\n",
    "        \"\"\"\n",
    "    \n",
    "    human_qry_template = HumanMessagePromptTemplate.from_template(\n",
    "        \"\"\"Input:\n",
    "        {human_input}\n",
    "        \n",
    "        Context:\n",
    "        {db_context}\n",
    "        \n",
    "        Output:\n",
    "        \"\"\"\n",
    "    )\n",
    "    messages = [\n",
    "      SystemMessage(content=system_message),\n",
    "      human_qry_template.format(human_input=query, db_context=db_context)\n",
    "    ]\n",
    "    response = llm(messages).content\n",
    "    return response"
   ]
  },
  {
   "cell_type": "markdown",
   "metadata": {},
   "source": [
    "The generate function first retrieves the relevant database context using the retrieve_from_db function. It then formats a prompt for a language model with a system message that provides the context of loan applicants' data, followed by the user's query. The language model is then invoked to generate and return a response based on the input query and context."
   ]
  },
  {
   "cell_type": "markdown",
   "metadata": {},
   "source": [
    "### Generating Queries"
   ]
  },
  {
   "cell_type": "code",
   "execution_count": null,
   "metadata": {},
   "outputs": [
    {
     "name": "stderr",
     "output_type": "stream",
     "text": [
      "C:\\Users\\gkris\\AppData\\Local\\Temp\\ipykernel_19460\\3606437300.py:2: LangChainDeprecationWarning: The method `Chain.__call__` was deprecated in langchain 0.1.0 and will be removed in 1.0. Use :meth:`~invoke` instead.\n",
      "  db_context = db_chain(query)\n"
     ]
    },
    {
     "name": "stdout",
     "output_type": "stream",
     "text": [
      "\n",
      "\n",
      "\u001b[1m> Entering new SQLDatabaseChain chain...\u001b[0m\n",
      "provide me the names of customers from england\n",
      "SQLQuery:\u001b[32;1m\u001b[1;3mSELECT `Name`\n",
      "FROM p6_uk_bank_customers\n",
      "WHERE `Region` = 'England'\n",
      "LIMIT 2500;\u001b[0m\n",
      "SQLResult: \u001b[33;1m\u001b[1;3m[('Simon',), ('Liam',), ('Deirdre',), ('Dorothy',), ('Dominic',), ('Dominic',), ('Benjamin',), ('Ryan',), ('Nicholas',), ('William',), ('Audrey',), ('Jennifer',), ('Alison',), ('Luke',), ('Megan',), ('Jake',), ('Karen',), ('Yvonne',), ('Sophie',), ('Robert',), ('Edward',), ('Diane',), ('Dorothy',), ('Simon',), ('Charles',), ('Sophie',), ('Kimberly',), ('Madeleine',), ('Irene',), ('Cameron',), ('Liam',), ('Donna',), ('Piers',), ('Phil',), ('Ryan',), ('Kylie',), ('Fiona',), ('Kevin',), ('Bernadette',), ('Frank',), ('Diane',), ('David',), ('Joan',), ('Neil',), ('Paul',), ('Dylan',), ('Pippa',), ('Matt',), ('Jack',), ('Jasmine',), ('Michelle',), ('Wanda',), ('Blake',), ('Jane',), ('Dan',), ('Lisa',), ('Rebecca',), ('Joshua',), ('Heather',), ('Maria',), ('Alison',), ('Amy',), ('Vanessa',), ('Andrea',), ('Ian',), ('Jacob',), ('Harry',), ('John',), ('Jonathan',), ('Benjamin',), ('Emma',), ('Virginia',), ('Peter',), ('Alison',), ('Anna',), ('James',), ('Ruth',), ('Owen',), ('Piers',), ('Christopher',), ('Sarah',), ('Richard',), ('Nicola',), ('Angela',), ('Sam',), ('Luke',), ('Sean',), ('Steven',), ('Andrew',), ('Jacob',), ('Madeleine',), ('Dylan',), ('Michelle',), ('Connor',), ('Justin',), ('Elizabeth',), ('Kevin',), ('Tim',), ('Charles',), ('Anthony',), ('Michael',), ('Lucas',), ('Alexander',), ('Diana',), ('Emma',), ('Amanda',), ('Blake',), ('Natalie',), ('John',), ('Nicholas',), ('Hannah',), ('Penelope',), ('Max',), ('Wendy',), ('Thomas',), ('Dan',), ('Dan',), ('Mary',), ('Austin',), ('Christian',), ('Peter',), ('Cameron',), ('Emma',), ('Pippa',), ('Wendy',), ('Vanessa',), ('Oliver',), ('Jane',), ('James',), ('Amanda',), ('Jennifer',), ('Blake',), ('Tim',), ('Jasmine',), ('Karen',), ('Oliver',), ('Fiona',), ('Yvonne',), ('Fiona',), ('Anna',), ('Wanda',), ('Blake',), ('Phil',), ('Christian',), ('Robert',), ('Eric',), ('Tracey',), ('Faith',), ('Alan',), ('Nathan',), ('Carolyn',), ('Theresa',), ('Alexander',), ('Maria',), ('Sally',), ('Jessica',), ('Lucas',), ('Christian',), ('Piers',), ('Gordon',), ('Connor',), ('Virginia',), ('Yvonne',), ('Dan',), ('Audrey',), ('Trevor',), ('Stewart',), ('Brian',), ('Jessica',), ('Carol',), ('Alison',), ('Natalie',), ('John',), ('Oliver',), ('Amanda',), ('Paul',), ('Brian',), ('Matt',), ('Justin',), ('Claire',), ('James',), ('Brandon',), ('Amelia',), ('Fiona',), ('Nicholas',), ('Lauren',), ('Stewart',), ('Diane',), ('Jake',), ('Rose',), ('Victor',), ('Brandon',), ('Maria',), ('Irene',), ('Blake',), ('Stephanie',), ('Sam',), ('Theresa',), ('Stephanie',), ('Lily',), ('Matt',), ('Ruth',), ('Peter',), ('Liam',), ('Olivia',), ('Joe',), ('Wanda',), ('Karen',), ('Nathan',), ('Brandon',), ('Penelope',), ('Sophie',), ('Anna',), ('Zoe',), ('Brian',), ('Andrea',), ('Kevin',), ('Phil',), ('Adrian',), ('John',), ('Alexander',), ('Felicity',), ('Lucas',), ('Blake',), ('Jessica',), ('Nicola',), ('Peter',), ('Mary',), ('Liam',), ('Anna',), ('John',), ('Ryan',), ('Adam',), ('Alison',), ('Joanne',), ('David',), ('Boris',), ('Felicity',), ('Dominic',), ('Megan',), ('Deirdre',), ('Wendy',), ('Jonathan',), ('Carolyn',), ('Carolyn',), ('Karen',), ('Tracey',), ('Tracey',), ('Jake',), ('Jasmine',), ('Christian',), ('Eric',), ('Anna',), ('Benjamin',), ('Joseph',), ('Emma',), ('Joan',), ('Samantha',), ('Harry',), ('Melanie',), ('Piers',), ('Kimberly',), ('Anthony',), ('Jasmine',), ('Jacob',), ('Leonard',), ('Kylie',), ('Ruth',), ('Stewart',), ('Cameron',), ('Dan',), ('Boris',), ('Samantha',), ('Kimberly',), ('Brian',), ('Wendy',), ('Isaac',), ('Bella',), ('Sean',), ('Justin',), ('Melanie',), ('Rose',), ('Christian',), ('Tracey',), ('Peter',), ('Kimberly',), ('Edward',), ('Eric',), ('Amanda',), ('Kevin',), ('Donna',), ('Chloe',), ('Bernadette',), ('Kevin',), ('Emma',), ('Deirdre',), ('Grace',), ('Victoria',), ('Pippa',), ('Penelope',), ('Alexander',), ('Joan',), ('Sonia',), ('Anne',), ('Chloe',), ('Ian',), ('Julia',), ('Donna',), ('Sue',), ('Jan',), ('Grace',), ('Jacob',), ('Lillian',), ('Brandon',), ('Joanne',), ('Leonard',), ('Grace',), ('Diane',), ('Alison',), ('Oliver',), ('Gabrielle',), ('Nicola',), ('Connor',), ('David',), ('Sam',), ('Dylan',), ('Michael',), ('Madeleine',), ('Yvonne',), ('Nathan',), ('Jane',), ('Angela',), ('Jasmine',), ('Ruth',), ('Alison',), ('Evan',), ('Andrew',), ('Lily',), ('Brian',), ('Rose',), ('David',), ('Amanda',), ('Eric',), ('Alison',), ('Brandon',), ('Dylan',), ('Emily',), ('Dominic',), ('Victoria',), ('Yvonne',), ('Ruth',), ('Kevin',), ('Michael',), ('Penelope',), ('David',), ('Jan',), ('Angela',), ('Julia',), ('Katherine',), ('Justin',), ('Una',), ('Brandon',), ('Jan',), ('Ruth',), ('Victor',), ('Ava',), ('Keith',), ('Wendy',), ('Joe',), ('Alexander',), ('Austin',), ('Sonia',), ('Penelope',), ('Christopher',), ('Kylie',), ('Brian',), ('Sonia',), ('Tracey',), ('Penelope',), ('Karen',), ('Fiona',), ('Gordon',), ('Steven',), ('Dylan',), ('Cameron',), ('Melanie',), ('Tracey',), ('Trevor',), ('Heather',), ('Jason',), ('Sean',), ('Amy',), ('Steven',), ('David',), ('Leonard',), ('Bella',), ('Felicity',), ('Nathan',), ('Gavin',), ('Donna',), ('Felicity',), ('Virginia',), ('Tim',), ('Lily',), ('Austin',), ('Victor',), ('Claire',), ('Carl',), ('Simon',), ('Amy',), ('Rebecca',), ('Sally',), ('Jack',), ('Evan',), ('Nicola',), ('Justin',), ('Max',), ('Joshua',), ('Sally',), ('Chloe',), ('Julia',), ('Jason',), ('Tracey',), ('Megan',), ('Felicity',), ('Ryan',), ('Rachel',), ('Joan',), ('Piers',), ('Sarah',), ('Lisa',), ('Vanessa',), ('Stephen',), ('Piers',), ('Alexandra',), ('Christopher',), ('Donna',), ('Faith',), ('Hannah',), ('Samantha',), ('Amelia',), ('Fiona',), ('Rose',), ('Jake',), ('Caroline',), ('Edward',), ('Christopher',), ('Andrea',), ('Deirdre',), ('Natalie',), ('Steven',), ('William',), ('Sally',), ('Andrea',), ('Andrew',), ('Dan',), ('Victoria',), ('Stephen',), ('Fiona',), ('Amelia',), ('Maria',), ('Abigail',), ('Gavin',), ('Heather',), ('Felicity',), ('Alexandra',), ('Karen',), ('Frank',), ('Justin',), ('Jessica',), ('Abigail',), ('Edward',), ('Sophie',), ('Abigail',), ('Peter',), ('Liam',), ('Julia',), ('William',), ('Victoria',), ('Deirdre',), ('Michelle',), ('Andrew',), ('Benjamin',), ('Felicity',), ('Paul',), ('Grace',), ('Michael',), ('Cameron',), ('Amy',), ('Luke',), ('Chloe',), ('Lauren',), ('Robert',), ('Colin',), ('Paul',), ('Eric',), ('Jacob',), ('Nicholas',), ('Joan',), ('Ella',), ('Una',), ('Joe',), ('Paul',), ('Emma',), ('Fiona',), ('Jessica',), ('Christopher',), ('Lily',), ('Claire',), ('Tim',), ('Connor',), ('Stephanie',), ('William',), ('Connor',), ('Emma',), ('Eric',), ('Jacob',), ('Nicholas',), ('Kimberly',), ('Keith',), ('Diana',), ('Julia',), ('Joan',), ('Michael',), ('Faith',), ('Donna',), ('Harry',), ('Jack',), ('Anne',), ('Edward',), ('Katherine',), ('Molly',), ('Anne',), ('Robert',), ('Brian',), ('Julia',), ('Alexandra',), ('Robert',), ('Amanda',), ('Pippa',), ('Rebecca',), ('Adam',), ('Chloe',), ('Victoria',), ('Sam',), ('Keith',), ('Natalie',), ('Jack',), ('Angela',), ('Sonia',), ('Olivia',), ('Richard',), ('Grace',), ('Isaac',), ('Deirdre',), ('Owen',), ('Lucas',), ('Heather',), ('Matt',), ('Anthony',), ('Julia',), ('Karen',), ('Owen',), ('Joan',), ('Madeleine',), ('Gordon',), ('Evan',), ('Sean',), ('Evan',), ('Carol',), ('Robert',), ('Jane',), ('Kimberly',), ('Madeleine',), ('Gordon',), ('Boris',), ('Robert',), ('Felicity',), ('Owen',), ('Bernadette',), ('Sean',), ('Phil',), ('Ava',), ('Caroline',), ('Colin',), ('Rose',), ('Christopher',), ('Michael',), ('Zoe',), ('Madeleine',), ('Owen',), ('Oliver',), ('Leah',), ('Zoe',), ('Alan',), ('Christopher',), ('Yvonne',), ('Penelope',), ('Gavin',), ('Sebastian',), ('Diane',), ('Keith',), ('Jack',), ('Madeleine',), ('Lucas',), ('Michael',), ('Julian',), ('Karen',), ('Rebecca',), ('Deirdre',), ('Sophie',), ('Connor',), ('Michelle',), ('Sally',), ('Lucas',), ('Natalie',), ('Ella',), ('Matt',), ('Adam',), ('Carolyn',), ('Adam',), ('Melanie',), ('Samantha',), ('Sonia',), ('Julian',), ('Mary',), ('Lisa',), ('Simon',), ('Stewart',), ('Nicola',), ('Lillian',), ('Piers',), ('Kevin',), ('Wanda',), ('Caroline',), ('Andrew',), ('Stewart',), ('Lucas',), ('Richard',), ('Leah',), ('John',), ('Wanda',), ('Gordon',), ('Cameron',), ('Kylie',), ('Virginia',), ('Peter',), ('Joseph',), ('Victor',), ('Alexander',), ('Amy',), ('Joan',), ('Luke',), ('Adam',), ('Thomas',), ('Carolyn',), ('Katherine',), ('Joe',), ('Amy',), ('Boris',), ('Faith',), ('Dorothy',), ('Bella',), ('Colin',), ('Eric',), ('Michelle',), ('Alison',), ('Charles',), ('Dan',), ('Penelope',), ('Simon',), ('Jan',), ('Michael',), ('Heather',), ('Jane',), ('Steven',), ('Carol',), ('Owen',), ('Boris',), ('Yvonne',), ('Carl',), ('Deirdre',), ('Madeleine',), ('Faith',), ('Jake',), ('Stephanie',), ('Jack',), ('Edward',), ('Connor',), ('Brandon',), ('Alexandra',), ('Gordon',), ('Karen',), ('Kevin',), ('Adrian',), ('Dominic',), ('Benjamin',), ('Zoe',), ('Kylie',), ('Simon',), ('Ava',), ('Joshua',), ('Sebastian',), ('Brandon',), ('Hannah',), ('Sam',), ('Peter',), ('Austin',), ('Jack',), ('Trevor',), ('Ella',), ('Penelope',), ('Diane',), ('Jason',), ('Stephanie',), ('Gavin',), ('Tracey',), ('Grace',), ('Stephen',), ('Jessica',), ('Jason',), ('Audrey',), ('Adam',), ('Lillian',), ('Gabrielle',), ('Pippa',), ('Jasmine',), ('Leah',), ('Julia',), ('David',), ('Cameron',), ('Lucas',), ('Nicola',), ('Sebastian',), ('Phil',), ('Rebecca',), ('Lucas',), ('Ian',), ('Anna',), ('Diane',), ('Abigail',), ('Katherine',), ('Rose',), ('Alexander',), ('Zoe',), ('Warren',), ('Colin',), ('Olivia',), ('Christian',), ('Olivia',), ('Lily',), ('Irene',), ('Trevor',), ('Samantha',), ('Eric',), ('Sebastian',), ('Joan',), ('Ian',), ('Dominic',), ('Amelia',), ('Connor',), ('Jack',), ('Nathan',), ('Fiona',), ('Sonia',), ('Christopher',), ('Una',), ('Lillian',), ('Owen',), ('Deirdre',), ('Joanne',), ('Frank',), ('Julian',), ('Lillian',), ('Justin',), ('Jonathan',), ('Victoria',), ('Paul',), ('Chloe',), ('Anthony',), ('Gavin',), ('Isaac',), ('Adam',), ('John',), ('Simon',), ('Dorothy',), ('Evan',), ('Wanda',), ('Nicholas',), ('Victoria',), ('Dorothy',), ('Maria',), ('Megan',), ('Julian',), ('Dominic',), ('Dan',), ('Anna',), ('Boris',), ('Caroline',), ('Oliver',), ('Sally',), ('Samantha',), ('Gabrielle',), ('Donna',), ('Trevor',), ('Penelope',), ('Lauren',), ('Kimberly',), ('David',), ('Tim',), ('Jonathan',), ('Hannah',), ('Madeleine',), ('Bella',), ('Yvonne',), ('Keith',), ('Karen',), ('James',), ('Angela',), ('Sonia',), ('David',), ('Andrew',), ('Amelia',), ('Emma',), ('Sophie',), ('Tracey',), ('Christopher',), ('Joanne',), ('Rose',), ('Dominic',), ('Lisa',), ('Jan',), ('Blake',), ('Keith',), ('Lauren',), ('Steven',), ('Samantha',), ('Adam',), ('Wendy',), ('Sonia',), ('Rebecca',), ('Sean',), ('James',), ('Victoria',), ('Kevin',), ('Tim',), ('Dominic',), ('Leah',), ('Diane',), ('Boris',), ('Neil',), ('Bernadette',), ('Katherine',), ('Jacob',), ('Irene',), ('Emma',), ('Madeleine',), ('Lily',), ('Nicholas',), ('Edward',), ('Pippa',), ('Ryan',), ('Jan',), ('Paul',), ('Amanda',), ('Rachel',), ('Gordon',), ('Heather',), ('Zoe',), ('Simon',), ('Grace',), ('Jason',), ('Faith',), ('Warren',), ('Boris',), ('Nathan',), ('Bernadette',), ('Madeleine',), ('Deirdre',), ('Paul',), ('John',), ('Chloe',), ('Eric',), ('Steven',), ('Phil',), ('Trevor',), ('Kimberly',), ('Gabrielle',), ('Edward',), ('Caroline',), ('Jacob',), ('Boris',), ('Keith',), ('Cameron',), ('Kimberly',), ('Colin',), ('Jasmine',), ('Deirdre',), ('Steven',), ('Trevor',), ('Abigail',), ('Andrea',), ('Victor',), ('Phil',), ('Frank',), ('Oliver',), ('Angela',), ('Jan',), ('Charles',), ('Liam',), ('Kylie',), ('Heather',), ('Boris',), ('Dylan',), ('Tim',), ('Ian',), ('Keith',), ('John',), ('Amanda',), ('Faith',), ('Una',), ('Stewart',), ('Justin',), ('Lucas',), ('Edward',), ('Sonia',), ('Jasmine',), ('Natalie',), ('Jason',), ('Alan',), ('Grace',), ('Nicola',), ('Oliver',), ('Jasmine',), ('Stephanie',), ('Amelia',), ('Una',), ('Amy',), ('Cameron',), ('Angela',), ('Joe',), ('Jonathan',), ('Jason',), ('Donna',), ('Anna',), ('Nicholas',), ('Julian',), ('Colin',), ('Zoe',), ('Bernadette',), ('Ella',), ('Evan',), ('Sebastian',), ('Ruth',), ('Carol',), ('Karen',), ('Harry',), ('Jane',), ('Jonathan',), ('Adrian',), ('Liam',), ('Michelle',), ('Molly',), ('Jan',), ('Michelle',), ('Colin',), ('James',), ('Joseph',), ('Lisa',), ('Sean',), ('Simon',), ('Nicola',), ('Jane',), ('Adam',), ('Wanda',), ('Michael',), ('Piers',), ('Edward',), ('Yvonne',), ('Keith',), ('Donna',), ('Richard',), ('Carolyn',), ('Chloe',), ('Wendy',), ('Brian',), ('Jasmine',), ('Phil',), ('Alan',), ('Simon',), ('Katherine',), ('Joseph',), ('Jonathan',), ('Sally',), ('David',), ('Ian',), ('Carolyn',), ('Liam',), ('Trevor',), ('Heather',), ('Max',), ('Olivia',), ('Justin',), ('Justin',), ('Joseph',), ('Charles',), ('Eric',), ('Jack',), ('Sebastian',), ('Joshua',), ('Brandon',), ('Amelia',), ('Nathan',), ('Simon',), ('Alan',), ('Michelle',), ('Alan',), ('Ian',), ('Andrew',), ('Molly',), ('Ruth',), ('Amelia',), ('Ian',), ('Edward',), ('Bernadette',), ('Jan',), ('Ruth',), ('Maria',), ('Deirdre',), ('Keith',), ('Tim',), ('Neil',), ('Grace',), ('Irene',), ('Grace',), ('Oliver',), ('James',), ('Gordon',), ('Kevin',), ('Joanne',), ('Matt',), ('Alan',), ('Sarah',), ('Anne',), ('Elizabeth',), ('Gordon',), ('Brian',), ('Brandon',), ('Rebecca',), ('Pippa',), ('Ryan',), ('Thomas',), ('Sam',), ('Adam',), ('Victoria',), ('Samantha',), ('Benjamin',), ('Deirdre',), ('David',), ('Anne',), ('Sophie',), ('Chloe',), ('Alison',), ('Justin',), ('Jason',), ('Paul',), ('Joshua',), ('Jane',), ('Matt',), ('Phil',), ('Sam',), ('Audrey',), ('Zoe',), ('Zoe',), ('James',), ('Thomas',), ('Deirdre',), ('Emily',), ('Karen',), ('Sally',), ('Joan',), ('Alan',), ('Frank',), ('Dominic',), ('Emily',), ('Fiona',), ('Nathan',), ('Austin',), ('Penelope',), ('Michelle',), ('Stephanie',), ('Connor',), ('Lisa',), ('Amy',), ('Adrian',), ('Luke',), ('Penelope',), ('Virginia',), ('Dylan',), ('Liam',), ('Colin',), ('Stewart',), ('Maria',), ('Ruth',), ('Boris',), ('Andrew',), ('Keith',), ('Jane',), ('Maria',), ('Owen',), ('Blake',), ('Bella',), ('Lillian',), ('Sam',), ('Owen',), ('Vanessa',), ('Edward',), ('Warren',), ('Owen',), ('Alison',), ('Ava',), ('Jasmine',), ('Sebastian',), ('Molly',), ('Leah',), ('Phil',), ('Phil',), ('Adrian',), ('Harry',), ('Austin',), ('Jason',), ('Jasmine',), ('Victoria',), ('Dominic',), ('Joseph',), ('Ava',), ('Harry',), ('Megan',), ('Sarah',), ('Chloe',), ('Jason',), ('Katherine',), ('Alan',), ('Mary',), ('Una',), ('Sonia',), ('Elizabeth',), ('Heather',), ('Dan',), ('Andrea',), ('Sebastian',), ('Andrew',), ('Adam',), ('Bernadette',), ('Harry',), ('Richard',), ('Felicity',), ('Sue',), ('Thomas',), ('Leah',), ('Nathan',), ('Andrea',), ('Michael',), ('Sonia',), ('Wanda',), ('Sophie',), ('Isaac',), ('Phil',), ('Irene',), ('Neil',), ('Lauren',), ('Maria',), ('Joan',), ('Luke',), ('Nicola',), ('Blake',), ('Mary',), ('Audrey',), ('Charles',), ('Anthony',), ('Lily',), ('Caroline',), ('Adrian',), ('Jennifer',), ('Michael',), ('Deirdre',), ('William',), ('Dominic',), ('Hannah',), ('Theresa',), ('Stephanie',), ('John',), ('Kylie',), ('Leonard',), ('Benjamin',), ('Melanie',), ('Heather',), ('Amy',), ('Sam',), ('Stephen',), ('Ryan',), ('Gavin',), ('Warren',), ('Madeleine',), ('Jonathan',), ('Faith',), ('Piers',), ('Jessica',), ('Jake',), ('Andrea',), ('Richard',), ('Theresa',), ('Felicity',), ('Penelope',), ('Gordon',), ('Colin',), ('Jack',), ('Gavin',), ('Sean',), ('Katherine',), ('Grace',), ('Gordon',), ('Oliver',), ('Luke',), ('Sue',), ('Sophie',), ('Anna',), ('Oliver',), ('Diane',), ('Molly',), ('Richard',), ('Benjamin',), ('Brandon',), ('Wendy',), ('Colin',), ('Diana',), ('Tim',), ('Julian',), ('Wanda',), ('Fiona',), ('Alexander',), ('Boris',), ('Sean',), ('Phil',), ('Grace',), ('Eric',), ('Bella',), ('John',), ('Amy',), ('Warren',), ('Rebecca',), ('Wendy',), ('Connor',), ('Ruth',), ('Cameron',), ('Joseph',), ('Wanda',), ('Peter',), ('John',), ('Robert',), ('Emily',), ('Amy',), ('Virginia',), ('Mary',), ('Robert',), ('Frank',), ('Jake',), ('Chloe',), ('Diane',), ('Nathan',), ('Trevor',), ('Diane',), ('Andrew',), ('Deirdre',), ('Julia',), ('Yvonne',), ('Carol',), ('Samantha',), ('Oliver',), ('Jacob',), ('Yvonne',), ('Carl',), ('Alexander',), ('Amelia',), ('John',), ('Austin',), ('Natalie',), ('Gavin',), ('Nicholas',), ('Sam',), ('Dylan',), ('Vanessa',), ('Lillian',), ('Jake',), ('Megan',), ('Nicholas',), ('Diana',), ('Owen',), ('Steven',), ('Sally',), ('Megan',), ('Bella',), ('Colin',), ('William',), ('Sally',), ('Kevin',), ('Tim',), ('Dan',), ('Amanda',), ('Megan',), ('Stephanie',), ('Dominic',), ('Dorothy',), ('Ella',), ('Jessica',), ('Matt',), ('Theresa',), ('Leonard',), ('Ruth',), ('Nicholas',), ('Dan',), ('Tim',), ('Dorothy',), ('Ian',), ('Maria',), ('Andrew',), ('Ava',), ('Chloe',), ('Maria',), ('Alexandra',), ('Adrian',), ('Emma',), ('Mary',), ('Ian',), ('Lauren',), ('Jessica',), ('Emily',), ('Gavin',), ('Wendy',), ('Karen',), ('Michael',), ('Ruth',), ('Steven',), ('Audrey',), ('Adrian',), ('Jason',), ('Warren',), ('Kimberly',), ('Rachel',), ('Evan',), ('Alison',), ('Anne',), ('Stephen',), ('Leonard',), ('Heather',), ('John',), ('Grace',), ('Matt',), ('Lauren',), ('Rebecca',), ('Carolyn',), ('Adrian',), ('Nicholas',), ('Carolyn',), ('Anne',), ('Warren',), ('Joshua',), ('Dorothy',), ('Jacob',), ('Ruth',), ('Grace',), ('Ruth',), ('Amanda',), ('Harry',), ('Charles',), ('Diana',), ('Simon',), ('Gordon',), ('Christopher',), ('Paul',), ('Sebastian',), ('Jan',), ('Irene',), ('Grace',), ('Ruth',), ('Neil',), ('Fiona',), ('Nicholas',), ('Diana',), ('Jan',), ('Harry',), ('Brian',), ('Joanne',), ('Heather',), ('Owen',), ('Elizabeth',), ('Phil',), ('Natalie',), ('Amanda',), ('Karen',), ('Carol',), ('John',), ('Justin',), ('Peter',), ('Yvonne',), ('Samantha',), ('Jacob',), ('Chloe',), ('Heather',), ('James',), ('Jessica',), ('Olivia',), ('Chloe',), ('Kevin',), ('Ian',), ('Christian',), ('Nathan',), ('Liam',), ('Hannah',), ('Alison',), ('Edward',), ('David',), ('Sean',), ('Carl',), ('Dorothy',), ('Lisa',), ('Matt',), ('Rose',), ('Trevor',), ('Stephen',), ('Matt',), ('Dominic',), ('Mary',), ('Ryan',), ('Austin',), ('Audrey',), ('Nicholas',), ('Rebecca',), ('Matt',), ('Jason',), ('Penelope',), ('Carol',), ('Mary',), ('Yvonne',), ('Alan',), ('Rachel',), ('Jonathan',), ('Rachel',), ('Warren',), ('Jennifer',), ('Diane',), ('Nicholas',), ('Matt',), ('Bella',), ('Caroline',), ('Charles',), ('Charles',), ('Stephen',), ('Julian',), ('Amy',), ('Deirdre',), ('Bella',), ('Luke',), ('Claire',), ('Andrew',), ('Liam',), ('Chloe',), ('Adam',), ('Bernadette',), ('Dan',), ('Amelia',), ('Rachel',), ('Evan',), ('Mary',), ('Ella',), ('Emma',), ('Jason',), ('Diana',), ('Edward',), ('Anna',), ('Gavin',), ('Ella',), ('Amanda',), ('Grace',), ('Evan',), ('Jason',), ('Ian',), ('Michael',), ('Faith',), ('Madeleine',), ('Luke',), ('Natalie',), ('Jack',), ('Michael',), ('Virginia',), ('Sally',), ('Connor',), ('Gavin',), ('Peter',), ('Emma',), ('Amy',), ('Stephen',), ('Sam',), ('Yvonne',), ('Dorothy',), ('Edward',), ('Lisa',), ('Caroline',), ('Lily',), ('Carolyn',), ('Dan',), ('Phil',), ('Richard',), ('Anne',), ('Max',), ('Paul',), ('Jake',), ('Caroline',), ('Adam',), ('Elizabeth',), ('Jake',), ('Mary',), ('Deirdre',), ('John',), ('Lucas',), ('Joe',), ('Trevor',), ('Grace',), ('Jonathan',), ('Joan',), ('Lisa',), ('Diane',), ('Paul',), ('Felicity',), ('Audrey',), ('Dorothy',), ('Emma',), ('William',), ('Rose',), ('Stewart',), ('Faith',), ('Sophie',), ('Megan',), ('Alan',), ('Caroline',), ('Virginia',), ('Hannah',), ('Angela',), ('Dorothy',), ('Neil',), ('Jennifer',), ('Sonia',), ('Harry',), ('Thomas',), ('John',), ('Carol',), ('Donna',), ('Deirdre',), ('Blake',), ('Bernadette',), ('Sally',), ('Zoe',), ('Ruth',), ('Dominic',), ('Claire',), ('Sonia',), ('Tim',), ('Amelia',), ('Austin',), ('Stephen',), ('Dorothy',), ('Olivia',), ('Dylan',), ('Jasmine',), ('Felicity',), ('Fiona',), ('Ava',), ('Alan',), ('Felicity',), ('Alison',), ('Matt',), ('Tim',), ('Anna',), ('Sean',), ('Deirdre',), ('Anthony',), ('Michael',), ('Jason',), ('Boris',), ('Thomas',), ('Samantha',), ('Una',), ('Jonathan',), ('Michelle',), ('Sally',), ('Amanda',), ('Diane',), ('Rachel',), ('Dylan',), ('Nicholas',), ('Wanda',), ('James',), ('Julia',), ('Heather',), ('Cameron',), ('Thomas',), ('Oliver',), ('Gordon',), ('Luke',), ('Sophie',), ('Faith',), ('Bernadette',), ('Lucas',), ('Theresa',), ('Ella',), ('Ryan',), ('Carl',), ('Sean',), ('Abigail',), ('Sue',), ('Julian',), ('Katherine',), ('Piers',), ('Dorothy',), ('Dominic',), ('Matt',), ('Felicity',), ('Connor',), ('Kylie',), ('Emily',), ('Jake',), ('Andrea',), ('Oliver',), ('Christian',), ('Claire',), ('Joseph',), ('David',), ('Rebecca',), ('Wendy',), ('Benjamin',), ('Gordon',), ('Alan',), ('Jane',), ('Brian',), ('Nathan',), ('Emily',), ('Pippa',), ('Dan',), ('Dylan',), ('Dylan',), ('Mary',), ('Dylan',), ('Ian',), ('Robert',), ('Anna',), ('Stephanie',), ('Lauren',), ('Felicity',), ('Mary',), ('Jan',), ('James',), ('Virginia',), ('Theresa',), ('Andrea',), ('Liam',), ('Karen',), ('Charles',), ('Christopher',), ('Dorothy',), ('Emma',), ('Justin',), ('Joe',), ('Leonard',), ('Leonard',), ('Isaac',), ('Richard',), ('Andrea',), ('Alexander',), ('Sean',), ('Sonia',), ('Steven',), ('Yvonne',), ('Leonard',), ('Penelope',), ('Harry',), ('Luke',), ('Abigail',), ('Piers',), ('Piers',), ('Dominic',), ('Elizabeth',), ('Faith',), ('Joshua',), ('Boris',), ('Amanda',), ('Julian',), ('Ian',), ('Max',), ('Nicola',), ('Joseph',), ('Max',), ('Connor',), ('Eric',), ('Leonard',), ('Richard',), ('Peter',), ('Rachel',), ('Colin',), ('Dylan',), ('Wendy',), ('Stewart',), ('Natalie',), ('Fiona',), ('Luke',), ('Anne',), ('Robert',), ('Rachel',), ('Blake',), ('Lily',), ('Julian',), ('Steven',), ('Isaac',), ('Evan',), ('Adam',), ('Ryan',), ('David',), ('John',), ('Jennifer',), ('Emily',), ('Edward',), ('Liam',), ('Leah',), ('Simon',), ('Zoe',), ('Christopher',), ('Frank',), ('Angela',), ('Colin',), ('Gabrielle',), ('William',), ('Rachel',), ('Steven',), ('Megan',), ('Nathan',), ('Edward',), ('Bernadette',), ('Victoria',), ('Amelia',), ('Matt',), ('Heather',), ('Leonard',), ('Frank',), ('Anthony',), ('Jessica',), ('Fiona',), ('Harry',), ('Jasmine',), ('Brian',), ('Felicity',), ('Ruth',), ('Robert',), ('Madeleine',), ('Molly',), ('Alexander',), ('Amanda',), ('Katherine',), ('Christian',), ('Dominic',), ('Diana',), ('Claire',), ('Joanne',), ('Megan',), ('Madeleine',), ('John',), ('Jan',), ('Gabrielle',), ('Leonard',), ('Owen',), ('Jason',), ('Thomas',), ('Anne',), ('Colin',), ('Katherine',), ('Jake',), ('Nathan',), ('Olivia',), ('Matt',), ('Melanie',), ('Amanda',), ('Boris',), ('Boris',), ('Wanda',), ('Penelope',), ('Evan',), ('Rachel',), ('Gabrielle',), ('Jan',), ('Ruth',), ('Jack',), ('Michelle',), ('Simon',), ('Jessica',), ('Cameron',), ('Zoe',), ('Victor',), ('Julia',), ('Lauren',), ('James',), ('Simon',), ('Dominic',), ('Sarah',), ('Christopher',), ('Lily',), ('Sonia',), ('Wendy',), ('Owen',), ('Steven',), ('Dylan',), ('Dylan',), ('Austin',), ('Jacob',), ('Bella',), ('Carl',), ('Heather',), ('Liam',), ('Yvonne',), ('Olivia',), ('Sally',), ('David',), ('Gabrielle',), ('Leonard',), ('Sue',), ('Phil',), ('Julia',), ('Una',), ('Angela',), ('Colin',), ('Kimberly',), ('Faith',), ('Yvonne',), ('Lucas',), ('Andrea',), ('Carl',), ('Benjamin',), ('Edward',), ('Chloe',), ('Felicity',), ('Julia',), ('Owen',), ('Anna',), ('Claire',), ('Joanne',), ('William',), ('Fiona',), ('Penelope',), ('Nicola',), ('Molly',), ('Amanda',), ('Edward',), ('Una',), ('Rose',), ('Molly',), ('Stewart',), ('Thomas',), ('Michael',), ('Nicola',), ('Diane',), ('Peter',), ('Alan',), ('Faith',), ('Abigail',), ('Carolyn',), ('Brandon',), ('Jennifer',), ('Dominic',), ('Penelope',), ('Kylie',), ('Peter',), ('Yvonne',), ('Joseph',), ('Bernadette',), ('Nathan',), ('Victor',), ('Boris',), ('William',), ('Audrey',), ('Victoria',), ('Irene',), ('Rebecca',), ('Stewart',), ('Stewart',), ('Penelope',), ('Sonia',), ('Chloe',), ('Matt',), ('Vanessa',), ('Amy',), ('Katherine',), ('John',), ('Sam',), ('Matt',), ('Irene',), ('Deirdre',), ('Lisa',), ('Kimberly',), ('Charles',), ('Samantha',), ('Adrian',), ('Deirdre',), ('Dominic',), ('Molly',), ('Ruth',), ('Gavin',), ('Andrea',), ('Mary',), ('Carl',), ('Carol',), ('Warren',), ('Joshua',), ('Caroline',), ('Cameron',), ('Bernadette',), ('Rose',), ('Sebastian',), ('Christopher',), ('Gavin',), ('Alexander',), ('John',), ('Alexandra',), ('Lillian',), ('Victor',), ('John',), ('Steven',), ('Vanessa',), ('Jason',), ('Jack',), ('Owen',), ('Joanne',), ('Elizabeth',), ('Justin',), ('Dominic',), ('Diane',), ('Grace',), ('Anna',), ('Fiona',), ('Vanessa',), ('Ryan',), ('Adam',), ('Gordon',), ('Katherine',), ('Luke',), ('Joanne',), ('Ruth',), ('Andrea',), ('Jason',), ('Paul',), ('Pippa',), ('Diane',), ('Abigail',), ('Pippa',), ('Lisa',), ('Melanie',), ('Anna',), ('Natalie',), ('Ruth',), ('Leah',), ('David',), ('David',), ('Dan',), ('Brian',), ('Audrey',), ('Ruth',), ('Penelope',), ('Ryan',), ('Anne',), ('Yvonne',), ('Matt',), ('Sarah',), ('Kimberly',), ('Amelia',), ('Yvonne',), ('William',), ('Molly',), ('Andrew',), ('Nathan',), ('Michael',), ('Joshua',), ('Anna',), ('Anna',), ('Faith',), ('Wendy',), ('Joseph',), ('James',), ('Piers',), ('Sean',), ('David',), ('Christian',), ('Caroline',), ('Kylie',), ('Andrea',), ('Gavin',), ('Jan',), ('Lucas',), ('Heather',), ('Audrey',), ('Julian',), ('William',), ('Carol',), ('Lillian',), ('Kylie',), ('Joshua',), ('Alison',), ('Olivia',), ('Kevin',), ('Ryan',), ('Alexandra',), ('Anna',), ('Alberto',), ('Phil',), ('Jason',), ('Stephanie',), ('Christopher',), ('Victor',), ('Una',), ('Gavin',), ('Jonathan',), ('Jane',), ('Alberto',), ('Adam',), ('Victor',), ('Melanie',), ('Ludwig',), ('Mary',), ('Sue',), ('Boris',), ('Sebastian',), ('Rose',), ('Alexandra',), ('Molly',), ('Alexander',), ('Penelope',), ('Lucas',), ('Emily',), ('Diana',), ('Brandon',), ('Joan',), ('John',), ('Hans',), ('Emily',), ('Caroline',), ('Faith',), ('Lily',), ('Sebastian',), ('Tracey',), ('Maria',), ('Grace',), ('Victoria',), ('Ruth',), ('Samuel',), ('Katherine',), ('Angela',), ('Audrey',), ('Julian',), ('Jack',), ('Wanda',), ('Frank',), ('Samson',), ('Carl',), ('Sally',), ('Jonathan',), ('Joshua',), ('Ivan',), ('Victor',), ('Yvonne',), ('Samantha',), ('Trevor',), ('Sebastian',), ('Lauren',), ('Wendy',), ('Boris',), ('Abigail',), ('Lauren',), ('Joseph',), ('Claire',), ('Abigail',), ('Theresa',), ('Irene',), ('Carl',), ('Jane',), ('Isaac',), ('Kylie',), ('Virginia',), ('Lisa',), ('Tim',), ('Isaac',), ('Ludwig',), ('Peter',), ('Christian',), ('Theresa',), ('Samantha',), ('Audrey',), ('Anne',), ('Michael',), ('Kylie',), ('Isaac',), ('Jack',), ('Pippa',), ('Brian',), ('Benjamin',), ('Kimberly',), ('James',), ('Owen',), ('Lillian',), ('Anna',), ('Jackson',), ('Ruth',), ('Una',), ('Dominic',), ('Carolyn',), ('Steven',), ('Isaac',), ('Owen',), ('Harry',), ('Lily',), ('Dylan',), ('Nicholas',), ('Piers',), ('Richard',), ('Michael',), ('Leonard',), ('Sophie',), ('Alexandra',), ('Brian',), ('Emily',), ('Alison',), ('Sean',), ('Chloe',), ('Colin',), ('Keith',), ('Brian',), ('Scott',), ('Tim',), ('Dominic',), ('Joseph',), ('Lily',), ('Theresa',), ('Tim',), ('Rachel',), ('Sue',), ('Andrew',), ('Joe',), ('Rebecca',), ('Karen',), ('Paul',), ('Jane',), ('John',), ('Kimberly',), ('Rachel',), ('Sam',)]\u001b[0m\n",
      "Answer:\u001b[32;1m\u001b[1;3mThe names of customers from England are: Simon, Liam, Deirdre, Dorothy, Dominic, Benjamin, Ryan, Nicholas, William, Audrey, Jennifer, Alison, Luke, Megan, Jake, Karen, Yvonne, Sophie, Robert, Edward, Diane, Charles, Kimberly, Madeleine, Irene, Cameron, Donna, Piers, Phil, Kylie, Fiona, Kevin, Bernadette, Frank, David, Joan, Neil, Paul, Dylan, Pippa, Matt, Jack, Jasmine, Michelle, Wanda, Blake, Jane, Dan, Lisa, Rebecca, Joshua, Heather, Maria, Amy, Vanessa, Andrea, Ian, Jacob, Harry, John, Jonathan, Emma, Virginia, Peter, Anna, Ruth, Owen, Christopher, Sarah, Richard, Nicola, Angela, Sam, Sean, Steven, Andrew, Madeleine, Connor, Justin, Elizabeth, Tim, Anthony, Michael, Lucas, Diana, Amanda, Natalie, Hannah, Penelope, Max, Wendy, Thomas, Austin, Christian, Cameron, Trevor, Stewart, Brian, Carol, Sonia, Anne, Sue, Jan, Lillian, Gabrielle, Samson, Hans, Ludwig, Sam, Samuel, Ivan, Hans, Samson, Jackson, Scott.\u001b[0m\n",
      "\u001b[1m> Finished chain.\u001b[0m\n"
     ]
    },
    {
     "name": "stderr",
     "output_type": "stream",
     "text": [
      "C:\\Users\\gkris\\AppData\\Local\\Temp\\ipykernel_19460\\1510247937.py:32: LangChainDeprecationWarning: The method `BaseChatModel.__call__` was deprecated in langchain-core 0.1.7 and will be removed in 1.0. Use :meth:`~invoke` instead.\n",
      "  response = llm(messages).content\n"
     ]
    },
    {
     "data": {
      "text/plain": [
       "'The names of customers from England are: Simon, Liam, Deirdre, Dorothy, Dominic, Benjamin, Ryan, Nicholas, William, Audrey, Jennifer, Alison, Luke, Megan, Jake, Karen, Yvonne, Sophie, Robert, Edward, Diane, Charles, Kimberly, Madeleine, Irene, Cameron, Donna, Piers, Phil, Kylie, Fiona, Kevin, Bernadette, Frank, David, Joan, Neil, Paul, Dylan, Pippa, Matt, Jack, Jasmine, Michelle, Wanda, Blake, Jane, Dan, Lisa, Rebecca, Joshua, Heather, Maria, Amy, Vanessa, Andrea, Ian, Jacob, Harry, John, Jonathan, Emma, Virginia, Peter, Anna, Ruth, Owen, Christopher, Sarah, Richard, Nicola, Angela, Sam, Sean, Steven, Andrew, Madeleine, Connor, Justin, Elizabeth, Tim, Anthony, Michael, Lucas, Diana, Amanda, Natalie, Hannah, Penelope, Max, Wendy, Thomas, Austin, Christian, Cameron, Trevor, Stewart, Brian, Carol, Sonia, Anne, Sue, Jan, Lillian, Gabrielle, Samson, Hans, Ludwig, Sam, Samuel, Ivan, Hans, Samson, Jackson, Scott.'"
      ]
     },
     "execution_count": 6,
     "metadata": {},
     "output_type": "execute_result"
    }
   ],
   "source": [
    "#1\n",
    "generate(\"provide me the names of customers from england\")"
   ]
  },
  {
   "cell_type": "code",
   "execution_count": 7,
   "metadata": {},
   "outputs": [
    {
     "name": "stdout",
     "output_type": "stream",
     "text": [
      "\n",
      "\n",
      "\u001b[1m> Entering new SQLDatabaseChain chain...\u001b[0m\n",
      "Provide the count of male people\n",
      "SQLQuery:\u001b[32;1m\u001b[1;3mSELECT COUNT(`Customer ID`) AS Male_Count\n",
      "FROM p6_uk_bank_customers\n",
      "WHERE Gender = 'Male';\u001b[0m\n",
      "SQLResult: \u001b[33;1m\u001b[1;3m[(2165,)]\u001b[0m\n",
      "Answer:\u001b[32;1m\u001b[1;3mThere are 2165 male people in the database.\u001b[0m\n",
      "\u001b[1m> Finished chain.\u001b[0m\n"
     ]
    },
    {
     "data": {
      "text/plain": [
       "'The count of male people in the database is 2165.'"
      ]
     },
     "execution_count": 7,
     "metadata": {},
     "output_type": "execute_result"
    }
   ],
   "source": [
    "#2\n",
    "generate(\"Provide the count of male people\")"
   ]
  },
  {
   "cell_type": "code",
   "execution_count": 8,
   "metadata": {},
   "outputs": [
    {
     "name": "stdout",
     "output_type": "stream",
     "text": [
      "\n",
      "\n",
      "\u001b[1m> Entering new SQLDatabaseChain chain...\u001b[0m\n",
      " provide me the count of female from wales\n",
      "SQLQuery:\u001b[32;1m\u001b[1;3mSELECT COUNT(`Customer ID`) AS FemaleCount\n",
      "FROM p6_uk_bank_customers\n",
      "WHERE Gender = 'Female' AND Region = 'Wales';\u001b[0m\n",
      "SQLResult: \u001b[33;1m\u001b[1;3m[(282,)]\u001b[0m\n",
      "Answer:\u001b[32;1m\u001b[1;3mThere are 282 females from Wales.\u001b[0m\n",
      "\u001b[1m> Finished chain.\u001b[0m\n"
     ]
    },
    {
     "data": {
      "text/plain": [
       "'The count of females from Wales in the database is 282.'"
      ]
     },
     "execution_count": 8,
     "metadata": {},
     "output_type": "execute_result"
    }
   ],
   "source": [
    "#3\n",
    "generate(\" provide me the count of female from wales\")"
   ]
  },
  {
   "cell_type": "code",
   "execution_count": null,
   "metadata": {},
   "outputs": [
    {
     "name": "stdout",
     "output_type": "stream",
     "text": [
      "\n",
      "\n",
      "\u001b[1m> Entering new SQLDatabaseChain chain...\u001b[0m\n",
      "provide the count of customers with white collar jobs\n",
      "SQLQuery:\u001b[32;1m\u001b[1;3mSELECT COUNT(`Customer ID`) AS `White Collar Count`\n",
      "FROM p6_uk_bank_customers\n",
      "WHERE `Job Classification` = 'White Collar';\u001b[0m\n",
      "SQLResult: \u001b[33;1m\u001b[1;3m[(1955,)]\u001b[0m\n",
      "Answer:\u001b[32;1m\u001b[1;3mThere are 1955 customers with white collar jobs.\u001b[0m\n",
      "\u001b[1m> Finished chain.\u001b[0m\n"
     ]
    },
    {
     "data": {
      "text/plain": [
       "'The count of customers with white collar jobs is 1955.'"
      ]
     },
     "execution_count": 9,
     "metadata": {},
     "output_type": "execute_result"
    }
   ],
   "source": [
    "#4\n",
    "generate(\"provide the count of customers with white collar jobs\")"
   ]
  },
  {
   "cell_type": "code",
   "execution_count": null,
   "metadata": {},
   "outputs": [
    {
     "name": "stdout",
     "output_type": "stream",
     "text": [
      "\n",
      "\n",
      "\u001b[1m> Entering new SQLDatabaseChain chain...\u001b[0m\n",
      "provide me the count of customers who are having white collar jobs\n",
      "SQLQuery:\u001b[32;1m\u001b[1;3mSELECT COUNT(`Customer ID`) AS `White Collar Count`\n",
      "FROM p6_uk_bank_customers\n",
      "WHERE `Job Classification` = 'White Collar';\u001b[0m\n",
      "SQLResult: \u001b[33;1m\u001b[1;3m[(1955,)]\u001b[0m\n",
      "Answer:\u001b[32;1m\u001b[1;3mThere are 1955 customers who have white collar jobs.\u001b[0m\n",
      "\u001b[1m> Finished chain.\u001b[0m\n"
     ]
    },
    {
     "data": {
      "text/plain": [
       "'The count of customers who are having white collar jobs is 1955.'"
      ]
     },
     "execution_count": 10,
     "metadata": {},
     "output_type": "execute_result"
    }
   ],
   "source": [
    "#5\n",
    "generate(\"provide me the count of customers who are having white collar jobs\") "
   ]
  },
  {
   "cell_type": "code",
   "execution_count": null,
   "metadata": {},
   "outputs": [
    {
     "name": "stdout",
     "output_type": "stream",
     "text": [
      "\n",
      "\n",
      "\u001b[1m> Entering new SQLDatabaseChain chain...\u001b[0m\n",
      "provide me the count of customers whose bank balance is less more than 5000\n",
      "SQLQuery:\u001b[32;1m\u001b[1;3mSELECT COUNT(`Customer ID`) AS `Customer Count`\n",
      "FROM p6_uk_bank_customers\n",
      "WHERE `Balance` > 5000\n",
      "LIMIT 2500;\u001b[0m\n",
      "SQLResult: \u001b[33;1m\u001b[1;3m[(3690,)]\u001b[0m\n",
      "Answer:\u001b[32;1m\u001b[1;3mThere are 3690 customers whose bank balance is more than 5000.\u001b[0m\n",
      "\u001b[1m> Finished chain.\u001b[0m\n"
     ]
    },
    {
     "data": {
      "text/plain": [
       "'The count of customers whose bank balance is more than 5000 is 3690.'"
      ]
     },
     "execution_count": 11,
     "metadata": {},
     "output_type": "execute_result"
    }
   ],
   "source": [
    "#6\n",
    "generate(\"provide me the count of customers whose bank balance is less more than 5000\")"
   ]
  },
  {
   "cell_type": "code",
   "execution_count": null,
   "metadata": {},
   "outputs": [
    {
     "name": "stdout",
     "output_type": "stream",
     "text": [
      "\n",
      "\n",
      "\u001b[1m> Entering new SQLDatabaseChain chain...\u001b[0m\n",
      "provide me the list of people who are having white collar jobs and age is above 35\n",
      "SQLQuery:\u001b[32;1m\u001b[1;3mSELECT `Name`, `Surname`, `Age`\n",
      "FROM p6_uk_bank_customers\n",
      "WHERE `Job Classification` = 'White Collar' AND `Age` > 35\n",
      "LIMIT 2500;\u001b[0m\n",
      "SQLResult: \u001b[33;1m\u001b[1;3m[('Liam', 'Brown', 46), ('Dominic', 'Parr', 42), ('Dominic', 'Lewis', 40), ('Benjamin', 'Grant', 39), ('Nicholas', 'Newman', 42), ('Deirdre', 'McDonald', 41), ('Jennifer', 'Hughes', 38), ('Rachel', 'McGrath', 37), ('Luke', 'Wilkins', 42), ('Yvonne', 'Thomson', 36), ('Charles', 'Nolan', 39), ('Liam', 'Gibson', 40), ('Piers', 'Morgan', 44), ('Ryan', 'White', 47), ('Kevin', 'Gibson', 47), ('Bernadette', 'Gibson', 39), ('Hannah', 'White', 36), ('Frank', 'Brown', 38), ('Joan', 'Buckland', 36), ('Dylan', 'Fraser', 42), ('Pippa', 'Buckland', 38), ('Matt', 'McGrath', 39), ('Maria', 'Johnston', 36), ('Emma', 'Piper', 44), ('Nicola', 'Powell', 55), ('Stephen', 'Ross', 48), ('Ian', 'Slater', 37), ('Harry', 'Short', 50), ('Benjamin', 'Blake', 42), ('Virginia', 'Berry', 41), ('Peter', 'Pullman', 47), ('Anna', 'Wright', 41), ('Ruth', 'Bower', 38), ('Piers', 'King', 42), ('Sarah', 'Wallace', 43), ('Richard', 'Hemmings', 37), ('Nicola', 'Rampling', 40), ('Angela', 'Wright', 45), ('Steven', 'Ball', 37), ('Andrew', 'Gray', 41), ('Madeleine', 'Ogden', 37), ('Elizabeth', 'Oliver', 36), ('Kevin', 'Powell', 46), ('Alexander', 'Walker', 38), ('Diana', 'Powell', 42), ('Amanda', 'Morgan', 39), ('John', 'Hughes', 38), ('Austin', 'Ball', 36), ('Emma', 'Parr', 46), ('Wendy', 'Morrison', 40), ('Oliver', 'Blake', 39), ('James', 'McGrath', 40), ('Karen', 'Mackenzie', 47), ('Fiona', 'Underwood', 37), ('Yvonne', 'Arnold', 40), ('Wanda', 'Short', 36), ('Blake', 'Berry', 41), ('Phil', 'Lewis', 39), ('Robert', 'Wright', 39), ('Nathan', 'Turner', 38), ('Christian', 'Baker', 43), ('Gordon', 'Fraser', 40), ('Virginia', 'Howard', 37), ('Yvonne', 'Johnston', 36), ('Dan', 'Terry', 42), ('Audrey', 'McGrath', 45), ('Stewart', 'Pullman', 42), ('Brian', 'Mackay', 42), ('Jessica', 'James', 40), ('Carol', 'Blake', 43), ('Alison', 'Hudson', 43), ('Oliver', 'Powell', 43), ('Brian', 'Short', 39), ('James', 'Miller', 37), ('Brandon', 'Bower', 43), ('Jake', 'Skinner', 41), ('Victor', 'Avery', 42), ('Maria', 'Arnold', 37), ('Blake', 'Alsop', 42), ('Peter', 'Lyman', 41), ('Liam', 'King', 37), ('Joe', 'May', 40), ('Karen', 'Glover', 40), ('Zoe', 'Johnston', 40), ('Andrea', 'Jackson', 42), ('John', 'Campbell', 43), ('Jessica', 'Piper', 40), ('Mary', 'Carr', 37), ('David', 'Newman', 54), ('Felicity', 'North', 42), ('Deirdre', 'Coleman', 37), ('Jonathan', 'Manning', 44), ('Tracey', 'Edmunds', 36), ('Jake', 'Dyer', 42), ('Christian', 'Jackson', 38), ('Benjamin', 'Ince', 36), ('Piers', 'Harris', 51), ('Emma', 'Fisher', 44), ('Joshua', 'Underwood', 52), ('Joan', 'Quinn', 38), ('Piers', 'Walker', 39), ('Kimberly', 'Bond', 41), ('Leonard', 'Paterson', 41), ('Ruth', 'Simpson', 39), ('Stewart', 'Bell', 38), ('Cameron', 'Blake', 36), ('Edward', 'Dowd', 38), ('Christian', 'McLean', 44), ('Diana', 'Bower', 49), ('Colin', 'Howard', 60), ('Rose', 'Hodges', 43), ('Christian', 'Abraham', 37), ('Peter', 'Quinn', 40), ('Amanda', 'Ball', 51), ('Alan', 'Grant', 52), ('Amy', 'Davies', 39), ('Kevin', 'James', 37), ('Justin', 'Graham', 53), ('Alan', 'Murray', 54), ('Kevin', 'Wright', 41), ('Jonathan', 'White', 41), ('Stephen', 'Poole', 40), ('Victoria', 'Johnston', 42), ('Jason', 'Lyman', 51), ('Jasmine', 'Marshall', 57), ('Joan', 'Clarkson', 42), ('Benjamin', 'Sutherland', 41), ('Chloe', 'Hill', 36), ('Sue', 'Baker', 40), ('Bernadette', 'Ferguson', 38), ('Diane', 'Berry', 36), ('Gabrielle', 'Skinner', 39), ('David', 'Stewart', 51), ('Joan', 'Randall', 39), ('Lillian', 'Kerr', 36), ('Julian', 'Lyman', 36), ('Jasmine', 'Wilkins', 45), ('Ruth', 'Mackenzie', 42), ('Brian', 'Arnold', 45), ('Alison', 'Cornish', 40), ('Andrew', 'Wright', 42), ('Christopher', 'Randall', 49), ('Lily', 'Hudson', 36), ('Brian', 'Slater', 44), ('Piers', 'Miller', 42), ('Heather', 'Mackay', 50), ('Carolyn', 'Mills', 40), ('Una', 'Jones', 46), ('Emily', 'Reid', 48), ('Harry', 'Hodges', 38), ('Dominic', 'Langdon', 41), ('Penelope', 'Forsyth', 45), ('Bernadette', 'Cornish', 40), ('Angela', 'Lawrence', 38), ('Julia', 'Harris', 39), ('Theresa', 'Fraser', 59), ('Katherine', 'Paterson', 36), ('Justin', 'Campbell', 43), ('Una', 'Blake', 41), ('Sarah', 'Murray', 45), ('Ruth', 'Ince', 38), ('Victor', 'Wilson', 46), ('Neil', 'James', 37), ('Keith', 'Walker', 40), ('Wendy', 'Hardacre', 38), ('William', 'Lyman', 46), ('Joe', 'Short', 44), ('Deirdre', 'Parsons', 36), ('Christopher', 'Davies', 48), ('Joshua', 'Henderson', 53), ('Kylie', 'Lawrence', 47), ('Sonia', 'Hughes', 51), ('Pippa', 'Walsh', 45), ('Cameron', 'Alsop', 41), ('Karen', 'MacDonald', 53), ('Yvonne', 'Burgess', 46), ('Fiona', 'Allan', 39), ('Gordon', 'May', 39), ('Steven', 'Davidson', 41), ('Cameron', 'Chapman', 45), ('Tracey', 'Sharp', 47), ('Steven', 'Morrison', 37), ('David', 'Turner', 36), ('Leonard', 'Gibson', 40), ('Nathan', 'Kerr', 44), ('Kevin', 'Parsons', 53), ('Claire', 'Hudson', 36), ('Carl', 'Clark', 42), ('Rebecca', 'Ross', 38), ('Evan', 'Abraham', 38), ('Nicola', 'Walsh', 44), ('Max', 'Rees', 38), ('Joshua', 'Kelly', 40), ('Sally', 'MacDonald', 46), ('Jason', 'MacLeod', 47), ('Sarah', 'Skinner', 42), ('Vanessa', 'Manning', 45), ('Stephen', 'Bailey', 37), ('Donna', 'Butler', 41), ('Samantha', 'Ross', 47), ('Rose', 'Butler', 38), ('Jake', 'White', 37), ('Edward', 'Chapman', 47), ('William', 'Gibson', 43), ('Andrea', 'Henderson', 40), ('Dan', 'Johnston', 49), ('Victoria', 'Wilson', 37), ('Maria', 'Lawrence', 42), ('Alexandra', 'Henderson', 36), ('Richard', 'Roberts', 40), ('Zoe', 'Reid', 53), ('Heather', 'Jones', 40), ('Joseph', 'Greene', 41), ('Abigail', 'Allan', 36), ('Victoria', 'Morrison', 42), ('Edward', 'Martin', 38), ('Jessica', 'Wallace', 45), ('Hannah', 'Hardacre', 39), ('Grace', 'Edmunds', 44), ('Chloe', 'Jones', 38), ('Colin', 'Sharp', 39), ('Eric', 'Glover', 38), ('Jacob', 'Hemmings', 41), ('Joan', 'Davidson', 37), ('Jason', 'Bower', 38), ('Joe', 'Campbell', 42), ('Emma', 'Arnold', 40), ('Christopher', 'Sutherland', 46), ('Lily', 'North', 38), ('Joan', 'Gibson', 46), ('Claire', 'Metcalfe', 40), ('Connor', 'Dickens', 37), ('Connor', 'May', 41), ('Oliver', 'Butler', 38), ('Jacob', 'Bell', 47), ('Nicholas', 'Churchill', 43), ('Kimberly', 'Mitchell', 40), ('Keith', 'McDonald', 36), ('Julia', 'Mackay', 36), ('Dorothy', 'Vaughan', 37), ('Michael', 'MacDonald', 51), ('Sebastian', 'Lambert', 51), ('Harry', 'May', 37), ('Jack', 'Metcalfe', 37), ('Irene', 'Ferguson', 38), ('Katherine', 'Gill', 41), ('Molly', 'Wallace', 44), ('Anne', 'Kerr', 41), ('Julia', 'Greene', 45), ('Anthony', 'Vance', 48), ('Liam', 'Nolan', 38), ('Deirdre', 'Payne', 43), ('Heather', 'Ball', 49), ('Ian', 'Lambert', 44), ('Joseph', 'Black', 36), ('Julia', 'Marshall', 36), ('Karen', 'Kerr', 46), ('Amanda', 'Bailey', 57), ('Gordon', 'McGrath', 43), ('Caroline', 'Payne', 44), ('Sean', 'Ross', 41), ('Evan', 'Bond', 47), ('Jane', 'Lewis', 45), ('Kimberly', 'Vance', 40), ('Boris', 'Sharp', 36), ('Felicity', 'Black', 55), ('Bernadette', 'Henderson', 36), ('Sean', 'Manning', 41), ('Zoe', 'Hemmings', 44), ('Alexander', 'Peake', 42), ('Yvonne', 'Skinner', 37), ('Ian', 'Terry', 55), ('Blake', 'Knox', 43), ('Olivia', 'Langdon', 42), ('Megan', 'Welch', 42), ('Madeleine', 'Manning', 40), ('Lucas', 'Pullman', 39), ('Julian', 'Gray', 45), ('Rebecca', 'Kerr', 38), ('Samantha', 'Vaughan', 38), ('Sonia', 'Parr', 41), ('Lauren', 'Lyman', 36), ('Jane', 'Rees', 39), ('Harry', 'Morrison', 50), ('Frank', 'Martin', 37), ('Piers', 'Reid', 39), ('Kevin', 'Buckland', 37), ('Stewart', 'Grant', 37), ('Richard', 'McDonald', 38), ('Cameron', 'Bower', 36), ('Matt', 'Watson', 44), ('Jack', 'Johnston', 41), ('Trevor', 'Bell', 37), ('Peter', 'Hamilton', 43), ('Joseph', 'Davies', 41), ('Alexander', 'Hudson', 43), ('Alan', 'Fraser', 50), ('Luke', 'Walsh', 37), ('Adam', 'Duncan', 43), ('Joe', 'Ball', 40), ('Bella', 'Jackson', 51), ('Alison', 'Piper', 38), ('Jane', 'King', 38), ('Steven', 'Brown', 37), ('Carol', 'Simpson', 40), ('Dan', 'Poole', 47), ('Diane', 'Stewart', 38), ('Charles', 'Simpson', 44), ('Carl', 'Scott', 46), ('Madeleine', 'Miller', 42), ('Jake', 'Gray', 44), ('Connor', 'McDonald', 41), ('Jack', 'Ellison', 40), ('Brandon', 'Walker', 37), ('Gordon', 'Young', 38), ('Zoe', 'Murray', 49), ('Simon', 'Paterson', 49), ('Sam', 'Ellison', 52), ('Austin', 'Turner', 45), ('Trevor', 'Davidson', 38), ('Penelope', 'Duncan', 39), ('Jason', 'Piper', 36), ('Tracey', 'Gray', 41), ('Tracey', 'Hughes', 40), ('Oliver', 'Reid', 39), ('Boris', 'Metcalfe', 43), ('Ava', 'White', 38), ('Jason', 'Nash', 44), ('Adam', 'MacDonald', 41), ('Lillian', 'Mathis', 43), ('Gabrielle', 'Underwood', 38), ('Pippa', 'Langdon', 38), ('Julia', 'Coleman', 38), ('Sebastian', 'Baker', 38), ('Isaac', 'Kelly', 60), ('Jessica', 'Tucker', 46), ('Jane', 'Miller', 43), ('Lucas', 'Paige', 36), ('Ian', 'Miller', 43), ('Dominic', 'Jackson', 40), ('Diane', 'Tucker', 37), ('Katherine', 'Mills', 37), ('Zoe', 'Bell', 39), ('Irene', 'Blake', 36), ('Eric', 'Poole', 41), ('Grace', 'Walker', 53), ('Richard', 'Wallace', 43), ('Connor', 'Russell', 36), ('Christopher', 'Berry', 36), ('Una', 'Ball', 38), ('Lillian', 'Scott', 36), ('Victoria', 'Dowd', 47), ('Chloe', 'Gibson', 39), ('Gavin', 'Terry', 39), ('Isaac', 'Fraser', 45), ('Una', 'Bailey', 47), ('Amelia', 'Peake', 37), ('Victoria', 'Clarkson', 37), ('Caroline', 'Roberts', 37), ('Oliver', 'Gray', 46), ('Oliver', 'Wright', 49), ('Gabrielle', 'Miller', 39), ('Donna', 'Hardacre', 40), ('Gavin', 'Ross', 41), ('Anne', 'Abraham', 38), ('Penelope', 'Coleman', 36), ('Kimberly', 'Ball', 43), ('David', 'Ince', 36), ('Hannah', 'Churchill', 36), ('Madeleine', 'Walsh', 47), ('Keith', 'Duncan', 40), ('James', 'Underwood', 42), ('David', 'Kerr', 36), ('Amelia', 'Gray', 39), ('Ian', 'Baker', 44), ('Tracey', 'Bailey', 36), ('Sue', 'Rutherford', 37), ('Lucas', 'White', 45), ('Joan', 'Wright', 57), ('Keith', 'Fisher', 41), ('Adam', 'Walsh', 40), ('Sonia', 'Morgan', 44), ('Kevin', 'Forsyth', 40), ('Tim', 'King', 38), ('Leah', 'MacLeod', 39), ('Boris', 'Harris', 40), ('Bernadette', 'Piper', 56), ('Katherine', 'Berry', 45), ('Jacob', 'Mathis', 39), ('Irene', 'Alsop', 46), ('Nicholas', 'Clarkson', 44), ('Paul', 'Hunter', 48), ('Natalie', 'Graham', 38), ('Lauren', 'Greene', 41), ('Simon', 'Burgess', 43), ('Grace', 'Russell', 41), ('Warren', 'Terry', 50), ('Faith', 'Arnold', 38), ('Bernadette', 'Knox', 41), ('Steven', 'MacDonald', 46), ('Trevor', 'Parsons', 38), ('Caroline', 'MacDonald', 38), ('Jacob', 'Arnold', 47), ('Blake', 'Johnston', 37), ('David', 'Wright', 44), ('Julia', 'Newman', 41), ('Diana', 'Piper', 48), ('Alison', 'Terry', 46), ('Sally', 'Ogden', 36), ('Kimberly', 'Lewis', 47), ('Colin', 'Edmunds', 38), ('Andrea', 'Carr', 47), ('Theresa', 'Terry', 49), ('Yvonne', 'Brown', 37), ('Virginia', 'Rampling', 36), ('Heather', 'Hudson', 40), ('Yvonne', 'Wilson', 37), ('Dylan', 'Randall', 44), ('Ian', 'Hughes', 39), ('Una', 'Terry', 38), ('Fiona', 'Edmunds', 47), ('Boris', 'Lambert', 36), ('Neil', 'Jones', 39), ('Jasmine', 'Scott', 37), ('Stephanie', 'Mackay', 41), ('Max', 'Springer', 53), ('Sue', 'MacLeod', 38), ('Lisa', 'Mathis', 47), ('Nicholas', 'Nash', 40), ('Zoe', 'Kerr', 36), ('Ella', 'Stewart', 36), ('Victor', 'Jackson', 48), ('Jason', 'Mathis', 42), ('Sebastian', 'Wilson', 46), ('Ruth', 'Poole', 41), ('Harry', 'Powell', 36), ('Liam', 'Glover', 40), ('James', 'Wilkins', 36), ('Sean', 'Taylor', 43), ('Nicola', 'May', 36), ('Jane', 'Kerr', 38), ('Michael', 'Cornish', 37), ('Carolyn', 'Johnston', 44), ('Steven', 'Bond', 41), ('Wendy', 'Robertson', 37), ('Brian', 'Baker', 38), ('Olivia', 'Payne', 49), ('Katherine', 'Wilson', 41), ('Joseph', 'Payne', 50), ('Jonathan', 'Brown', 36), ('Carolyn', 'Tucker', 37), ('Vanessa', 'Springer', 43), ('Justin', 'Paige', 48), ('Joseph', 'Sharp', 37), ('Jack', 'Grant', 38), ('Brandon', 'Duncan', 36), ('Amelia', 'Quinn', 39), ('Nathan', 'Ince', 41), ('Wendy', 'Watson', 39), ('Michelle', 'Sharp', 39), ('Ian', 'Terry', 41), ('Bernadette', 'Alsop', 45), ('Owen', 'Ball', 41), ('Ruth', 'Marshall', 42), ('Edward', 'May', 39), ('Bernadette', 'Ince', 43), ('Ruth', 'Kerr', 40), ('Deirdre', 'Nash', 49), ('Tim', 'Reid', 43), ('Grace', 'Campbell', 38), ('Oliver', 'Poole', 37), ('James', 'Mills', 36), ('Dan', 'Forsyth', 58), ('Max', 'McGrath', 38), ('Gordon', 'Dowd', 43), ('Steven', 'Langdon', 40), ('Olivia', 'Kelly', 37), ('Sarah', 'Wilson', 37), ('Gordon', 'Mackenzie', 40), ('Brandon', 'Springer', 38), ('Thomas', 'Johnston', 36), ('Sam', 'Carr', 36), ('Benjamin', 'Davidson', 44), ('Fiona', 'Bower', 38), ('Sophie', 'Buckland', 39), ('Chloe', 'Thomson', 40), ('Alison', 'Edmunds', 39), ('Audrey', 'Sanderson', 36), ('Zoe', 'Miller', 39), ('Zoe', 'Cornish', 45), ('Phil', 'Gray', 59), ('Deirdre', 'Lee', 37), ('Karen', 'Wallace', 39), ('Sally', 'Churchill', 37), ('Joan', 'Springer', 38), ('Frank', 'North', 36), ('Emily', 'Bailey', 38), ('Nathan', 'Miller', 44), ('Amelia', 'Payne', 44), ('Luke', 'Mackenzie', 38), ('Kevin', 'Gill', 54), ('Adam', 'Skinner', 37), ('Dylan', 'Skinner', 36), ('Liam', 'Davies', 43), ('Diana', 'Bailey', 43), ('Maria', 'Bailey', 42), ('Maria', 'McLean', 36), ('Owen', 'Dyer', 50), ('Julia', 'Glover', 55), ('Bella', 'Parsons', 36), ('Phil', 'Ross', 40), ('Joan', 'Howard', 44), ('Michelle', 'Lyman', 47), ('Austin', 'McGrath', 40), ('Jason', 'Parr', 41), ('Joseph', 'Lee', 37), ('Ava', 'Walsh', 46), ('Harry', 'Clarkson', 48), ('Megan', 'Hardacre', 39), ('Sarah', 'Morrison', 37), ('Jason', 'Thomson', 46), ('Dan', 'Gill', 40), ('Andrea', 'Rampling', 42), ('Sebastian', 'May', 36), ('Bernadette', 'Wilkins', 36), ('Harry', 'Hill', 37), ('Felicity', 'Arnold', 44), ('Sue', 'Arnold', 38), ('Olivia', 'Newman', 36), ('Leah', 'Marshall', 49), ('Andrea', 'Burgess', 38), ('Nicholas', 'Metcalfe', 45), ('Irene', 'Dyer', 36), ('Maria', 'Newman', 51), ('Nicola', 'Gray', 43), ('Isaac', 'Paige', 48), ('Karen', 'Butler', 40), ('Mary', 'Graham', 46), ('Audrey', 'Piper', 43), ('Caroline', 'Bond', 45), ('Benjamin', 'Howard', 36), ('Victoria', 'Powell', 40), ('William', 'Graham', 37), ('John', 'Terry', 45), ('Leonard', 'Lee', 50), ('Benjamin', 'Payne', 41), ('Peter', 'Bailey', 41), ('Gavin', 'Morgan', 37), ('Simon', 'Gray', 46), ('Claire', 'James', 39), ('Andrea', 'Hudson', 46), ('Penelope', 'Dowd', 45), ('Jack', 'Lambert', 47), ('Sean', 'Duncan', 43), ('Luke', 'Grant', 37), ('Molly', 'Grant', 42), ('Keith', 'Underwood', 36), ('Diana', 'Alsop', 43), ('Tim', 'Hunter', 36), ('Julian', 'Lambert', 40), ('Wanda', 'Bell', 43), ('Fiona', 'Lambert', 45), ('Boris', 'Arnold', 36), ('Sean', 'Mitchell', 40), ('Eric', 'Smith', 42), ('Warren', 'Metcalfe', 41), ('Connor', 'Short', 47), ('Wanda', 'Wallace', 38), ('Peter', 'James', 37), ('Melanie', 'Miller', 49), ('Emily', 'Mackenzie', 36), ('Robert', 'Mills', 42), ('Nathan', 'Graham', 47), ('Andrew', 'Oliver', 37), ('Simon', 'Hardacre', 42), ('Andrew', 'Tucker', 37), ('Maria', 'Wright', 36), ('Samantha', 'Nolan', 38), ('Jacob', 'Edmunds', 37), ('Yvonne', 'Parsons', 36), ('Austin', 'Hemmings', 41), ('Natalie', 'Howard', 42), ('Gavin', 'Sutherland', 42), ('Vanessa', 'Alsop', 41), ('Amanda', 'Bell', 44), ('Sally', 'Wilkins', 36), ('Megan', 'Abraham', 39), ('Bella', 'Dowd', 38), ('Vanessa', 'Blake', 38), ('William', 'Arnold', 37), ('Tim', 'Brown', 36), ('Leonard', 'Black', 39), ('Nicholas', 'Powell', 48), ('Sophie', 'Davies', 59), ('Amanda', 'Dowd', 46), ('Dan', 'Rampling', 39), ('Tim', 'Greene', 41), ('Chloe', 'Vance', 37), ('Maria', 'Taylor', 40), ('Caroline', 'Sanderson', 36), ('Alexandra', 'Forsyth', 43), ('Emma', 'Jones', 39), ('Sebastian', 'Simpson', 51), ('Steven', 'Underwood', 38), ('Adrian', 'Randall', 40), ('Anne', 'Arnold', 45), ('John', 'Wright', 47), ('Grace', 'Henderson', 46), ('Victoria', 'Young', 54), ('Jasmine', 'Dyer', 38), ('Carolyn', 'Paige', 40), ('Carolyn', 'Wright', 36), ('Anne', 'Bell', 39), ('Warren', 'Gill', 37), ('Joshua', 'Hemmings', 39), ('Bernadette', 'Chapman', 37), ('Ruth', 'Cornish', 37), ('Grace', 'Wallace', 45), ('Charles', 'Watson', 46), ('Dylan', 'Murray', 42), ('Gordon', 'Powell', 50), ('Christopher', 'MacDonald', 40), ('Jan', 'McLean', 38), ('Nicholas', 'Miller', 36), ('Ruth', 'Graham', 61), ('Elizabeth', 'Churchill', 38), ('Hannah', 'Wallace', 41), ('Sophie', 'Ball', 36), ('Jessica', 'Ross', 54), ('Olivia', 'May', 40), ('Nathan', 'Springer', 40), ('Edward', 'Alsop', 38), ('Jane', 'Scott', 40), ('Carl', 'Fisher', 38), ('Oliver', 'Scott', 40), ('Luke', 'Fisher', 37), ('Dominic', 'Henderson', 38), ('Audrey', 'Skinner', 40), ('Carol', 'Ince', 41), ('Ava', 'Underwood', 40), ('Warren', 'Knox', 45), ('Matt', 'Vaughan', 44), ('Caroline', 'Rampling', 37), ('Julian', 'Welch', 37), ('Amy', 'Watson', 48), ('Chloe', 'Sharp', 61), ('Adam', 'Hamilton', 37), ('Amelia', 'Morrison', 36), ('Evan', 'Grant', 38), ('Emma', 'Turner', 37), ('Sam', 'Edmunds', 36), ('Edward', 'Mills', 46), ('Anna', 'Peters', 51), ('Gavin', 'Buckland', 38), ('Dorothy', 'Hemmings', 40), ('Angela', 'Wilkins', 36), ('Jason', 'Anderson', 39), ('Michael', 'Dyer', 36), ('Jack', 'Greene', 36), ('Peter', 'Slater', 36), ('Emma', 'Short', 36), ('Amy', 'Coleman', 39), ('Stephen', 'Anderson', 48), ('Sam', 'Gibson', 42), ('Edward', 'McGrath', 37), ('Carolyn', 'Ferguson', 39), ('Richard', 'Nash', 39), ('Jennifer', 'Chapman', 43), ('Felicity', 'Lambert', 36), ('Audrey', 'Short', 42), ('Stewart', 'Rutherford', 50), ('Faith', 'Poole', 49), ('Sophie', 'Black', 36), ('Megan', 'Campbell', 38), ('Caroline', 'Hudson', 36), ('Hannah', 'Peake', 52), ('Dorothy', 'Ellison', 36), ('Neil', 'Fisher', 36), ('Jennifer', 'Knox', 47), ('Deirdre', 'Brown', 37), ('Blake', 'Dickens', 37), ('Sally', 'Bower', 38), ('Ruth', 'Paige', 43), ('Jack', 'Fisher', 37), ('Tim', 'Baker', 46), ('Stephen', 'Lewis', 37), ('Alan', 'Lyman', 39), ('Katherine', 'Duncan', 43), ('Anna', 'Short', 56), ('Sean', 'Butler', 41), ('Anthony', 'Forsyth', 36), ('Boris', 'Butler', 42), ('Jonathan', 'Oliver', 37), ('Michelle', 'Morgan', 41), ('Wanda', 'Fisher', 40), ('Dylan', 'Chapman', 38), ('Thomas', 'Springer', 46), ('Gordon', 'Ferguson', 48), ('Luke', 'Harris', 39), ('Bernadette', 'May', 44), ('Sean', 'Peake', 43), ('Stewart', 'Davies', 51), ('Tim', 'James', 52), ('Grace', 'Davidson', 38), ('Katherine', 'Dyer', 47), ('Nicholas', 'Hudson', 50), ('Lucas', 'Newman', 42), ('Joseph', 'Hodges', 42), ('Rebecca', 'MacLeod', 38), ('Wendy', 'Parr', 45), ('Luke', 'Hart', 53), ('Fiona', 'Hemmings', 44), ('Dan', 'Black', 39), ('Elizabeth', 'Arnold', 40), ('Oliver', 'Roberts', 41), ('Ian', 'Powell', 44), ('Robert', 'Wilkins', 37), ('Stephanie', 'Morrison', 38), ('Felicity', 'Buckland', 38), ('Charles', 'Mills', 42), ('James', 'Hodges', 44), ('Andrea', 'Churchill', 37), ('Christopher', 'Fisher', 40), ('Emma', 'Cameron', 41), ('Leonard', 'Ball', 36), ('Piers', 'Dyer', 39), ('Richard', 'Anderson', 48), ('Andrea', 'Forsyth', 44), ('Jake', 'Newman', 37), ('Abigail', 'Walsh', 40), ('Piers', 'Campbell', 37), ('Dominic', 'Vance', 40), ('Amanda', 'Howard', 50), ('Julian', 'Jones', 44), ('Ian', 'Avery', 38), ('Max', 'Quinn', 45), ('Joseph', 'Scott', 36), ('Leonard', 'Rutherford', 37), ('Peter', 'May', 45), ('Dylan', 'Mitchell', 39), ('Wendy', 'Hamilton', 43), ('Natalie', 'Sutherland', 37), ('Luke', 'Burgess', 42), ('Robert', 'Mackenzie', 39), ('Joanne', 'Russell', 56), ('Maria', 'Murray', 45), ('Steven', 'Wright', 43), ('Adam', 'Turner', 41), ('David', 'Poole', 38), ('Heather', 'Gill', 40), ('Jennifer', 'Graham', 42), ('Emily', 'Henderson', 37), ('Liam', 'Burgess', 36), ('Leah', 'Lambert', 36), ('Gabrielle', 'Jones', 39), ('William', 'Glover', 42), ('Edward', 'Ince', 43), ('Bernadette', 'Jones', 38), ('Matt', 'Short', 38), ('Leonard', 'Roberts', 37), ('Anthony', 'Hughes', 46), ('Jessica', 'Quinn', 36), ('Felicity', 'Ball', 43), ('Robert', 'Anderson', 43), ('Christian', 'Bailey', 41), ('Dominic', 'Cornish', 47), ('Madeleine', 'Fraser', 36), ('John', 'Poole', 50), ('Thomas', 'Kerr', 39), ('Colin', 'Dyer', 38), ('Katherine', 'McDonald', 37), ('Nathan', 'Roberts', 40), ('Carolyn', 'Manning', 54), ('Melanie', 'Metcalfe', 47), ('Jonathan', 'Parr', 42), ('Melanie', 'Rees', 36), ('Penelope', 'Henderson', 42), ('Molly', 'Sharp', 41), ('Gabrielle', 'Wilkins', 39), ('Jan', 'MacDonald', 42), ('Ruth', 'White', 41), ('Lauren', 'Young', 41), ('James', 'Clark', 47), ('Sarah', 'Marshall', 54), ('Dylan', 'Parr', 38), ('Jacob', 'Dickens', 44), ('Carl', 'Mills', 41), ('Karen', 'Marshall', 39), ('Christopher', 'Wright', 44), ('Liam', 'Robertson', 42), ('Sally', 'Cornish', 50), ('Abigail', 'Blake', 50), ('Jennifer', 'Randall', 40), ('Kimberly', 'Dickens', 36), ('Andrea', 'Welch', 39), ('Benjamin', 'MacDonald', 36), ('Julia', 'Mills', 39), ('Claire', 'Bond', 45), ('Diana', 'Nash', 55), ('Gavin', 'Welch', 44), ('Wanda', 'Tucker', 42), ('Rebecca', 'Vaughan', 37), ('Anna', 'Reid', 41), ('Joanne', 'Henderson', 42), ('William', 'Russell', 45), ('Piers', 'Wright', 44), ('Molly', 'Campbell', 42), ('Una', 'McLean', 40), ('Jane', 'Quinn', 53), ('Nicola', 'King', 36), ('Faith', 'Carr', 49), ('Abigail', 'Abraham', 48), ('Jennifer', 'Turner', 41), ('Kylie', 'Payne', 40), ('Yvonne', 'Grant', 40), ('John', 'Rees', 52), ('Steven', 'Ince', 50), ('Stewart', 'Anderson', 37), ('Stewart', 'Langdon', 39), ('Joan', 'Avery', 41), ('Penelope', 'Chapman', 40), ('Chloe', 'Miller', 36), ('Katherine', 'Quinn', 36), ('Ava', 'Piper', 58), ('Evan', 'Mills', 48), ('Andrea', 'Sutherland', 42), ('Kimberly', 'Blake', 40), ('Deirdre', 'Underwood', 36), ('Dominic', 'Manning', 51), ('Carl', 'Ferguson', 39), ('Carol', 'Manning', 41), ('Joshua', 'Dyer', 42), ('Bernadette', 'Kerr', 37), ('Christopher', 'Clark', 39), ('John', 'Knox', 40), ('Angela', 'Sharp', 57), ('Lillian', 'Walsh', 42), ('Victor', 'Ball', 36), ('John', 'Welch', 41), ('Kevin', 'Knox', 45), ('Harry', 'Mathis', 48), ('Elizabeth', 'Tucker', 43), ('Justin', 'Marshall', 38), ('Dominic', 'Randall', 48), ('Diane', 'Pullman', 49), ('Grace', 'Rees', 44), ('Vanessa', 'Hunter', 40), ('Melanie', 'Short', 42), ('Victor', 'Lee', 41), ('Paul', 'Baker', 46), ('Diane', 'Slater', 42), ('Abigail', 'Smith', 36), ('Pippa', 'Newman', 36), ('Lisa', 'Black', 37), ('Ruth', 'Rees', 42), ('Ryan', 'Oliver', 36), ('Edward', 'Pullman', 52), ('Julia', 'Abraham', 39), ('Yvonne', 'Hardacre', 47), ('Kimberly', 'Oliver', 39), ('Amelia', 'Arnold', 41), ('Molly', 'Young', 36), ('Lily', 'Vaughan', 36), ('Donna', 'Hart', 38), ('Anna', 'Berry', 40), ('Anna', 'McDonald', 42), ('Joseph', 'Cameron', 43), ('Christian', 'Brown', 36), ('Heather', 'Vaughan', 37), ('William', 'Dowd', 36), ('Carol', 'Henderson', 45), ('Lillian', 'Black', 45), ('Kylie', 'Powell', 38), ('Olivia', 'Watson', 37), ('Victor', 'King', 40), ('Adam', 'Henderson', 39), ('Melanie', 'Gray', 36), ('Rose', 'McGrath', 46), ('Rose', 'Coleman', 37), ('Penelope', 'Terry', 48), ('Emily', 'Scott', 36), ('Diana', 'Payne', 37), ('John', 'Abraham', 40), ('Hans', 'Dickens', 39), ('Matt', 'Murray', 53), ('Lily', 'Reid', 36), ('Samuel', 'Baker', 36), ('Angela', 'Bond', 38), ('Carl', 'Hemmings', 36), ('Gavin', 'Young', 45), ('Victor', 'Stewart', 38), ('Samantha', 'King', 37), ('Wendy', 'Stewart', 36), ('Abigail', 'Buckland', 36), ('Joseph', 'Mills', 38), ('Irene', 'Piper', 38), ('Jane', 'Martin', 36), ('Isaac', 'Berry', 40), ('Kylie', 'Roberts', 37), ('Tim', 'Chapman', 38), ('Isaac', 'Mitchell', 38), ('Matt', 'Clarkson', 37), ('Amanda', 'May', 38), ('Christian', 'Marshall', 37), ('Kylie', 'Watson', 42), ('Isaac', 'Buckland', 37), ('Jack', 'Marshall', 36), ('Pippa', 'Dowd', 40), ('Brian', 'Gibson', 49), ('Jackson', 'Poole', 36), ('Robert', 'Bond', 48), ('Ruth', 'Rutherford', 37), ('Una', 'Powell', 50), ('Lily', 'White', 44), ('Piers', 'Carr', 42), ('Richard', 'Pullman', 43), ('Alexandra', 'Rutherford', 40), ('Brian', 'Kerr', 43), ('Emily', 'Brown', 46), ('Colin', 'Lambert', 37), ('Keith', 'Simpson', 36), ('Dominic', 'May', 38), ('Rachel', 'Johnston', 41), ('Rebecca', 'Poole', 41), ('Benjamin', 'Ellison', 40), ('Paul', 'Avery', 46), ('John', 'Hamilton', 45)]\u001b[0m\n",
      "Answer:\u001b[32;1m\u001b[1;3mThe list of people who are having white collar jobs and age is above 35 includes a total of 2500 individuals.\u001b[0m\n",
      "\u001b[1m> Finished chain.\u001b[0m\n"
     ]
    },
    {
     "data": {
      "text/plain": [
       "\"SELECT Name, Surname\\nFROM bank_applicants\\nWHERE Job_Classification = 'White Collar' AND Age > 35;\""
      ]
     },
     "execution_count": 12,
     "metadata": {},
     "output_type": "execute_result"
    }
   ],
   "source": [
    "#7\n",
    "generate (\"provide me the list of people who are having white collar jobs and age is above 35\")"
   ]
  },
  {
   "cell_type": "code",
   "execution_count": null,
   "metadata": {},
   "outputs": [
    {
     "name": "stdout",
     "output_type": "stream",
     "text": [
      "\n",
      "\n",
      "\u001b[1m> Entering new SQLDatabaseChain chain...\u001b[0m\n",
      " provide me the count of females who are having white collar jobs\n",
      "SQLQuery:\u001b[32;1m\u001b[1;3mSELECT COUNT(*) AS FemaleWhiteCollarCount\n",
      "FROM p6_uk_bank_customers\n",
      "WHERE Gender = 'Female' AND `Job Classification` = 'White Collar';\u001b[0m\n",
      "SQLResult: \u001b[33;1m\u001b[1;3m[(1010,)]\u001b[0m\n",
      "Answer:\u001b[32;1m\u001b[1;3mThere are 1010 females who have white collar jobs.\u001b[0m\n",
      "\u001b[1m> Finished chain.\u001b[0m\n"
     ]
    },
    {
     "data": {
      "text/plain": [
       "'The count of females who are having white collar jobs is 1010.'"
      ]
     },
     "execution_count": 13,
     "metadata": {},
     "output_type": "execute_result"
    }
   ],
   "source": [
    "#8\n",
    "generate(\" provide me the count of females who are having white collar jobs\")"
   ]
  },
  {
   "cell_type": "code",
   "execution_count": null,
   "metadata": {},
   "outputs": [
    {
     "name": "stdout",
     "output_type": "stream",
     "text": [
      "\n",
      "\n",
      "\u001b[1m> Entering new SQLDatabaseChain chain...\u001b[0m\n",
      "provide me the count of peopel who are from wales and doing white collar jobs \n",
      "SQLQuery:\u001b[32;1m\u001b[1;3mSELECT COUNT(`Customer ID`) AS `Count`\n",
      "FROM p6_uk_bank_customers\n",
      "WHERE Region = 'Wales' AND `Job Classification` = 'White Collar';\u001b[0m\n",
      "SQLResult: \u001b[33;1m\u001b[1;3m[(305,)]\u001b[0m\n",
      "Answer:\u001b[32;1m\u001b[1;3mThere are 305 people from Wales who are doing white collar jobs.\u001b[0m\n",
      "\u001b[1m> Finished chain.\u001b[0m\n"
     ]
    },
    {
     "data": {
      "text/plain": [
       "'The count of people who are from Wales and doing white collar jobs is 305.'"
      ]
     },
     "execution_count": 14,
     "metadata": {},
     "output_type": "execute_result"
    }
   ],
   "source": [
    "#9\n",
    "generate(\"provide me the count of peopel who are from wales and doing white collar jobs \")"
   ]
  },
  {
   "cell_type": "code",
   "execution_count": null,
   "metadata": {},
   "outputs": [
    {
     "name": "stdout",
     "output_type": "stream",
     "text": [
      "\n",
      "\n",
      "\u001b[1m> Entering new SQLDatabaseChain chain...\u001b[0m\n",
      "provide average age of people with white collar jobs\n",
      "SQLQuery:\u001b[32;1m\u001b[1;3mSELECT AVG(`Age`) AS `Average Age`\n",
      "FROM p6_uk_bank_customers\n",
      "WHERE `Job Classification` = 'White Collar'\u001b[0m\n",
      "SQLResult: \u001b[33;1m\u001b[1;3m[(Decimal('35.2793'),)]\u001b[0m\n",
      "Answer:\u001b[32;1m\u001b[1;3mThe average age of people with white collar jobs is 35.2793.\u001b[0m\n",
      "\u001b[1m> Finished chain.\u001b[0m\n"
     ]
    },
    {
     "data": {
      "text/plain": [
       "'The average age of people with white collar jobs is 35.2793.'"
      ]
     },
     "execution_count": 16,
     "metadata": {},
     "output_type": "execute_result"
    }
   ],
   "source": [
    "#10\n",
    "generate(\"provide average age of people with white collar jobs\")"
   ]
  },
  {
   "cell_type": "code",
   "execution_count": null,
   "metadata": {},
   "outputs": [
    {
     "name": "stdout",
     "output_type": "stream",
     "text": [
      "\n",
      "\n",
      "\u001b[1m> Entering new SQLDatabaseChain chain...\u001b[0m\n",
      "provide me the names of customers who are having maximum balance\n",
      "SQLQuery:\u001b[32;1m\u001b[1;3mSELECT `Name`\n",
      "FROM p6_uk_bank_customers\n",
      "ORDER BY `Balance` DESC\n",
      "LIMIT 1;\u001b[0m\n",
      "SQLResult: \u001b[33;1m\u001b[1;3m[('Dorothy',)]\u001b[0m\n",
      "Answer:\u001b[32;1m\u001b[1;3mDorothy\u001b[0m\n",
      "\u001b[1m> Finished chain.\u001b[0m\n"
     ]
    },
    {
     "data": {
      "text/plain": [
       "'The names of customers who are having the maximum balance are:\\n1. Dorothy'"
      ]
     },
     "execution_count": 17,
     "metadata": {},
     "output_type": "execute_result"
    }
   ],
   "source": [
    "#11\n",
    "generate(\"provide me the names of customers who are having maximum balance\")"
   ]
  },
  {
   "cell_type": "code",
   "execution_count": null,
   "metadata": {},
   "outputs": [
    {
     "name": "stdout",
     "output_type": "stream",
     "text": [
      "\n",
      "\n",
      "\u001b[1m> Entering new SQLDatabaseChain chain...\u001b[0m\n",
      "provie me the maximum balance, name of the person and job classification\n",
      "SQLQuery:\u001b[32;1m\u001b[1;3mSELECT MAX(`Balance`) AS `Max Balance`, `Name`, `Job Classification`\n",
      "FROM p6_uk_bank_customers;\u001b[0m\n",
      "SQLResult: \u001b[33;1m\u001b[1;3m[(Decimal('183467.70'), 'Simon', 'White Collar')]\u001b[0m\n",
      "Answer:\u001b[32;1m\u001b[1;3mThe maximum balance in the bank is £183,467.70, and the person with this balance is Simon who is classified as White Collar.\u001b[0m\n",
      "\u001b[1m> Finished chain.\u001b[0m\n"
     ]
    },
    {
     "data": {
      "text/plain": [
       "'The maximum balance in the bank is £183,467.70, and the person with this balance is Simon who is classified as White Collar.'"
      ]
     },
     "execution_count": 18,
     "metadata": {},
     "output_type": "execute_result"
    }
   ],
   "source": [
    "#12\n",
    "generate(\"provie me the maximum balance, name of the person and job classification\")"
   ]
  },
  {
   "cell_type": "markdown",
   "metadata": {},
   "source": [
    "seperate queries"
   ]
  },
  {
   "cell_type": "code",
   "execution_count": 21,
   "metadata": {},
   "outputs": [
    {
     "name": "stdout",
     "output_type": "stream",
     "text": [
      "\n",
      "\n",
      "\u001b[1m> Entering new SQLDatabaseChain chain...\u001b[0m\n",
      "provide me the names of applicants who have same name\n",
      "SQLQuery:\u001b[32;1m\u001b[1;3mSELECT `Name`, COUNT(`Name`) AS NameCount\n",
      "FROM p6_uk_bank_customers\n",
      "GROUP BY `Name`\n",
      "HAVING COUNT(`Name`) > 1\n",
      "ORDER BY NameCount DESC\n",
      "LIMIT 2500;\u001b[0m\n",
      "SQLResult: \u001b[33;1m\u001b[1;3m[('Jason', 42), ('John', 39), ('Blake', 38), ('Dominic', 37), ('Yvonne', 36), ('Lucas', 36), ('David', 35), ('Alan', 35), ('Ruth', 34), ('Leonard', 34), ('Boris', 33), ('Matt', 33), ('Owen', 33), ('Paul', 33), ('Peter', 33), ('Joshua', 33), ('Brian', 32), ('Ian', 32), ('Dylan', 32), ('Adam', 32), ('Deirdre', 32), ('Tim', 32), ('James', 31), ('Chloe', 31), ('Christopher', 31), ('Jake', 31), ('Gavin', 31), ('Harry', 31), ('Piers', 31), ('Jasmine', 30), ('Amy', 30), ('William', 30), ('Kevin', 30), ('Sebastian', 30), ('Gordon', 30), ('Heather', 29), ('Simon', 29), ('Nicholas', 29), ('Sam', 29), ('Sean', 29), ('Fiona', 29), ('Isaac', 29), ('Penelope', 29), ('Keith', 29), ('Amanda', 28), ('Victor', 28), ('Warren', 28), ('Nathan', 28), ('Liam', 28), ('Michael', 28), ('Trevor', 28), ('Edward', 28), ('Luke', 28), ('Oliver', 27), ('Joan', 27), ('Jonathan', 27), ('Stewart', 27), ('Dan', 27), ('Alison', 27), ('Steven', 27), ('Colin', 27), ('Anna', 27), ('Bernadette', 27), ('Connor', 26), ('Richard', 26), ('Phil', 26), ('Benjamin', 26), ('Grace', 26), ('Jacob', 26), ('Christian', 25), ('Diane', 25), ('Julian', 25), ('Justin', 25), ('Olivia', 25), ('Dorothy', 25), ('Jane', 25), ('Abigail', 25), ('Evan', 25), ('Emily', 24), ('Felicity', 24), ('Molly', 24), ('Ryan', 24), ('Cameron', 24), ('Mary', 24), ('Lily', 24), ('Alexander', 24), ('Katherine', 24), ('Stephen', 23), ('Wendy', 23), ('Jan', 23), ('Jack', 23), ('Brandon', 23), ('Lisa', 23), ('Victoria', 23), ('Amelia', 23), ('Charles', 23), ('Andrew', 23), ('Madeleine', 23), ('Julia', 22), ('Megan', 22), ('Sonia', 22), ('Rachel', 22), ('Andrea', 22), ('Zoe', 22), ('Samantha', 22), ('Carolyn', 22), ('Rebecca', 22), ('Gabrielle', 22), ('Anthony', 22), ('Joseph', 22), ('Karen', 22), ('Anne', 22), ('Hannah', 22), ('Sally', 21), ('Eric', 21), ('Caroline', 21), ('Carl', 21), ('Angela', 21), ('Nicola', 21), ('Adrian', 21), ('Wanda', 21), ('Lillian', 20), ('Tracey', 20), ('Diana', 20), ('Audrey', 20), ('Kimberly', 19), ('Maria', 19), ('Joanne', 19), ('Leah', 19), ('Faith', 19), ('Irene', 18), ('Sophie', 18), ('Kylie', 18), ('Natalie', 18), ('Jessica', 18), ('Donna', 18), ('Joe', 18), ('Jennifer', 18), ('Lauren', 18), ('Vanessa', 17), ('Sue', 17), ('Neil', 17), ('Emma', 17), ('Robert', 17), ('Thomas', 17), ('Michelle', 17), ('Rose', 16), ('Pippa', 16), ('Theresa', 16), ('Una', 16), ('Carol', 16), ('Bella', 16), ('Alexandra', 16), ('Frank', 16), ('Austin', 16), ('Claire', 15), ('Virginia', 15), ('Melanie', 15), ('Ava', 14), ('Elizabeth', 14), ('Stephanie', 14), ('Ella', 13), ('Sarah', 10), ('Max', 10), ('Ludwig', 2), ('Alberto', 2)]\u001b[0m\n",
      "Answer:\u001b[32;1m\u001b[1;3mNames of applicants who have the same name are: Jason, John, Blake, Dominic, Yvonne, Lucas, David, Alan, Ruth, Leonard, Boris, Matt, Owen, Paul, Peter, Joshua, Brian, Ian, Dylan, Adam, Deirdre, Tim, James, Chloe, Christopher, Jake, Gavin, Harry, Piers, Jasmine, Amy, William, Kevin, Sebastian, Gordon, Heather, Simon, Nicholas, Sam, Sean, Fiona, Isaac, Penelope, Keith, Amanda, Victor, Warren, Nathan, Liam, Michael, Trevor, Edward, Luke, Oliver, Joan, Jonathan, Stewart, Dan, Alison, Steven, Colin, Anna, Bernadette, Connor, Richard, Phil, Benjamin, Grace, Jacob, Christian, Diane, Julian, Justin, Olivia, Dorothy, Jane, Abigail, Evan, Emily, Felicity, Molly, Ryan, Cameron, Mary, Lily, Alexander, Katherine, Stephen, Wendy, Jan, Jack, Brandon, Lisa, Victoria, Amelia, Charles, Andrew, Madeleine, Julia, Megan, Sonia, Rachel, Andrea, Zoe, Samantha, Carolyn, Rebecca, Gabrielle, Anthony, Joseph, Karen, Anne, Hannah, Sally, Eric, Caroline, Carl, Angela, Nicola, Adrian, Wanda, Lillian, Tracey, Diana, Audrey, Kimberly, Maria, Joanne, Leah, Faith, Irene, Sophie, Kylie, Natalie, Jessica, Donna, Joe, Jennifer, Lauren, Vanessa, Sue, Neil, Emma, Robert, Thomas, Michelle, Rose, Pippa, Theresa, Una, Carol, Bella, Alexandra, Frank, Austin, Claire, Virginia, Melanie, Ava, Elizabeth, Stephanie, Ella, Sarah, Max, Ludwig, Alberto.\u001b[0m\n",
      "\u001b[1m> Finished chain.\u001b[0m\n"
     ]
    },
    {
     "data": {
      "text/plain": [
       "'The names of applicants who have the same name are: Alan, Anna, Anne, Carol, Christian, Colin, Dan, Diana, Diane, Emma, Eric, Grace, Hannah, Jane, Joan, John, Joseph, Julia, Justin, Karen, Katherine, Keith, Kimberly, Laura, Lauren, Leah, Lily, Lisa, Luke, Maria, Mary, Megan, Michelle, Nathan, Neil, Olivia, Paul, Peter, Rachel, Rebecca, Rose, Ryan, Sam, Samantha, Sarah, Sean, Simon, Sonia, Sophie, Stephen, Sue, Theresa, Thomas, Tim, Victoria, Wendy.'"
      ]
     },
     "execution_count": 21,
     "metadata": {},
     "output_type": "execute_result"
    }
   ],
   "source": [
    "#13\n",
    "generate(\"provide me the names of applicants who have same name\")"
   ]
  },
  {
   "cell_type": "code",
   "execution_count": null,
   "metadata": {},
   "outputs": [
    {
     "name": "stdout",
     "output_type": "stream",
     "text": [
      "\n",
      "\n",
      "\u001b[1m> Entering new SQLDatabaseChain chain...\u001b[0m\n",
      "provide me the names of applicants who are having same bank balance \n",
      "SQLQuery:\u001b[32;1m\u001b[1;3mSELECT `Name`\n",
      "FROM p6_uk_bank_customers\n",
      "WHERE `Balance` IN (\n",
      "    SELECT `Balance`\n",
      "    FROM p6_uk_bank_customers\n",
      "    GROUP BY `Balance`\n",
      "    HAVING COUNT(*) > 1\n",
      ")\n",
      "ORDER BY `Balance` DESC\n",
      "LIMIT 2500;\u001b[0m\n",
      "SQLResult: \u001b[33;1m\u001b[1;3m[('Karen',), ('Kimberly',), ('Matt',), ('Jessica',)]\u001b[0m\n",
      "Answer:\u001b[32;1m\u001b[1;3mKaren, Kimberly, Matt, and Jessica are the names of applicants who are having the same bank balance.\u001b[0m\n",
      "\u001b[1m> Finished chain.\u001b[0m\n"
     ]
    },
    {
     "data": {
      "text/plain": [
       "'Karen, Kimberly, Matt, and Jessica'"
      ]
     },
     "execution_count": 22,
     "metadata": {},
     "output_type": "execute_result"
    }
   ],
   "source": [
    "#14\n",
    "generate(\"provide me the names of applicants who are having same bank balance \")"
   ]
  },
  {
   "cell_type": "code",
   "execution_count": null,
   "metadata": {},
   "outputs": [
    {
     "name": "stdout",
     "output_type": "stream",
     "text": [
      "\n",
      "\n",
      "\u001b[1m> Entering new SQLDatabaseChain chain...\u001b[0m\n",
      "provide me the count of applicants who are having same name and having same surname\n",
      "SQLQuery:\u001b[32;1m\u001b[1;3mSELECT `Name`, `Surname`, COUNT(*) AS `Count`\n",
      "FROM p6_uk_bank_customers\n",
      "GROUP BY `Name`, `Surname`\n",
      "HAVING COUNT(*) > 1\n",
      "ORDER BY `Count` DESC;\u001b[0m\n",
      "SQLResult: \u001b[33;1m\u001b[1;3m[('David', 'McLean', 2), ('Alexander', 'Hudson', 2), ('Isaac', 'Quinn', 2), ('Dylan', 'Parr', 2), ('Jake', 'Ball', 2), ('John', 'Payne', 2), ('Lucas', 'Abraham', 2), ('Dominic', 'Taylor', 2), ('John', 'Campbell', 2), ('Luke', 'Harris', 2), ('Nicholas', 'Allan', 2), ('Alan', 'Murray', 2), ('Amy', 'Graham', 2), ('Isaac', 'Gill', 2), ('Justin', 'Wallace', 2), ('Christopher', 'Langdon', 2), ('Peter', 'Bailey', 2), ('Harry', 'Reid', 2), ('Victor', 'Gray', 2), ('Tim', 'Marshall', 2), ('Christian', 'Miller', 2), ('Tim', 'Sanderson', 2), ('Victor', 'Black', 2), ('Ian', 'Terry', 2), ('David', 'Cameron', 2), ('Christian', 'Hemmings', 2), ('Ella', 'Knox', 2), ('Vanessa', 'McLean', 2), ('Julian', 'Hunter', 2), ('Jan', 'Avery', 2), ('Paul', 'Reid', 2), ('Lucas', 'Walsh', 2), ('Jack', 'Scott', 2), ('Trevor', 'Tucker', 2), ('Nathan', 'Turner', 2), ('Warren', 'Rutherford', 2), ('Paul', 'Baker', 2), ('Isaac', 'Kelly', 2), ('William', 'Lyman', 2), ('Victor', 'Arnold', 2), ('Victoria', 'Morrison', 2), ('Warren', 'Underwood', 2), ('Luke', 'Martin', 2), ('Zoe', 'Murray', 2), ('Christopher', 'Randall', 2), ('Colin', 'Hill', 2), ('Anthony', 'Mackenzie', 2), ('Isaac', 'Paige', 2), ('Jake', 'Abraham', 2), ('Warren', 'Ferguson', 2), ('Ian', 'May', 2), ('Liam', 'Dickens', 2), ('Owen', 'Ball', 2), ('Jacob', 'Sharp', 2), ('Dominic', 'May', 2), ('Nicholas', 'James', 2), ('Alison', 'MacLeod', 2), ('Steven', 'Brown', 2), ('Jennifer', 'Skinner', 2)]\u001b[0m\n",
      "Answer:\u001b[32;1m\u001b[1;3mThere are multiple applicants who have the same name and surname. The count of such applicants is provided in the SQLResult above.\u001b[0m\n",
      "\u001b[1m> Finished chain.\u001b[0m\n"
     ]
    },
    {
     "data": {
      "text/plain": [
       "'To provide you with the count of applicants who have the same name and surname, I will need to run the following SQL query:\\n\\n```sql\\nSELECT Name, Surname, COUNT(*) AS Count\\nFROM BankApplicants\\nGROUP BY Name, Surname\\nHAVING COUNT(*) > 1;\\n```\\n\\nThis query will give us the count of applicants who share the same name and surname.'"
      ]
     },
     "execution_count": 23,
     "metadata": {},
     "output_type": "execute_result"
    }
   ],
   "source": [
    "#15\n",
    "generate (\"provide me the count of applicants who are having same name and having same surname\")"
   ]
  },
  {
   "cell_type": "code",
   "execution_count": null,
   "metadata": {},
   "outputs": [
    {
     "name": "stdout",
     "output_type": "stream",
     "text": [
      "\n",
      "\n",
      "\u001b[1m> Entering new SQLDatabaseChain chain...\u001b[0m\n",
      "provide me the count of people who are having same name and having same job application\n",
      "SQLQuery:\u001b[32;1m\u001b[1;3mSELECT `Name`, `Job Classification`, COUNT(*) AS `Count`\n",
      "FROM p6_uk_bank_customers\n",
      "GROUP BY `Name`, `Job Classification`\n",
      "HAVING COUNT(*) > 1\n",
      "ORDER BY `Count` DESC;\u001b[0m\n",
      "SQLResult: \u001b[33;1m\u001b[1;3m[('Blake', 'Blue Collar', 26), ('Ruth', 'White Collar', 25), ('Yvonne', 'White Collar', 22), ('Paul', 'Blue Collar', 20), ('Jason', 'Blue Collar', 19), ('Deirdre', 'White Collar', 19), ('David', 'White Collar', 19), ('Bernadette', 'White Collar', 19), ('Chloe', 'White Collar', 19), ('Heather', 'White Collar', 18), ('Anna', 'White Collar', 18), ('Lucas', 'Blue Collar', 18), ('John', 'White Collar', 18), ('Dominic', 'White Collar', 18), ('Fiona', 'White Collar', 17), ('Matt', 'White Collar', 17), ('James', 'White Collar', 17), ('Oliver', 'White Collar', 16), ('Evan', 'Blue Collar', 16), ('Boris', 'White Collar', 16), ('Liam', 'White Collar', 16), ('Grace', 'White Collar', 16), ('Isaac', 'Blue Collar', 16), ('Tim', 'White Collar', 16), ('Christopher', 'White Collar', 16), ('Ian', 'White Collar', 16), ('Kevin', 'White Collar', 15), ('Owen', 'Blue Collar', 15), ('Wendy', 'White Collar', 15), ('Brian', 'White Collar', 15), ('Colin', 'White Collar', 15), ('Jonathan', 'White Collar', 15), ('Richard', 'White Collar', 15), ('Lucas', 'White Collar', 15), ('Edward', 'White Collar', 15), ('Olivia', 'White Collar', 15), ('Penelope', 'White Collar', 15), ('Piers', 'White Collar', 15), ('Harry', 'White Collar', 15), ('Steven', 'White Collar', 15), ('Jane', 'White Collar', 15), ('Amanda', 'White Collar', 15), ('Jason', 'White Collar', 15), ('Gavin', 'White Collar', 14), ('Caroline', 'White Collar', 14), ('Sean', 'White Collar', 14), ('Molly', 'White Collar', 14), ('Gordon', 'White Collar', 14), ('Alan', 'Blue Collar', 14), ('Warren', 'Blue Collar', 14), ('Nicholas', 'White Collar', 14), ('Joan', 'White Collar', 14), ('Keith', 'Blue Collar', 14), ('Luke', 'White Collar', 13), ('Joshua', 'White Collar', 13), ('Amy', 'White Collar', 13), ('Diane', 'White Collar', 13), ('Peter', 'White Collar', 13), ('Joseph', 'White Collar', 13), ('Katherine', 'White Collar', 13), ('Leonard', 'Blue Collar', 13), ('Victoria', 'White Collar', 13), ('Sebastian', 'White Collar', 13), ('Benjamin', 'White Collar', 13), ('Dan', 'White Collar', 13), ('Nathan', 'White Collar', 13), ('Abigail', 'White Collar', 13), ('Jasmine', 'White Collar', 13), ('John', 'Blue Collar', 13), ('Peter', 'Blue Collar', 13), ('Jack', 'White Collar', 13), ('Owen', 'White Collar', 13), ('Andrea', 'White Collar', 13), ('Trevor', 'Blue Collar', 13), ('Felicity', 'White Collar', 13), ('William', 'White Collar', 13), ('Anne', 'White Collar', 13), ('William', 'Blue Collar', 13), ('Yvonne', 'Other', 13), ('Michael', 'Blue Collar', 13), ('Carolyn', 'White Collar', 13), ('Victor', 'White Collar', 13), ('Samantha', 'White Collar', 13), ('Adam', 'White Collar', 12), ('Alison', 'Other', 12), ('Zoe', 'White Collar', 12), ('Jasmine', 'Other', 12), ('Audrey', 'White Collar', 12), ('Brandon', 'White Collar', 12), ('Una', 'White Collar', 12), ('Alison', 'White Collar', 12), ('Pippa', 'White Collar', 12), ('Nicola', 'White Collar', 12), ('Kylie', 'White Collar', 12), ('Amy', 'Other', 12), ('Carl', 'White Collar', 12), ('Jan', 'White Collar', 12), ('Simon', 'White Collar', 12), ('Jake', 'Blue Collar', 12), ('Justin', 'White Collar', 12), ('Victor', 'Blue Collar', 12), ('Sebastian', 'Blue Collar', 12), ('Leonard', 'White Collar', 12), ('Maria', 'White Collar', 12), ('Dylan', 'Blue Collar', 12), ('Stewart', 'White Collar', 12), ('Adam', 'Blue Collar', 12), ('Kimberly', 'White Collar', 12), ('Sean', 'Blue Collar', 12), ('Amelia', 'White Collar', 12), ('Kevin', 'Blue Collar', 11), ('Andrew', 'White Collar', 11), ('Eric', 'Blue Collar', 11), ('Jessica', 'White Collar', 11), ('Natalie', 'White Collar', 11), ('Hannah', 'Other', 11), ('Liam', 'Blue Collar', 11), ('Lisa', 'Other', 11), ('Jennifer', 'White Collar', 11), ('Wanda', 'White Collar', 11), ('Diana', 'White Collar', 11), ('Nicholas', 'Blue Collar', 11), ('Nathan', 'Blue Collar', 11), ('Jake', 'White Collar', 11), ('Lily', 'White Collar', 11), ('Sue', 'White Collar', 11), ('Stephen', 'Blue Collar', 11), ('Matt', 'Blue Collar', 11), ('Christopher', 'Blue Collar', 11), ('Theresa', 'White Collar', 11), ('Lily', 'Other', 11), ('Faith', 'White Collar', 11), ('Megan', 'White Collar', 11), ('Sam', 'Blue Collar', 11), ('Julia', 'White Collar', 11), ('Blake', 'White Collar', 11), ('Tim', 'Blue Collar', 11), ('Sam', 'White Collar', 11), ('Dorothy', 'White Collar', 11), ('Emily', 'Other', 11), ('Trevor', 'White Collar', 11), ('Ryan', 'White Collar', 11), ('Leah', 'Other', 11), ('Rebecca', 'White Collar', 11), ('Sally', 'White Collar', 11), ('Joshua', 'Blue Collar', 11), ('Virginia', 'White Collar', 11), ('Rose', 'White Collar', 11), ('Emily', 'White Collar', 11), ('Dylan', 'White Collar', 11), ('Emma', 'White Collar', 11), ('Gabrielle', 'Other', 11), ('Alan', 'White Collar', 11), ('Dominic', 'Blue Collar', 10), ('Stephen', 'White Collar', 10), ('Mary', 'Other', 10), ('Vanessa', 'White Collar', 10), ('Angela', 'White Collar', 10), ('Connor', 'White Collar', 10), ('Karen', 'White Collar', 10), ('Lisa', 'White Collar', 10), ('Phil', 'Blue Collar', 10), ('Sophie', 'White Collar', 10), ('Piers', 'Blue Collar', 10), ('Charles', 'Other', 10), ('Alexander', 'Blue Collar', 10), ('Keith', 'White Collar', 10), ('Jacob', 'White Collar', 10), ('Tracey', 'White Collar', 10), ('Stewart', 'Blue Collar', 10), ('Gabrielle', 'White Collar', 10), ('Christian', 'Blue Collar', 10), ('Julian', 'Blue Collar', 10), ('Alan', 'Other', 10), ('Jacob', 'Blue Collar', 10), ('Joan', 'Other', 10), ('Warren', 'White Collar', 10), ('Alexander', 'White Collar', 10), ('Harry', 'Blue Collar', 10), ('Boris', 'Blue Collar', 10), ('Lillian', 'White Collar', 10), ('Sonia', 'Other', 10), ('Connor', 'Blue Collar', 9), ('Rachel', 'Other', 9), ('Michael', 'White Collar', 9), ('Robert', 'White Collar', 9), ('Jan', 'Other', 9), ('Leonard', 'Other', 9), ('Neil', 'White Collar', 9), ('Christian', 'White Collar', 9), ('Adrian', 'Blue Collar', 9), ('Penelope', 'Other', 9), ('Lillian', 'Other', 9), ('Dorothy', 'Other', 9), ('Phil', 'White Collar', 9), ('Brandon', 'Blue Collar', 9), ('Joshua', 'Other', 9), ('Madeleine', 'Other', 9), ('Angela', 'Other', 9), ('Eric', 'White Collar', 9), ('Simon', 'Blue Collar', 9), ('Katherine', 'Other', 9), ('Bella', 'White Collar', 9), ('Richard', 'Blue Collar', 9), ('Irene', 'White Collar', 9), ('Benjamin', 'Blue Collar', 9), ('Dan', 'Blue Collar', 9), ('Carol', 'White Collar', 9), ('Dominic', 'Other', 9), ('Hannah', 'White Collar', 9), ('Michelle', 'White Collar', 9), ('Ian', 'Blue Collar', 9), ('Madeleine', 'White Collar', 9), ('Claire', 'White Collar', 9), ('Stephanie', 'White Collar', 9), ('Gavin', 'Blue Collar', 9), ('Cameron', 'White Collar', 9), ('Lauren', 'White Collar', 9), ('Gordon', 'Blue Collar', 9), ('Olivia', 'Other', 9), ('Dylan', 'Other', 9), ('Julian', 'White Collar', 9), ('Brian', 'Other', 9), ('David', 'Other', 8), ('Carolyn', 'Other', 8), ('John', 'Other', 8), ('Justin', 'Blue Collar', 8), ('David', 'Blue Collar', 8), ('Joe', 'Blue Collar', 8), ('Joanne', 'Other', 8), ('Jason', 'Other', 8), ('Tracey', 'Other', 8), ('Jonathan', 'Blue Collar', 8), ('Grace', 'Other', 8), ('Jake', 'Other', 8), ('Megan', 'Other', 8), ('Anthony', 'Blue Collar', 8), ('Adrian', 'White Collar', 8), ('Joanne', 'White Collar', 8), ('Anthony', 'Other', 8), ('Nicola', 'Other', 8), ('Chloe', 'Other', 8), ('Gavin', 'Other', 8), ('Mary', 'White Collar', 8), ('Joseph', 'Blue Collar', 8), ('Edward', 'Other', 8), ('Isaac', 'White Collar', 8), ('Amanda', 'Other', 8), ('Simon', 'Other', 8), ('Melanie', 'White Collar', 8), ('Diane', 'Other', 8), ('Diana', 'Other', 8), ('Cameron', 'Blue Collar', 8), ('Ryan', 'Blue Collar', 8), ('Sonia', 'White Collar', 8), ('Adam', 'Other', 8), ('Brian', 'Blue Collar', 8), ('Charles', 'Blue Collar', 8), ('Deirdre', 'Other', 8), ('James', 'Blue Collar', 8), ('Luke', 'Other', 8), ('Elizabeth', 'White Collar', 8), ('Luke', 'Blue Collar', 7), ('Phil', 'Other', 7), ('Heather', 'Other', 7), ('Oliver', 'Other', 7), ('Donna', 'White Collar', 7), ('Ian', 'Other', 7), ('Paul', 'Other', 7), ('Steven', 'Other', 7), ('Donna', 'Other', 7), ('Felicity', 'Other', 7), ('Evan', 'White Collar', 7), ('Peter', 'Other', 7), ('Zoe', 'Other', 7), ('Alexandra', 'Other', 7), ('Ava', 'White Collar', 7), ('Boris', 'Other', 7), ('Thomas', 'White Collar', 7), ('Alexandra', 'White Collar', 7), ('Sam', 'Other', 7), ('Colin', 'Blue Collar', 7), ('Carl', 'Blue Collar', 7), ('Connor', 'Other', 7), ('Molly', 'Other', 7), ('Abigail', 'Other', 7), ('Amelia', 'Other', 7), ('Gordon', 'Other', 7), ('Rachel', 'White Collar', 7), ('Cameron', 'Other', 7), ('Joe', 'White Collar', 7), ('Wanda', 'Other', 6), ('Sarah', 'White Collar', 6), ('Thomas', 'Blue Collar', 6), ('Julia', 'Other', 6), ('Rebecca', 'Other', 6), ('Andrew', 'Other', 6), ('Paul', 'White Collar', 6), ('Harry', 'Other', 6), ('Frank', 'White Collar', 6), ('Jacob', 'Other', 6), ('Claire', 'Other', 6), ('Sue', 'Other', 6), ('Wendy', 'Other', 6), ('Natalie', 'Other', 6), ('Jane', 'Other', 6), ('Julian', 'Other', 6), ('Leah', 'White Collar', 6), ('Karen', 'Blue Collar', 6), ('Ruth', 'Other', 6), ('Andrew', 'Blue Collar', 6), ('Victoria', 'Other', 6), ('Andrea', 'Other', 6), ('Christian', 'Other', 6), ('Anthony', 'White Collar', 6), ('Karen', 'Other', 6), ('Michael', 'Other', 6), ('Piers', 'Other', 6), ('Mary', 'Blue Collar', 6), ('Fiona', 'Other', 6), ('Austin', 'White Collar', 6), ('James', 'Other', 6), ('Kylie', 'Other', 6), ('Austin', 'Other', 6), ('Rachel', 'Blue Collar', 6), ('Ella', 'White Collar', 6), ('Jack', 'Blue Collar', 6), ('Maria', 'Other', 6), ('Max', 'White Collar', 6), ('Fiona', 'Blue Collar', 6), ('Deirdre', 'Blue Collar', 5), ('Stewart', 'Other', 5), ('Amy', 'Blue Collar', 5), ('Isaac', 'Other', 5), ('Faith', 'Other', 5), ('Sebastian', 'Other', 5), ('Lauren', 'Blue Collar', 5), ('Elizabeth', 'Other', 5), ('Anne', 'Other', 5), ('Kimberly', 'Other', 5), ('Frank', 'Blue Collar', 5), ('Tim', 'Other', 5), ('Ryan', 'Other', 5), ('Charles', 'White Collar', 5), ('Amanda', 'Blue Collar', 5), ('Owen', 'Other', 5), ('Carol', 'Other', 5), ('Michelle', 'Other', 5), ('Matt', 'Other', 5), ('Keith', 'Other', 5), ('Julia', 'Blue Collar', 5), ('Samantha', 'Blue Collar', 5), ('Steven', 'Blue Collar', 5), ('Madeleine', 'Blue Collar', 5), ('Vanessa', 'Other', 5), ('Sally', 'Blue Collar', 5), ('Irene', 'Blue Collar', 5), ('Rebecca', 'Blue Collar', 5), ('Bernadette', 'Other', 5), ('Jessica', 'Other', 5), ('Dan', 'Other', 5), ('Colin', 'Other', 5), ('Justin', 'Other', 5), ('Dorothy', 'Blue Collar', 5), ('Edward', 'Blue Collar', 5), ('Neil', 'Blue Collar', 5), ('Penelope', 'Blue Collar', 5), ('Abigail', 'Blue Collar', 5), ('Sally', 'Other', 5), ('Jasmine', 'Blue Collar', 5), ('Anna', 'Blue Collar', 5), ('Frank', 'Other', 5), ('Audrey', 'Other', 5), ('Jonathan', 'Other', 4), ('William', 'Other', 4), ('Thomas', 'Other', 4), ('Kevin', 'Other', 4), ('Jack', 'Other', 4), ('Stephanie', 'Other', 4), ('Anne', 'Blue Collar', 4), ('Austin', 'Blue Collar', 4), ('Caroline', 'Other', 4), ('Lauren', 'Other', 4), ('Anna', 'Other', 4), ('Robert', 'Blue Collar', 4), ('Sonia', 'Blue Collar', 4), ('Jane', 'Blue Collar', 4), ('Donna', 'Blue Collar', 4), ('Diane', 'Blue Collar', 4), ('Nathan', 'Other', 4), ('Felicity', 'Blue Collar', 4), ('Benjamin', 'Other', 4), ('Chloe', 'Blue Collar', 4), ('Heather', 'Blue Collar', 4), ('Ella', 'Other', 4), ('Victoria', 'Blue Collar', 4), ('Sophie', 'Other', 4), ('Oliver', 'Blue Collar', 4), ('Samantha', 'Other', 4), ('Emma', 'Other', 4), ('Amelia', 'Blue Collar', 4), ('Melanie', 'Other', 4), ('Jennifer', 'Blue Collar', 4), ('Nicholas', 'Other', 4), ('Robert', 'Other', 4), ('Bella', 'Other', 4), ('Trevor', 'Other', 4), ('Una', 'Other', 4), ('Irene', 'Other', 4), ('Adrian', 'Other', 4), ('Wanda', 'Blue Collar', 4), ('Sophie', 'Blue Collar', 4), ('Ava', 'Other', 4), ('Christopher', 'Other', 4), ('Alexander', 'Other', 4), ('Warren', 'Other', 4), ('Caroline', 'Blue Collar', 3), ('Pippa', 'Other', 3), ('Ruth', 'Blue Collar', 3), ('Faith', 'Blue Collar', 3), ('Lucas', 'Other', 3), ('Alison', 'Blue Collar', 3), ('Joe', 'Other', 3), ('Joanne', 'Blue Collar', 3), ('Victor', 'Other', 3), ('Audrey', 'Blue Collar', 3), ('Zoe', 'Blue Collar', 3), ('Bernadette', 'Blue Collar', 3), ('Jennifer', 'Other', 3), ('Molly', 'Blue Collar', 3), ('Sean', 'Other', 3), ('Ava', 'Blue Collar', 3), ('Melanie', 'Blue Collar', 3), ('Megan', 'Blue Collar', 3), ('Max', 'Other', 3), ('Rose', 'Other', 3), ('Ella', 'Blue Collar', 3), ('Sarah', 'Other', 3), ('Neil', 'Other', 3), ('Theresa', 'Other', 3), ('Andrea', 'Blue Collar', 3), ('Michelle', 'Blue Collar', 3), ('Bella', 'Blue Collar', 3), ('Joan', 'Blue Collar', 3), ('Stephen', 'Other', 2), ('Katherine', 'Blue Collar', 2), ('Rose', 'Blue Collar', 2), ('Carol', 'Blue Collar', 2), ('Alexandra', 'Blue Collar', 2), ('Virginia', 'Blue Collar', 2), ('Kimberly', 'Blue Collar', 2), ('Vanessa', 'Blue Collar', 2), ('Grace', 'Blue Collar', 2), ('Theresa', 'Blue Collar', 2), ('Evan', 'Other', 2), ('Jan', 'Blue Collar', 2), ('Leah', 'Blue Collar', 2), ('Lisa', 'Blue Collar', 2), ('Emma', 'Blue Collar', 2), ('Jessica', 'Blue Collar', 2), ('Lily', 'Blue Collar', 2), ('Richard', 'Other', 2), ('Virginia', 'Other', 2), ('Emily', 'Blue Collar', 2), ('Wendy', 'Blue Collar', 2), ('Angela', 'Blue Collar', 2), ('Brandon', 'Other', 2), ('Carl', 'Other', 2), ('Tracey', 'Blue Collar', 2), ('Hannah', 'Blue Collar', 2)]\u001b[0m\n",
      "Answer:\u001b[32;1m\u001b[1;3mThere are multiple people who have the same name and job classification. The count of such occurrences is provided in the SQLResult above.\u001b[0m\n",
      "\u001b[1m> Finished chain.\u001b[0m\n"
     ]
    },
    {
     "data": {
      "text/plain": [
       "'To provide you with the count of people who have the same name and job classification, the following SQL query can be used:\\n\\n```sql\\nSELECT Name, JobClassification, COUNT(*) AS CountOfPeople\\nFROM BankApplicants\\nGROUP BY Name, JobClassification\\nHAVING COUNT(*) > 1;\\n```\\n\\nThis query will group the applicants by their name and job classification, and then count the number of occurrences for each unique combination. The `HAVING COUNT(*) > 1` condition ensures that only the combinations with more than one occurrence are included in the result.'"
      ]
     },
     "execution_count": 24,
     "metadata": {},
     "output_type": "execute_result"
    }
   ],
   "source": [
    "#16\n",
    "generate(\"provide me the count of people who are having same name and having same job application\")"
   ]
  },
  {
   "cell_type": "code",
   "execution_count": 25,
   "metadata": {},
   "outputs": [
    {
     "name": "stdout",
     "output_type": "stream",
     "text": [
      "\n",
      "\n",
      "\u001b[1m> Entering new SQLDatabaseChain chain...\u001b[0m\n",
      "provide me the names of female who are hvaing white collare jobs and having balance above than 50000\n",
      "SQLQuery:\u001b[32;1m\u001b[1;3mSELECT `Name`\n",
      "FROM p6_uk_bank_customers\n",
      "WHERE `Gender` = 'Female' AND `Job Classification` = 'White Collar' AND `Balance` > 50000\n",
      "LIMIT 2500;\u001b[0m\n",
      "SQLResult: \u001b[33;1m\u001b[1;3m[('Ruth',), ('Deirdre',), ('Joan',), ('Pippa',), ('Jasmine',), ('Rebecca',), ('Andrea',), ('Nicola',), ('Elizabeth',), ('Hannah',), ('Mary',), ('Jennifer',), ('Karen',), ('Fiona',), ('Yvonne',), ('Wanda',), ('Fiona',), ('Maria',), ('Theresa',), ('Olivia',), ('Penelope',), ('Felicity',), ('Jessica',), ('Nicola',), ('Felicity',), ('Tracey',), ('Anna',), ('Jasmine',), ('Ruth',), ('Wendy',), ('Amy',), ('Pippa',), ('Wendy',), ('Amanda',), ('Amelia',), ('Chloe',), ('Felicity',), ('Anne',), ('Lillian',), ('Gabrielle',), ('Madeleine',), ('Diana',), ('Lillian',), ('Molly',), ('Jasmine',), ('Heather',), ('Penelope',), ('Diane',), ('Jan',), ('Julia',), ('Katherine',), ('Nicola',), ('Chloe',), ('Bella',), ('Pippa',), ('Diane',), ('Melanie',), ('Amy',), ('Felicity',), ('Megan',), ('Pippa',), ('Rose',), ('Natalie',), ('Sally',), ('Andrea',), ('Victoria',), ('Victoria',), ('Sophie',), ('Deirdre',), ('Hannah',), ('Grace',), ('Ella',), ('Una',), ('Emma',), ('Joan',), ('Emma',), ('Katherine',), ('Julia',), ('Sonia',), ('Heather',), ('Amanda',), ('Joan',), ('Caroline',), ('Ava',), ('Caroline',), ('Megan',), ('Emily',), ('Sonia',), ('Gabrielle',), ('Grace',), ('Dorothy',), ('Bella',), ('Diane',), ('Madeleine',), ('Zoe',), ('Gabrielle',), ('Leah',), ('Julia',), ('Nicola',), ('Jane',), ('Abigail',), ('Katherine',), ('Rose',), ('Olivia',), ('Amelia',), ('Lillian',), ('Amelia',), ('Anna',), ('Caroline',), ('Samantha',), ('Gabrielle',), ('Donna',), ('Madeleine',), ('Yvonne',), ('Tracey',), ('Lauren',), ('Lily',), ('Jan',), ('Lauren',), ('Tracey',), ('Chloe',), ('Andrea',), ('Yvonne',), ('Jan',), ('Heather',), ('Sonia',), ('Natalie',), ('Grace',), ('Anne',), ('Amy',), ('Angela',), ('Donna',), ('Virginia',), ('Ella',), ('Molly',), ('Jan',), ('Lisa',), ('Katherine',), ('Vanessa',), ('Kylie',), ('Olivia',), ('Amelia',), ('Wendy',), ('Ruth',), ('Bernadette',), ('Ruth',), ('Irene',), ('Anne',), ('Elizabeth',), ('Fiona',), ('Sophie',), ('Chloe',), ('Jane',), ('Audrey',), ('Rebecca',), ('Jennifer',), ('Emily',), ('Penelope',), ('Michelle',), ('Lisa',), ('Audrey',), ('Diana',), ('Bella',), ('Jane',), ('Abigail',), ('Ava',), ('Molly',), ('Jasmine',), ('Ava',), ('Olivia',), ('Irene',), ('Andrea',), ('Wanda',), ('Jasmine',), ('Irene',), ('Maria',), ('Nicola',), ('Caroline',), ('Stephanie',), ('Kylie',), ('Heather',), ('Claire',), ('Andrea',), ('Penelope',), ('Sophie',), ('Fiona',), ('Grace',), ('Bella',), ('Wanda',), ('Melanie',), ('Emily',), ('Yvonne',), ('Yvonne',), ('Natalie',), ('Amanda',), ('Dorothy',), ('Amanda',), ('Dorothy',), ('Maria',), ('Sonia',), ('Yvonne',), ('Emma',), ('Theresa',), ('Anne',), ('Lauren',), ('Carolyn',), ('Carolyn',), ('Anne',), ('Victoria',), ('Bernadette',), ('Grace',), ('Natalie',), ('Yvonne',), ('Hannah',), ('Alison',), ('Mary',), ('Carol',), ('Audrey',), ('Rebecca',), ('Zoe',), ('Jennifer',), ('Caroline',), ('Amelia',), ('Anna',), ('Dorothy',), ('Virginia',), ('Emma',), ('Caroline',), ('Carolyn',), ('Elizabeth',), ('Felicity',), ('Megan',), ('Hannah',), ('Jennifer',), ('Sonia',), ('Carol',), ('Alison',), ('Claire',), ('Deirdre',), ('Una',), ('Amanda',), ('Diane',), ('Sophie',), ('Andrea',), ('Claire',), ('Emily',), ('Anna',), ('Felicity',), ('Mary',), ('Bernadette',), ('Amanda',), ('Anne',), ('Heather',), ('Sue',), ('Leah',), ('Gabrielle',), ('Bernadette',), ('Heather',), ('Jessica',), ('Ruth',), ('Jan',), ('Katherine',), ('Molly',), ('Jan',), ('Zoe',), ('Sue',), ('Sue',), ('Angela',), ('Kimberly',), ('Faith',), ('Felicity',), ('Julia',), ('Anna',), ('Diana',), ('Wendy',), ('Penelope',), ('Nicola',), ('Faith',), ('Carolyn',), ('Jennifer',), ('Victoria',), ('Deirdre',), ('Kimberly',), ('Molly',), ('Carol',), ('Elizabeth',), ('Fiona',), ('Ruth',), ('Diane',), ('Pippa',), ('Natalie',), ('Ruth',), ('Yvonne',), ('Molly',), ('Anna',), ('Faith',), ('Heather',), ('Carol',), ('Olivia',), ('Stephanie',), ('Una',), ('Amy',), ('Faith',), ('Grace',), ('Donna',), ('Audrey',), ('Wanda',), ('Lillian',), ('Alexandra',), ('Emily',), ('Rachel',), ('Sue',), ('Gabrielle',)]\u001b[0m\n",
      "Answer:\u001b[32;1m\u001b[1;3mThe names of females who have white-collar jobs and a balance above 50000 are Ruth, Deirdre, Joan, Pippa, Jasmine, Rebecca, Andrea, Nicola, Elizabeth, Hannah, Mary, Jennifer, Karen, Fiona, Yvonne, Wanda, Maria, Theresa, Olivia, Penelope, Felicity, Jessica, Tracey, Anna, Wendy, Amy, Amanda, Amelia, Chloe, Anne, Lillian, Gabrielle, Madeleine, Diana, Molly, Heather, Diane, Jan, Julia, Katherine, Bella, Melanie, Megan, Rose, Natalie, Sally, Victoria, Sophie, Grace, Ella, Una, Emma, Sonia, Caroline, Ava, Emily, Dorothy, Zoe, Leah, Jane, Abigail, Samantha, Donna, Lily, Angela, Virginia, Vanessa, Kylie, Bernadette, Irene, Audrey, Michelle, Lisa, Stephanie, Claire, Carolyn, Alison, Carol, Sue, Kimberly, Faith, Jessica, Rachel, and Alexandra.\u001b[0m\n",
      "\u001b[1m> Finished chain.\u001b[0m\n"
     ]
    },
    {
     "data": {
      "text/plain": [
       "'The names of females who have white-collar jobs and a balance above 50000 are Ruth, Deirdre, Joan, Pippa, Jasmine, Rebecca, Andrea, Nicola, Elizabeth, Hannah, Mary, Jennifer, Karen, Fiona, Yvonne, Wanda, Maria, Theresa, Olivia, Penelope, Felicity, Jessica, Tracey, Anna, Wendy, Amy, Amanda, Amelia, Chloe, Anne, Lillian, Gabrielle, Madeleine, Diana, Molly, Heather, Diane, Jan, Julia, Katherine, Bella, Melanie, Megan, Rose, Natalie, Sally, Victoria, Sophie, Grace, Ella, Una, Emma, Sonia, Caroline, Ava, Emily, Dorothy, Zoe, Leah, Jane, Abigail, Samantha, Donna, Lily, Angela, Virginia, Vanessa, Kylie, Bernadette, Irene, Audrey, Michelle, Lisa, Stephanie, Claire, Carolyn, Alison, Carol, Sue, Kimberly, Faith, Jessica, Rachel, and Alexandra.'"
      ]
     },
     "execution_count": 25,
     "metadata": {},
     "output_type": "execute_result"
    }
   ],
   "source": [
    "#17\n",
    "generate(\"provide me the names of female who are hvaing white collare jobs and having balance above than 50000\")"
   ]
  },
  {
   "cell_type": "code",
   "execution_count": null,
   "metadata": {},
   "outputs": [
    {
     "name": "stdout",
     "output_type": "stream",
     "text": [
      "\n",
      "\n",
      "\u001b[1m> Entering new SQLDatabaseChain chain...\u001b[0m\n",
      "provide me the count of applicants based on their job classification\n",
      "SQLQuery:\u001b[32;1m\u001b[1;3mSELECT `Job Classification`, COUNT(`Customer ID`) AS `Applicant Count`\n",
      "FROM p6_uk_bank_customers\n",
      "GROUP BY `Job Classification`\n",
      "ORDER BY `Applicant Count` DESC;\u001b[0m\n",
      "SQLResult: \u001b[33;1m\u001b[1;3m[('White Collar', 1955), ('Blue Collar', 1049), ('Other', 1010)]\u001b[0m\n",
      "Answer:\u001b[32;1m\u001b[1;3mThere are 1955 applicants in the \"White Collar\" job classification, 1049 in the \"Blue Collar\" job classification, and 1010 in the \"Other\" job classification.\u001b[0m\n",
      "\u001b[1m> Finished chain.\u001b[0m\n"
     ]
    },
    {
     "data": {
      "text/plain": [
       "'Based on the provided information, the count of applicants based on their job classification is as follows:\\n- \"White Collar\": 1955 applicants\\n- \"Blue Collar\": 1049 applicants\\n- \"Other\": 1010 applicants'"
      ]
     },
     "execution_count": 26,
     "metadata": {},
     "output_type": "execute_result"
    }
   ],
   "source": [
    "#18\n",
    "generate(\"provide me the count of applicants based on their job classification\")"
   ]
  },
  {
   "cell_type": "code",
   "execution_count": 27,
   "metadata": {},
   "outputs": [
    {
     "name": "stdout",
     "output_type": "stream",
     "text": [
      "\n",
      "\n",
      "\u001b[1m> Entering new SQLDatabaseChain chain...\u001b[0m\n",
      "provide me the count of people who based on their balance\n",
      "SQLQuery:\u001b[32;1m\u001b[1;3mSELECT COUNT(`Customer ID`) AS `Count`, \n",
      "\tCASE\n",
      "\t\tWHEN `Balance` < 50000 THEN 'Low Balance'\n",
      "\t\tWHEN `Balance` >= 50000 AND `Balance` < 100000 THEN 'Medium Balance'\n",
      "\t\tELSE 'High Balance'\n",
      "\tEND AS `Balance Category`\n",
      "FROM p6_uk_bank_customers\n",
      "GROUP BY `Balance Category`\n",
      "ORDER BY `Count` DESC;\u001b[0m\n",
      "SQLResult: \u001b[33;1m\u001b[1;3m[(2736, 'Low Balance'), (1105, 'Medium Balance'), (173, 'High Balance')]\u001b[0m\n",
      "Answer:\u001b[32;1m\u001b[1;3mThere are 2736 people with Low Balance, 1105 people with Medium Balance, and 173 people with High Balance based on their balance.\u001b[0m\n",
      "\u001b[1m> Finished chain.\u001b[0m\n"
     ]
    },
    {
     "data": {
      "text/plain": [
       "'Based on the provided information, the count of people based on their balance is as follows:\\n- 2736 people with Low Balance\\n- 1105 people with Medium Balance\\n- 173 people with High Balance'"
      ]
     },
     "execution_count": 27,
     "metadata": {},
     "output_type": "execute_result"
    }
   ],
   "source": [
    "#19\n",
    "generate(\"provide me the count of people who based on their balance\")"
   ]
  },
  {
   "cell_type": "code",
   "execution_count": 28,
   "metadata": {},
   "outputs": [
    {
     "name": "stdout",
     "output_type": "stream",
     "text": [
      "\n",
      "\n",
      "\u001b[1m> Entering new SQLDatabaseChain chain...\u001b[0m\n",
      "provide me the names of people whose first letter is J\n",
      "SQLQuery:\u001b[32;1m\u001b[1;3mSELECT `Name`\n",
      "FROM p6_uk_bank_customers\n",
      "WHERE `Name` LIKE 'J%'\n",
      "LIMIT 2500;\u001b[0m\n",
      "SQLResult: \u001b[33;1m\u001b[1;3m[('Jasmine',), ('Jason',), ('Jennifer',), ('Jake',), ('Jake',), ('Jason',), ('Joan',), ('Jack',), ('Jasmine',), ('Jane',), ('Joshua',), ('Joe',), ('Jacob',), ('John',), ('Jonathan',), ('James',), ('Jacob',), ('Justin',), ('John',), ('Jason',), ('Jane',), ('James',), ('Jennifer',), ('Jasmine',), ('Jessica',), ('Jessica',), ('John',), ('Justin',), ('James',), ('Julian',), ('Justin',), ('James',), ('Jake',), ('Joe',), ('Joseph',), ('John',), ('Jessica',), ('John',), ('Joanne',), ('Jonathan',), ('Jake',), ('Jasmine',), ('Joseph',), ('Jake',), ('Joshua',), ('Joan',), ('Joshua',), ('John',), ('Jasmine',), ('Joe',), ('Joseph',), ('Julia',), ('Jacob',), ('Jake',), ('Joshua',), ('Jan',), ('Justin',), ('Jake',), ('Jasmine',), ('James',), ('Joan',), ('James',), ('Joan',), ('Justin',), ('Julian',), ('Jacob',), ('Jonathan',), ('Julia',), ('Jason',), ('Jasmine',), ('Joan',), ('Julia',), ('Julia',), ('Jan',), ('Jacob',), ('Joanne',), ('James',), ('Joanne',), ('Julian',), ('Joan',), ('Joe',), ('Julian',), ('Jane',), ('Jasmine',), ('Jennifer',), ('Joan',), ('John',), ('Jake',), ('Jacob',), ('Jacob',), ('Jason',), ('Joshua',), ('Joshua',), ('Jan',), ('Julia',), ('James',), ('Justin',), ('John',), ('James',), ('Joshua',), ('John',), ('Jan',), ('Joanne',), ('Joanne',), ('Julia',), ('Jason',), ('Joe',), ('Jasmine',), ('Joshua',), ('Jason',), ('John',), ('James',), ('Jason',), ('John',), ('Jack',), ('James',), ('Justin',), ('Joshua',), ('Julia',), ('Jason',), ('Joan',), ('Joe',), ('Jan',), ('Jake',), ('Jake',), ('Julian',), ('Joseph',), ('Justin',), ('Jessica',), ('Joe',), ('Julian',), ('Julia',), ('Jennifer',), ('Jessica',), ('Jessica',), ('Justin',), ('Jacob',), ('Joan',), ('Jason',), ('Joe',), ('Jessica',), ('Joan',), ('Julian',), ('Jacob',), ('Julia',), ('Jan',), ('Julia',), ('Joshua',), ('Joan',), ('John',), ('Jack',), ('Julia',), ('Jack',), ('Joseph',), ('Julia',), ('Joan',), ('Jane',), ('Jacob',), ('Joanne',), ('Jake',), ('Jonathan',), ('Jack',), ('Julian',), ('Julian',), ('Jonathan',), ('Jane',), ('John',), ('Jack',), ('Joseph',), ('Joan',), ('Joe',), ('Jan',), ('Jane',), ('Joshua',), ('Jake',), ('Justin',), ('Jake',), ('Jasmine',), ('Jack',), ('Joshua',), ('Jack',), ('Joanne',), ('Jason',), ('Jessica',), ('Jason',), ('Jasmine',), ('Julia',), ('Jessica',), ('Jane',), ('Jake',), ('Jonathan',), ('Jonathan',), ('Jennifer',), ('Joseph',), ('Joan',), ('Jack',), ('James',), ('Joanne',), ('Julian',), ('Jack',), ('Justin',), ('Jonathan',), ('John',), ('Julian',), ('John',), ('Jack',), ('James',), ('Jake',), ('Jacob',), ('Jonathan',), ('James',), ('Joanne',), ('Jan',), ('Jonathan',), ('Joan',), ('Jonathan',), ('James',), ('Jake',), ('Jan',), ('Jacob',), ('Joan',), ('Jan',), ('Jasmine',), ('Justin',), ('Jason',), ('John',), ('Jacob',), ('Joshua',), ('Julian',), ('Joseph',), ('Julian',), ('Julia',), ('Jasmine',), ('Jason',), ('Jasmine',), ('Jan',), ('Joshua',), ('James',), ('John',), ('Justin',), ('Jason',), ('James',), ('Jasmine',), ('Jason',), ('Jane',), ('Jasmine',), ('Joe',), ('Jonathan',), ('Jason',), ('Julian',), ('Jason',), ('Joanne',), ('Jason',), ('Jane',), ('Jonathan',), ('Joan',), ('Jan',), ('James',), ('Joseph',), ('Joan',), ('Jane',), ('Jasmine',), ('Joseph',), ('Jonathan',), ('Jasmine',), ('Justin',), ('Justin',), ('Joshua',), ('Joseph',), ('Jack',), ('Joshua',), ('Jack',), ('Jonathan',), ('Jan',), ('Jennifer',), ('Jennifer',), ('James',), ('Jacob',), ('James',), ('Joanne',), ('Joshua',), ('James',), ('Jack',), ('James',), ('Justin',), ('Jason',), ('Joshua',), ('Jane',), ('James',), ('Jacob',), ('Jennifer',), ('Joan',), ('Jessica',), ('Jasmine',), ('Jane',), ('Jane',), ('Julia',), ('Jessica',), ('Jasmine',), ('Jonathan',), ('Joan',), ('Jasmine',), ('Jason',), ('Jasmine',), ('Joseph',), ('Jason',), ('Jason',), ('Jennifer',), ('Jason',), ('Justin',), ('Jacob',), ('John',), ('Jasmine',), ('Joan',), ('Jason',), ('Jan',), ('Jennifer',), ('Joe',), ('John',), ('Jonathan',), ('Jessica',), ('Jake',), ('Jack',), ('Julian',), ('Justin',), ('John',), ('Justin',), ('John',), ('Joseph',), ('John',), ('Jane',), ('Jake',), ('Julia',), ('Jacob',), ('Joshua',), ('Jane',), ('John',), ('Jack',), ('Jake',), ('Julian',), ('Jessica',), ('Jessica',), ('Jake',), ('Julian',), ('Jasmine',), ('Jan',), ('Jason',), ('Jacob',), ('John',), ('Joseph',), ('Jasmine',), ('Jacob',), ('Jennifer',), ('Joshua',), ('Jacob',), ('Joshua',), ('Julian',), ('Jan',), ('Jan',), ('Joanne',), ('John',), ('Justin',), ('Jacob',), ('James',), ('Jessica',), ('Jane',), ('Jason',), ('Jason',), ('Jonathan',), ('Jennifer',), ('Julian',), ('Jason',), ('Justin',), ('Jonathan',), ('Jason',), ('Jack',), ('Justin',), ('Joe',), ('Jane',), ('Jennifer',), ('Jake',), ('Jake',), ('John',), ('Joe',), ('Jennifer',), ('Joshua',), ('Jacob',), ('Jane',), ('Jonathan',), ('Joan',), ('Jake',), ('Jennifer',), ('John',), ('John',), ('Jack',), ('Jasmine',), ('Joshua',), ('Jasmine',), ('Jason',), ('Jonathan',), ('Jason',), ('James',), ('Jason',), ('Julia',), ('Joan',), ('Julian',), ('Jan',), ('Jason',), ('Justin',), ('Jake',), ('Joseph',), ('Jane',), ('Joan',), ('Jan',), ('James',), ('Justin',), ('Joe',), ('Jane',), ('John',), ('Jan',), ('Jake',), ('Joshua',), ('Julian',), ('Joseph',), ('Julian',), ('Joanne',), ('Joseph',), ('Joan',), ('John',), ('Jennifer',), ('Jasmine',), ('Joshua',), ('Jake',), ('Jake',), ('Jessica',), ('Jasmine',), ('Joanne',), ('John',), ('Jan',), ('Jason',), ('Joanne',), ('Jake',), ('Jack',), ('Jonathan',), ('Jonathan',), ('Jessica',), ('Jan',), ('Jack',), ('Jessica',), ('Julia',), ('James',), ('Jacob',), ('Jennifer',), ('Julia',), ('Julia',), ('Joanne',), ('Julia',), ('Jane',), ('Jason',), ('Jake',), ('Jennifer',), ('Joseph',), ('John',), ('Jacob',), ('Joe',), ('Julian',), ('Joan',), ('John',), ('Joshua',), ('John',), ('John',), ('Jason',), ('Jack',), ('Joanne',), ('Justin',), ('Joanne',), ('James',), ('Jason',), ('Jason',), ('Jake',), ('Julia',), ('Joseph',), ('Joshua',), ('Joseph',), ('James',), ('James',), ('Jan',), ('Julian',), ('Joshua',), ('Jason',), ('Jonathan',), ('Jane',), ('Jasmine',), ('Joan',), ('John',), ('Jason',), ('Jonathan',), ('Julian',), ('Jack',), ('Joshua',), ('Jonathan',), ('Joe',), ('Jonathan',), ('Joshua',), ('Joseph',), ('Jane',), ('Joshua',), ('Joe',), ('Jack',), ('Joshua',), ('James',), ('Jackson',), ('Jake',), ('Jason',), ('Joshua',), ('John',), ('Jane',), ('Joanne',), ('Jacob',), ('Jacob',), ('Joseph',), ('Joe',), ('John',), ('Jane',), ('John',)]\u001b[0m\n",
      "Answer:\u001b[32;1m\u001b[1;3mJasmine, Jason, Jennifer, Jake, Joan, Jack, Jane, Joshua, Joe, Jacob, John, Jonathan, James, Justin, Julian, Julia, Jessica, Joanne, Joseph, Jan\u001b[0m\n",
      "\u001b[1m> Finished chain.\u001b[0m\n"
     ]
    },
    {
     "data": {
      "text/plain": [
       "'Jason, Jennifer, Jake, Joan, Jack, Jane, Joshua, Joe, Jacob, John, Jonathan, James, Justin, Julian, Julia, Jessica, Joanne, Joseph, Jan'"
      ]
     },
     "execution_count": 28,
     "metadata": {},
     "output_type": "execute_result"
    }
   ],
   "source": [
    "#20\n",
    "generate(\"provide me the names of people whose first letter is J\")"
   ]
  }
 ],
 "metadata": {
  "kernelspec": {
   "display_name": "Python 3",
   "language": "python",
   "name": "python3"
  },
  "language_info": {
   "codemirror_mode": {
    "name": "ipython",
    "version": 3
   },
   "file_extension": ".py",
   "mimetype": "text/x-python",
   "name": "python",
   "nbconvert_exporter": "python",
   "pygments_lexer": "ipython3",
   "version": "3.12.8"
  }
 },
 "nbformat": 4,
 "nbformat_minor": 2
}
